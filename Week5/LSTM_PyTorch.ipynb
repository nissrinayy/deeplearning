{
  "nbformat": 4,
  "nbformat_minor": 0,
  "metadata": {
    "colab": {
      "provenance": [],
      "gpuType": "T4",
      "authorship_tag": "ABX9TyNMAPPGIPEYg9ZhgoOpTEol",
      "include_colab_link": true
    },
    "kernelspec": {
      "name": "python3",
      "display_name": "Python 3"
    },
    "language_info": {
      "name": "python"
    },
    "accelerator": "GPU"
  },
  "cells": [
    {
      "cell_type": "markdown",
      "metadata": {
        "id": "view-in-github",
        "colab_type": "text"
      },
      "source": [
        "<a href=\"https://colab.research.google.com/github/nissrinayy/deeplearning/blob/main/Week5/LSTM_PyTorch.ipynb\" target=\"_parent\"><img src=\"https://colab.research.google.com/assets/colab-badge.svg\" alt=\"Open In Colab\"/></a>"
      ]
    },
    {
      "cell_type": "markdown",
      "source": [
        "# **LSTM Model PyTorch : ReviewTokoBaju.csv Dataset😶‍🌫️**"
      ],
      "metadata": {
        "id": "q3Jxi4BXVPCc"
      }
    },
    {
      "cell_type": "markdown",
      "source": [
        "LSTM adalah jenis RNN yang lebih canggih dan dirancang untuk mengatasi masalah vanishing gradient dengan menggunakan tiga gerbang utama: gerbang input (input gate), gerbang lupa (forget gate), dan gerbang output (output gate). Gerbang-gerbang ini membantu LSTM untuk mengingat informasi dalam jangka panjang dan membuang informasi yang tidak relevan. LSTM sangat efektif dalam menangani masalah ketergantungan jangka panjang."
      ],
      "metadata": {
        "id": "Y1ccuoBJVcpo"
      }
    },
    {
      "cell_type": "code",
      "execution_count": 1,
      "metadata": {
        "id": "esvpvdQZQ7MO"
      },
      "outputs": [],
      "source": [
        "import pandas as pd\n",
        "import re\n",
        "import torch\n",
        "from sklearn.model_selection import train_test_split\n",
        "from sklearn.feature_extraction.text import TfidfVectorizer\n",
        "from torch.utils.data import DataLoader, TensorDataset\n",
        "from sklearn.metrics import accuracy_score, precision_score, recall_score, f1_score, roc_auc_score, confusion_matrix, roc_curve\n",
        "import matplotlib.pyplot as plt\n",
        "from sklearn.metrics import roc_auc_score\n"
      ]
    },
    {
      "cell_type": "code",
      "source": [
        "# Load the dataset\n",
        "file_path = '/content/ReviewTokoBaju.csv'\n",
        "data = pd.read_csv(file_path)"
      ],
      "metadata": {
        "id": "_TxZgVfHRDZp"
      },
      "execution_count": 2,
      "outputs": []
    },
    {
      "cell_type": "markdown",
      "source": [
        "## PreProcessing"
      ],
      "metadata": {
        "id": "ImVGKzTTVkE6"
      }
    },
    {
      "cell_type": "code",
      "source": [
        "# Preprocessing function to clean the text\n",
        "def clean_text(text):\n",
        "    text = re.sub(r'<.*?>', '', text)  # Remove HTML tags\n",
        "    text = re.sub(r'[^\\w\\s]', '', text)  # Remove punctuation\n",
        "    text = text.lower()  # Convert to lowercase\n",
        "    return text\n"
      ],
      "metadata": {
        "id": "A7pt50NYRSl4"
      },
      "execution_count": 3,
      "outputs": []
    },
    {
      "cell_type": "code",
      "source": [
        "# Clean the Review Text column\n",
        "data['cleaned_review'] = data['Review Text'].apply(lambda x: clean_text(str(x)))\n"
      ],
      "metadata": {
        "id": "SiDDtQboRU9i"
      },
      "execution_count": 4,
      "outputs": []
    },
    {
      "cell_type": "code",
      "source": [
        "# Filter out rows where the Review Text is missing\n",
        "data = data.dropna(subset=['cleaned_review'])\n"
      ],
      "metadata": {
        "id": "m-xz0YzxRX-A"
      },
      "execution_count": 5,
      "outputs": []
    },
    {
      "cell_type": "code",
      "source": [
        "# Extract features and target\n",
        "X = data['cleaned_review'].values\n",
        "y = data['Recommended IND'].values\n"
      ],
      "metadata": {
        "id": "nb7NOBHgRajG"
      },
      "execution_count": 6,
      "outputs": []
    },
    {
      "cell_type": "code",
      "source": [
        "# Split the dataset into training and testing sets\n",
        "X_train, X_test, y_train, y_test = train_test_split(X, y, test_size=0.2, random_state=42)\n"
      ],
      "metadata": {
        "id": "Z1YM5qGbRcvl"
      },
      "execution_count": 7,
      "outputs": []
    },
    {
      "cell_type": "code",
      "source": [
        "# Convert text to numerical format using TF-IDF\n",
        "vectorizer = TfidfVectorizer(max_features=5000)\n",
        "X_train_tfidf = vectorizer.fit_transform(X_train).toarray()\n",
        "X_test_tfidf = vectorizer.transform(X_test).toarray()\n"
      ],
      "metadata": {
        "id": "oViJ49jgRevI"
      },
      "execution_count": 8,
      "outputs": []
    },
    {
      "cell_type": "code",
      "source": [
        "# Convert to PyTorch tensors\n",
        "X_train_tensor = torch.tensor(X_train_tfidf, dtype=torch.float32)\n",
        "X_test_tensor = torch.tensor(X_test_tfidf, dtype=torch.float32)\n",
        "y_train_tensor = torch.tensor(y_train, dtype=torch.long)\n",
        "y_test_tensor = torch.tensor(y_test, dtype=torch.long)\n"
      ],
      "metadata": {
        "id": "Zx4lZeKsRhLu"
      },
      "execution_count": 9,
      "outputs": []
    },
    {
      "cell_type": "code",
      "source": [
        "# Create DataLoader for batching\n",
        "train_data = TensorDataset(X_train_tensor, y_train_tensor)\n",
        "test_data = TensorDataset(X_test_tensor, y_test_tensor)\n"
      ],
      "metadata": {
        "id": "_5gfpg3GRjbC"
      },
      "execution_count": 10,
      "outputs": []
    },
    {
      "cell_type": "code",
      "source": [
        "train_loader = DataLoader(train_data, batch_size=64, shuffle=True)\n",
        "test_loader = DataLoader(test_data, batch_size=64, shuffle=False)\n"
      ],
      "metadata": {
        "id": "eWSofKsBRlT_"
      },
      "execution_count": 11,
      "outputs": []
    },
    {
      "cell_type": "code",
      "source": [
        "# Check the shape of the prepared data\n",
        "print(X_train_tfidf.shape, X_test_tfidf.shape)"
      ],
      "metadata": {
        "colab": {
          "base_uri": "https://localhost:8080/"
        },
        "id": "FZbthzEoRm8j",
        "outputId": "47ae2c38-ca5f-461e-8f5b-4681dda290c7"
      },
      "execution_count": 12,
      "outputs": [
        {
          "output_type": "stream",
          "name": "stdout",
          "text": [
            "(18788, 5000) (4698, 5000)\n"
          ]
        }
      ]
    },
    {
      "cell_type": "code",
      "source": [],
      "metadata": {
        "id": "Laa77rIrRo46"
      },
      "execution_count": null,
      "outputs": []
    },
    {
      "cell_type": "markdown",
      "source": [
        "## Build LSTM Model"
      ],
      "metadata": {
        "id": "FXISDi-fRqyd"
      }
    },
    {
      "cell_type": "code",
      "source": [
        "class LSTMModel(torch.nn.Module):\n",
        "    def __init__(self, input_size, hidden_size, num_layers, num_classes):\n",
        "        super(LSTMModel, self).__init__()\n",
        "        self.lstm = torch.nn.LSTM(input_size, hidden_size, num_layers, batch_first=True)\n",
        "        self.fc = torch.nn.Linear(hidden_size, num_classes)\n",
        "\n",
        "    def forward(self, x):\n",
        "        # Passing input through LSTM layer\n",
        "        out, _ = self.lstm(x)\n",
        "        out = out[:, -1, :]  # Get the output of the last timestep\n",
        "        out = self.fc(out)  # Output to fully connected layer\n",
        "        return out"
      ],
      "metadata": {
        "id": "kdbx7GuQRuaQ"
      },
      "execution_count": 13,
      "outputs": []
    },
    {
      "cell_type": "code",
      "source": [
        "import numpy as np\n",
        "\n",
        "# Define model parameters\n",
        "input_size = X_train_tensor.shape[1]  # Number of features in input\n",
        "hidden_size = 64\n",
        "num_layers = 2\n",
        "num_classes = len(np.unique(y_train))  # Number of output classes (0 or 1)\n",
        "learning_rate = 0.001\n",
        "num_epochs = 20\n"
      ],
      "metadata": {
        "id": "IQKQKLh1RwTb"
      },
      "execution_count": 15,
      "outputs": []
    },
    {
      "cell_type": "code",
      "source": [
        "# Model, loss function, and optimizer\n",
        "model = LSTMModel(input_size, hidden_size, num_layers, num_classes)\n",
        "criterion = torch.nn.CrossEntropyLoss()  # For classification\n",
        "optimizer = torch.optim.Adam(model.parameters(), lr=learning_rate)"
      ],
      "metadata": {
        "id": "mPApWvOeRyJT"
      },
      "execution_count": 16,
      "outputs": []
    },
    {
      "cell_type": "markdown",
      "source": [
        "## Training Model"
      ],
      "metadata": {
        "id": "6ls1sBQOSBjw"
      }
    },
    {
      "cell_type": "code",
      "source": [
        "# Reshape X_train_tensor and X_test_tensor to have 3 dimensions\n",
        "X_train_tensor = X_train_tensor.unsqueeze(1)  # Add sequence dimension (1)\n",
        "X_test_tensor = X_test_tensor.unsqueeze(1)    # Add sequence dimension (1)\n"
      ],
      "metadata": {
        "id": "kDeAlhImSmSJ"
      },
      "execution_count": 19,
      "outputs": []
    },
    {
      "cell_type": "code",
      "source": [
        "# Training Loop\n",
        "train_losses = []\n",
        "test_losses = []"
      ],
      "metadata": {
        "id": "YVVyqmQdR_WP"
      },
      "execution_count": 20,
      "outputs": []
    },
    {
      "cell_type": "code",
      "source": [
        "for epoch in range(num_epochs):\n",
        "    model.train()\n",
        "    optimizer.zero_grad()\n",
        "    outputs = model(X_train_tensor)\n",
        "    loss = criterion(outputs, y_train_tensor)\n",
        "    loss.backward()\n",
        "    optimizer.step()\n",
        "\n",
        "    train_losses.append(loss.item())\n",
        "\n",
        "    model.eval()\n",
        "    with torch.no_grad():\n",
        "        test_outputs = model(X_test_tensor)\n",
        "        test_loss = criterion(test_outputs, y_test_tensor)\n",
        "        test_losses.append(test_loss.item())\n",
        "\n",
        "    print(f\"Epoch [{epoch+1}/{num_epochs}], Train Loss: {loss.item():.4f}, Test Loss: {test_loss.item():.4f}\")"
      ],
      "metadata": {
        "colab": {
          "base_uri": "https://localhost:8080/"
        },
        "id": "XQN5MLh2SGF4",
        "outputId": "71b32f72-b2a0-4113-a30f-43798a9185be"
      },
      "execution_count": 21,
      "outputs": [
        {
          "output_type": "stream",
          "name": "stdout",
          "text": [
            "Epoch [1/20], Train Loss: 0.6651, Test Loss: 0.6625\n",
            "Epoch [2/20], Train Loss: 0.6621, Test Loss: 0.6596\n",
            "Epoch [3/20], Train Loss: 0.6591, Test Loss: 0.6567\n",
            "Epoch [4/20], Train Loss: 0.6562, Test Loss: 0.6537\n",
            "Epoch [5/20], Train Loss: 0.6532, Test Loss: 0.6508\n",
            "Epoch [6/20], Train Loss: 0.6502, Test Loss: 0.6478\n",
            "Epoch [7/20], Train Loss: 0.6472, Test Loss: 0.6448\n",
            "Epoch [8/20], Train Loss: 0.6442, Test Loss: 0.6418\n",
            "Epoch [9/20], Train Loss: 0.6411, Test Loss: 0.6387\n",
            "Epoch [10/20], Train Loss: 0.6379, Test Loss: 0.6355\n",
            "Epoch [11/20], Train Loss: 0.6347, Test Loss: 0.6323\n",
            "Epoch [12/20], Train Loss: 0.6314, Test Loss: 0.6289\n",
            "Epoch [13/20], Train Loss: 0.6280, Test Loss: 0.6255\n",
            "Epoch [14/20], Train Loss: 0.6245, Test Loss: 0.6219\n",
            "Epoch [15/20], Train Loss: 0.6209, Test Loss: 0.6182\n",
            "Epoch [16/20], Train Loss: 0.6171, Test Loss: 0.6144\n",
            "Epoch [17/20], Train Loss: 0.6132, Test Loss: 0.6104\n",
            "Epoch [18/20], Train Loss: 0.6092, Test Loss: 0.6062\n",
            "Epoch [19/20], Train Loss: 0.6050, Test Loss: 0.6019\n",
            "Epoch [20/20], Train Loss: 0.6006, Test Loss: 0.5974\n"
          ]
        }
      ]
    },
    {
      "cell_type": "code",
      "source": [
        "# Predicting on test set\n",
        "model.eval()\n",
        "with torch.no_grad():\n",
        "    predictions = model(X_test_tensor)\n",
        "    predicted_classes = torch.argmax(predictions, dim=1)\n"
      ],
      "metadata": {
        "id": "7BqUE7VzSI61"
      },
      "execution_count": 22,
      "outputs": []
    },
    {
      "cell_type": "code",
      "source": [
        "# Metrics Calculation\n",
        "accuracy = accuracy_score(y_test, predicted_classes)\n",
        "precision = precision_score(y_test, predicted_classes, average='weighted')\n",
        "recall = recall_score(y_test, predicted_classes, average='weighted')\n",
        "f1 = f1_score(y_test, predicted_classes, average='weighted')\n",
        "roc_auc = roc_auc_score(y_test, predicted_classes)\n"
      ],
      "metadata": {
        "colab": {
          "base_uri": "https://localhost:8080/"
        },
        "id": "e6sD1oO-UTUz",
        "outputId": "520c6387-41c6-4a02-c7ea-d499071ed20b"
      },
      "execution_count": 23,
      "outputs": [
        {
          "output_type": "stream",
          "name": "stderr",
          "text": [
            "/usr/local/lib/python3.11/dist-packages/sklearn/metrics/_classification.py:1565: UndefinedMetricWarning: Precision is ill-defined and being set to 0.0 in labels with no predicted samples. Use `zero_division` parameter to control this behavior.\n",
            "  _warn_prf(average, modifier, f\"{metric.capitalize()} is\", len(result))\n"
          ]
        }
      ]
    },
    {
      "cell_type": "code",
      "source": [
        "# Confusion Matrix\n",
        "cm = confusion_matrix(y_test, predicted_classes)\n"
      ],
      "metadata": {
        "id": "uXSBYdsRUVI3"
      },
      "execution_count": 24,
      "outputs": []
    },
    {
      "cell_type": "code",
      "source": [
        "# Printing metrics\n",
        "print(f\"Accuracy: {accuracy:.4f}\")\n",
        "print(f\"Precision: {precision:.4f}\")\n",
        "print(f\"Recall: {recall:.4f}\")\n",
        "print(f\"F1 Score: {f1:.4f}\")\n",
        "print(f\"AUC: {roc_auc:.4f}\")"
      ],
      "metadata": {
        "colab": {
          "base_uri": "https://localhost:8080/"
        },
        "id": "IFTsoSMVUXYm",
        "outputId": "900633a3-4508-43c4-b243-9e25677fe2a4"
      },
      "execution_count": 25,
      "outputs": [
        {
          "output_type": "stream",
          "name": "stdout",
          "text": [
            "Accuracy: 0.8189\n",
            "Precision: 0.6705\n",
            "Recall: 0.8189\n",
            "F1 Score: 0.7373\n",
            "AUC: 0.5000\n"
          ]
        }
      ]
    },
    {
      "cell_type": "code",
      "source": [
        "# Confusion Matrix Plot\n",
        "fig, ax = plt.subplots(figsize=(5,5))\n",
        "cax = ax.imshow(cm, interpolation='nearest', cmap=plt.cm.Blues)\n",
        "ax.set_title(\"Confusion Matrix\")\n",
        "plt.colorbar(cax)  # Add colorbar to the image (cax)\n",
        "tick_marks = np.arange(2)\n",
        "ax.set_xticks(tick_marks)\n",
        "ax.set_yticks(tick_marks)\n",
        "ax.set_xticklabels([0, 1])\n",
        "ax.set_yticklabels([0, 1])\n",
        "plt.xlabel(\"Predicted label\")\n",
        "plt.ylabel(\"True label\")\n",
        "plt.show()\n"
      ],
      "metadata": {
        "colab": {
          "base_uri": "https://localhost:8080/",
          "height": 430
        },
        "id": "l4ndT19OUZQP",
        "outputId": "46923d0c-15fe-48c3-a090-e432c524ae2f"
      },
      "execution_count": 27,
      "outputs": [
        {
          "output_type": "display_data",
          "data": {
            "text/plain": [
              "<Figure size 500x500 with 2 Axes>"
            ],
            "image/png": "[encoded data removed]"
          },
          "metadata": {}
        }
      ]
    },
    {
      "cell_type": "code",
      "source": [
        "# Plotting Train and Test Loss\n",
        "plt.figure(figsize=(8,6))\n",
        "plt.plot(range(num_epochs), train_losses, label='Train Loss')\n",
        "plt.plot(range(num_epochs), test_losses, label='Test Loss')\n",
        "plt.xlabel('Epochs')\n",
        "plt.ylabel('Loss')\n",
        "plt.title('Training and Testing Loss')\n",
        "plt.legend()\n",
        "plt.show()\n"
      ],
      "metadata": {
        "colab": {
          "base_uri": "https://localhost:8080/",
          "height": 509
        },
        "id": "dnl1ONtrUcoK",
        "outputId": "62c33321-40ab-4f15-81d3-fe78701fc90d"
      },
      "execution_count": 28,
      "outputs": [
        {
          "output_type": "display_data",
          "data": {
            "text/plain": [
              "<Figure size 800x600 with 1 Axes>"
            ],
            "image/png": "[encoded data removed]"
          },
          "metadata": {}
        }
      ]
    },
    {
      "cell_type": "markdown",
      "source": [
        "#**Penjelasan Singkat**\n",
        "\n",
        "1️⃣ Akurasi (Accuracy)\n",
        "\n",
        "Akurasi mengukur seberapa banyak prediksi yang benar dibandingkan dengan total prediksi.\n",
        "\n",
        "\n",
        "Akurasi=\n",
        "\n",
        "*TP+TN/\n",
        "TP+TN+FP+FN*\n",
        "​\n",
        "\n",
        "📌 Keterangan:\n",
        "\n",
        "TP (True Positive) → Prediksi benar sebagai positif.\n",
        "\n",
        "TN (True Negative) → Prediksi benar sebagai negatif.\n",
        "\n",
        "FP (False Positive) → Prediksi salah sebagai positif.\n",
        "\n",
        "FN (False Negative) → Prediksi salah sebagai negatif.\n",
        "\n",
        "\n",
        "2️⃣ Presisi (Precision)\n",
        "\n",
        "Presisi mengukur seberapa akurat model dalam memprediksi kelas positif.\n",
        "\n",
        "Presisi=\n",
        "*TP/\n",
        "TP+FP*\n",
        "\n",
        "\n",
        "\n",
        "📌 Keterangan:\n",
        "\n",
        "Jika model memiliki presisi tinggi, berarti model jarang salah dalam memprediksi kelas positif.\n",
        "\n",
        "Jika presisi rendah, model sering salah memprediksi negatif sebagai positif (False Positive tinggi).\n",
        "\n",
        "3️⃣ Recall (Sensitivitas)\n",
        "\n",
        "Recall mengukur seberapa baik model dalam menangkap semua kasus positif.\n",
        "\n",
        "Recall=\n",
        "*TP/\n",
        "TP+FN*\n",
        "\n",
        "\n",
        "📌 Keterangan:\n",
        "\n",
        "Jika recall tinggi, berarti model berhasil menangkap hampir semua data positif.\n",
        "Jika recall rendah, model sering gagal mengenali positif sebagai negatif (False Negative tinggi).\n",
        "\n",
        "4️⃣ F1-Score (Harmonic Mean)\n",
        "F1-score menggabungkan presisi dan recall dalam satu metrik menggunakan rata-rata harmonik.\n",
        "\n",
        "𝐹\n",
        "1\n",
        "=\n",
        "2\n",
        "×\n",
        "Presisi\n",
        "×\n",
        "Recall/\n",
        "Presisi\n",
        "+\n",
        "Recall\n",
        "\n",
        "📌 Keterangan:\n",
        "\n",
        "F1-score tinggi berarti model seimbang dalam presisi dan recall.\n",
        "\n",
        "Bagus untuk dataset tidak seimbang, karena mempertimbangkan False Positive dan False Negative secara bersamaan.\n",
        "\n",
        "5️⃣ Area Under Curve (AUC - ROC)\n",
        "AUC (Area Under Curve) mengukur seberapa baik model membedakan antara kelas positif dan negatif.\n",
        "\n",
        "AUC berasal dari ROC Curve, yang membandingkan True Positive Rate (TPR) vs False Positive Rate (FPR).\n",
        "\n",
        "TPR\n",
        "=\n",
        "𝑇\n",
        "𝑃/\n",
        "𝑇\n",
        "𝑃\n",
        "+\n",
        "𝐹\n",
        "𝑁\n",
        "\n",
        "(Sama dengan Recall)\n",
        "\n",
        "*FPR=\n",
        "FP/\n",
        "FP+TN*\n",
        "\n",
        "📌 Keterangan:\n",
        "\n",
        "AUC = 1.0 → Model sempurna (memisahkan kelas dengan sempurna).\n",
        "AUC = 0.5 → Model acak (tidak lebih baik dari tebak-tebakan).\n",
        "AUC < 0.5 → Model lebih buruk dari acak (terbalik).\n",
        "\n",
        "6️⃣ Receiver Operating Characteristic (ROC) Curve\n",
        "\n",
        "ROC Curve adalah grafik yang membandingkan TPR vs FPR pada berbagai threshold.\n",
        "\n",
        "\n",
        "Sumbu X → FPR (False Positive Rate)\n",
        "\n",
        "Sumbu Y → TPR (True Positive Rate / Recall)\n",
        "\n",
        "📌 Bagaimana membacanya?\n",
        "\n",
        "\n",
        "Semakin tinggi kurva, semakin baik model.\n",
        "\n",
        "ROC yang mendekati diagonal (AUC ≈ 0.5) berarti model tidak berguna."
      ],
      "metadata": {
        "id": "Qf6jwAnSVGcj"
      }
    }
  ]
}