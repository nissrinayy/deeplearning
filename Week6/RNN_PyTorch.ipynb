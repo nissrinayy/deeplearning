{
  "nbformat": 4,
  "nbformat_minor": 0,
  "metadata": {
    "colab": {
      "provenance": [],
      "gpuType": "T4",
      "authorship_tag": "ABX9TyPjhaxnpdI2J5ecfkfVgks+",
      "include_colab_link": true
    },
    "kernelspec": {
      "name": "python3",
      "display_name": "Python 3"
    },
    "language_info": {
      "name": "python"
    },
    "accelerator": "GPU"
  },
  "cells": [
    {
      "cell_type": "markdown",
      "metadata": {
        "id": "view-in-github",
        "colab_type": "text"
      },
      "source": [
        "<a href=\"https://colab.research.google.com/github/nissrinayy/deeplearning/blob/main/Week6/RNN_PyTorch.ipynb\" target=\"_parent\"><img src=\"https://colab.research.google.com/assets/colab-badge.svg\" alt=\"Open In Colab\"/></a>"
      ]
    },
    {
      "cell_type": "markdown",
      "source": [
        "# **RNN Model PyTorch : DeteksiSarkasme.json🍟**"
      ],
      "metadata": {
        "id": "gRO5k7s6i3yr"
      }
    },
    {
      "cell_type": "markdown",
      "source": [
        "## Instalasi dan Import Library"
      ],
      "metadata": {
        "id": "vdqLDJa9jIwr"
      }
    },
    {
      "cell_type": "code",
      "execution_count": 1,
      "metadata": {
        "id": "WyCgmkqHbgEZ"
      },
      "outputs": [],
      "source": [
        "# Import libraries\n",
        "import torch\n",
        "import torch.nn as nn\n",
        "import torch.optim as optim\n",
        "import numpy as np\n",
        "import pandas as pd\n",
        "import matplotlib.pyplot as plt\n",
        "from sklearn.metrics import confusion_matrix, classification_report\n",
        "from sklearn.model_selection import train_test_split\n",
        "from sklearn.feature_extraction.text import CountVectorizer\n",
        "import seaborn as sns\n",
        "import json"
      ]
    },
    {
      "cell_type": "code",
      "source": [
        "# GPU support\n",
        "device = torch.device(\"cuda\" if torch.cuda.is_available() else \"cpu\")\n",
        "print(f\"Using device: {device}\")\n"
      ],
      "metadata": {
        "colab": {
          "base_uri": "https://localhost:8080/"
        },
        "id": "3PyNX-o1bi8X",
        "outputId": "2c383e84-8532-44cb-c749-336ce3e02b05"
      },
      "execution_count": 2,
      "outputs": [
        {
          "output_type": "stream",
          "name": "stdout",
          "text": [
            "Using device: cuda\n"
          ]
        }
      ]
    },
    {
      "cell_type": "code",
      "source": [
        "# Load dataset\n",
        "with open('/content/Cleaned_DeteksiSarkasme.json', 'r') as f:\n",
        "    data = json.load(f)"
      ],
      "metadata": {
        "id": "sN2LEV0kb_0I"
      },
      "execution_count": 3,
      "outputs": []
    },
    {
      "cell_type": "code",
      "source": [
        "# Convert the loaded data to a DataFrame\n",
        "df = pd.DataFrame(data)\n"
      ],
      "metadata": {
        "id": "MU5gOX7wdwKr"
      },
      "execution_count": 4,
      "outputs": []
    },
    {
      "cell_type": "markdown",
      "source": [
        "## PreProcessing"
      ],
      "metadata": {
        "id": "4CMeDVV9jOcZ"
      }
    },
    {
      "cell_type": "code",
      "source": [
        "# Check if the DataFrame has been loaded correctly\n",
        "print(df.head())"
      ],
      "metadata": {
        "colab": {
          "base_uri": "https://localhost:8080/"
        },
        "id": "j4DhCCqPdybl",
        "outputId": "a1e8fca2-d5aa-47a0-c376-4fa6171097c2"
      },
      "execution_count": 5,
      "outputs": [
        {
          "output_type": "stream",
          "name": "stdout",
          "text": [
            "                                        article_link  \\\n",
            "0  https://www.huffingtonpost.com/entry/versace-b...   \n",
            "1  https://www.huffingtonpost.com/entry/roseanne-...   \n",
            "2  https://local.theonion.com/mom-starting-to-fea...   \n",
            "3  https://politics.theonion.com/boehner-just-wan...   \n",
            "4  https://www.huffingtonpost.com/entry/jk-rowlin...   \n",
            "\n",
            "                                            headline  is_sarcastic  \n",
            "0  former versace store clerk sues over secret 'b...             0  \n",
            "1  the 'roseanne' revival catches up to our thorn...             0  \n",
            "2  mom starting to fear son's web series closest ...             1  \n",
            "3  boehner just wants wife to listen, not come up...             1  \n",
            "4  j.k. rowling wishes snape happy birthday in th...             0  \n"
          ]
        }
      ]
    },
    {
      "cell_type": "code",
      "source": [
        "# Make sure the 'is_sarcastic' column is numeric\n",
        "df['is_sarcastic'] = df['is_sarcastic'].astype(int)\n"
      ],
      "metadata": {
        "id": "MOA_p8kcd4cz"
      },
      "execution_count": 6,
      "outputs": []
    },
    {
      "cell_type": "code",
      "source": [
        "# Preprocessing data\n",
        "X = df['headline'].values\n",
        "y = df['is_sarcastic'].values"
      ],
      "metadata": {
        "id": "DjOHTUjucbCZ"
      },
      "execution_count": 7,
      "outputs": []
    },
    {
      "cell_type": "code",
      "source": [
        "# Convert text data into features using CountVectorizer\n",
        "vectorizer = CountVectorizer(max_features=5000, stop_words='english')\n",
        "X_vec = vectorizer.fit_transform(X).toarray()\n"
      ],
      "metadata": {
        "id": "1N_edIJTdnDD"
      },
      "execution_count": 8,
      "outputs": []
    },
    {
      "cell_type": "code",
      "source": [
        "# Train-test split\n",
        "X_train, X_test, y_train, y_test = train_test_split(X_vec, y, test_size=0.2, random_state=42)\n"
      ],
      "metadata": {
        "id": "6Fm41U3Jd9K4"
      },
      "execution_count": 9,
      "outputs": []
    },
    {
      "cell_type": "code",
      "source": [
        "# Reshape data to fit RNN (LSTM) requirements\n",
        "X_train_tensor = torch.tensor(X_train, dtype=torch.float32).unsqueeze(1).to(device)  # Add sequence dimension\n",
        "X_test_tensor = torch.tensor(X_test, dtype=torch.float32).unsqueeze(1).to(device)    # Add sequence dimension\n",
        "y_train_tensor = torch.tensor(y_train, dtype=torch.long).to(device)\n",
        "y_test_tensor = torch.tensor(y_test, dtype=torch.long).to(device)\n"
      ],
      "metadata": {
        "id": "nF606uj7d_sb"
      },
      "execution_count": 10,
      "outputs": []
    },
    {
      "cell_type": "markdown",
      "source": [
        "## Build Model"
      ],
      "metadata": {
        "id": "AiiLrRu1jWuH"
      }
    },
    {
      "cell_type": "code",
      "source": [
        "# Define the RNN model\n",
        "class RNN(nn.Module):\n",
        "    def __init__(self, input_size, hidden_size, output_size, num_layers):\n",
        "        super(RNN, self).__init__()\n",
        "        self.lstm = nn.LSTM(input_size, hidden_size, num_layers, batch_first=True)\n",
        "        self.fc = nn.Linear(hidden_size, output_size)\n",
        "        self.softmax = nn.Softmax(dim=1)\n",
        "\n",
        "    def forward(self, x):\n",
        "        out, _ = self.lstm(x)\n",
        "        out = out[:, -1, :]  # Take the last hidden state\n",
        "        out = self.fc(out)\n",
        "        return self.softmax(out)"
      ],
      "metadata": {
        "id": "ruy6sf6HeBox"
      },
      "execution_count": 11,
      "outputs": []
    },
    {
      "cell_type": "markdown",
      "source": [
        "## Hyperparameter Tuning"
      ],
      "metadata": {
        "id": "ljhKcDfqjck2"
      }
    },
    {
      "cell_type": "code",
      "source": [
        "# Hyperparameter tuning using GridSearch\n",
        "param_grid = {\n",
        "    'learning_rate': [0.0005, 0.01],\n",
        "    'hidden_size': [64, 128],\n",
        "    'num_layers': [1, 2]\n",
        "}"
      ],
      "metadata": {
        "id": "hUAaeV4Lex_9"
      },
      "execution_count": 12,
      "outputs": []
    },
    {
      "cell_type": "code",
      "source": [
        "# Custom function to train and evaluate the model\n",
        "def train_and_evaluate(lr, hidden_size, num_layers):\n",
        "    model = RNN(input_size=5000, hidden_size=hidden_size, output_size=2, num_layers=num_layers).to(device)\n",
        "    optimizer = optim.Adam(model.parameters(), lr=lr)\n",
        "    criterion = nn.CrossEntropyLoss()\n",
        "\n",
        "    # Training loop\n",
        "    epochs = 30\n",
        "    for epoch in range(epochs):\n",
        "        model.train()\n",
        "        optimizer.zero_grad()\n",
        "        outputs = model(X_train_tensor)\n",
        "        loss = criterion(outputs, y_train_tensor)\n",
        "        loss.backward()\n",
        "        optimizer.step()\n",
        "\n",
        "    # Evaluation\n",
        "    model.eval()\n",
        "    with torch.no_grad():\n",
        "        outputs = model(X_test_tensor)\n",
        "        _, predicted = torch.max(outputs.data, 1)\n",
        "        accuracy = 100 * (predicted == y_test_tensor).sum() / len(y_test_tensor)\n",
        "        return accuracy.item()\n"
      ],
      "metadata": {
        "id": "3SnbyGw7eVjG"
      },
      "execution_count": 13,
      "outputs": []
    },
    {
      "cell_type": "code",
      "source": [
        "# Perform Grid Search for hyperparameter tuning\n",
        "best_accuracy = 0\n",
        "best_params = None"
      ],
      "metadata": {
        "id": "Pb55fQn6e-i1"
      },
      "execution_count": 14,
      "outputs": []
    },
    {
      "cell_type": "code",
      "source": [
        "from sklearn.model_selection import ParameterGrid  # Pastikan ini diimpor\n",
        "\n",
        "# Iterate over the grid search combinations\n",
        "for params in ParameterGrid(param_grid):\n",
        "    lr = params['learning_rate']\n",
        "    hidden_size = params['hidden_size']\n",
        "    num_layers = params['num_layers']\n",
        "\n",
        "    print(f\"Training model with lr={lr}, hidden_size={hidden_size}, num_layers={num_layers}\")\n",
        "    accuracy = train_and_evaluate(lr, hidden_size, num_layers)\n",
        "\n",
        "    if accuracy > best_accuracy:\n",
        "        best_accuracy = accuracy\n",
        "        best_params = (lr, hidden_size, num_layers)\n"
      ],
      "metadata": {
        "colab": {
          "base_uri": "https://localhost:8080/"
        },
        "id": "4Gg-5_EAfCEx",
        "outputId": "33909c8e-2650-4ae4-f73c-42c47fb74d84"
      },
      "execution_count": 15,
      "outputs": [
        {
          "output_type": "stream",
          "name": "stdout",
          "text": [
            "Training model with lr=0.0005, hidden_size=64, num_layers=1\n",
            "Training model with lr=0.0005, hidden_size=64, num_layers=2\n",
            "Training model with lr=0.01, hidden_size=64, num_layers=1\n",
            "Training model with lr=0.01, hidden_size=64, num_layers=2\n",
            "Training model with lr=0.0005, hidden_size=128, num_layers=1\n",
            "Training model with lr=0.0005, hidden_size=128, num_layers=2\n",
            "Training model with lr=0.01, hidden_size=128, num_layers=1\n",
            "Training model with lr=0.01, hidden_size=128, num_layers=2\n"
          ]
        }
      ]
    },
    {
      "cell_type": "code",
      "source": [
        "print(f\"Best Hyperparameters: {best_params} with accuracy: {best_accuracy}%\")\n"
      ],
      "metadata": {
        "colab": {
          "base_uri": "https://localhost:8080/"
        },
        "id": "B8dTrAIDfEtt",
        "outputId": "9162c4f1-3f68-4f0d-f6ab-846fe2eaf530"
      },
      "execution_count": 16,
      "outputs": [
        {
          "output_type": "stream",
          "name": "stdout",
          "text": [
            "Best Hyperparameters: (0.01, 64, 1) with accuracy: 77.19955444335938%\n"
          ]
        }
      ]
    },
    {
      "cell_type": "markdown",
      "source": [
        "## Train Model"
      ],
      "metadata": {
        "id": "nDKLftBQjkuq"
      }
    },
    {
      "cell_type": "code",
      "source": [
        "# Train the best model with the best hyperparameters\n",
        "best_lr, best_hidden_size, best_num_layers = best_params\n",
        "best_model = RNN(input_size=5000, hidden_size=best_hidden_size, output_size=2, num_layers=best_num_layers).to(device)\n",
        "optimizer = optim.Adam(best_model.parameters(), lr=best_lr)\n",
        "criterion = nn.CrossEntropyLoss()\n"
      ],
      "metadata": {
        "id": "yqkixXHnfTQS"
      },
      "execution_count": 17,
      "outputs": []
    },
    {
      "cell_type": "code",
      "source": [
        "# Train the best model\n",
        "epochs = 30\n",
        "for epoch in range(epochs):\n",
        "    best_model.train()\n",
        "    optimizer.zero_grad()\n",
        "    outputs = best_model(X_train_tensor)\n",
        "    loss = criterion(outputs, y_train_tensor)\n",
        "    loss.backward()\n",
        "    optimizer.step()"
      ],
      "metadata": {
        "id": "3PISahVOfWs8"
      },
      "execution_count": 18,
      "outputs": []
    },
    {
      "cell_type": "markdown",
      "source": [
        "## Evaluate"
      ],
      "metadata": {
        "id": "a34JLUeVjnlU"
      }
    },
    {
      "cell_type": "code",
      "source": [
        "# Evaluate the best model\n",
        "best_model.eval()\n",
        "with torch.no_grad():\n",
        "    outputs = best_model(X_test_tensor)\n",
        "    _, predicted = torch.max(outputs.data, 1)\n",
        "\n",
        "    # Accuracy\n",
        "    accuracy = 100 * (predicted == y_test_tensor).sum() / len(y_test_tensor)\n",
        "    print(f'Accuracy on test set: {accuracy.item():.2f}%')\n",
        "\n",
        "    # Confusion Matrix and Classification Report\n",
        "    cm = confusion_matrix(y_test_tensor.cpu(), predicted.cpu())\n",
        "    sns.heatmap(cm, annot=True, fmt=\"d\", cmap='Blues')\n",
        "    plt.show()\n",
        "\n",
        "    print(classification_report(y_test_tensor.cpu(), predicted.cpu()))"
      ],
      "metadata": {
        "colab": {
          "base_uri": "https://localhost:8080/",
          "height": 604
        },
        "id": "pGYwDZAmfZOL",
        "outputId": "8a0acecd-b98e-4218-c3f6-f15dc6f94fd6"
      },
      "execution_count": 19,
      "outputs": [
        {
          "output_type": "stream",
          "name": "stdout",
          "text": [
            "Accuracy on test set: 77.20%\n"
          ]
        },
        {
          "output_type": "display_data",
          "data": {
            "text/plain": [
              "<Figure size 640x480 with 2 Axes>"
            ],
            "image/png": "[encoded data removed]"
          },
          "metadata": {}
        },
        {
          "output_type": "stream",
          "name": "stdout",
          "text": [
            "              precision    recall  f1-score   support\n",
            "\n",
            "           0       0.78      0.82      0.80      2996\n",
            "           1       0.75      0.71      0.73      2346\n",
            "\n",
            "    accuracy                           0.77      5342\n",
            "   macro avg       0.77      0.77      0.77      5342\n",
            "weighted avg       0.77      0.77      0.77      5342\n",
            "\n"
          ]
        }
      ]
    },
    {
      "cell_type": "code",
      "source": [],
      "metadata": {
        "id": "955iC1IRfcun"
      },
      "execution_count": 19,
      "outputs": []
    }
  ]
}