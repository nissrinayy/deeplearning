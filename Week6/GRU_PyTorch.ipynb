{
  "cells": [
    {
      "cell_type": "markdown",
      "metadata": {
        "id": "view-in-github",
        "colab_type": "text"
      },
      "source": [
        "<a href=\"https://colab.research.google.com/github/nissrinayy/deeplearning/blob/main/Week6/GRU_PyTorch.ipynb\" target=\"_parent\"><img src=\"https://colab.research.google.com/assets/colab-badge.svg\" alt=\"Open In Colab\"/></a>"
      ]
    },
    {
      "cell_type": "markdown",
      "source": [
        "#**GRU Model wit PyTorch 🏡: DeteksiSarkasme.json Dataset**"
      ],
      "metadata": {
        "id": "MtxCbXiuKyLZ"
      }
    },
    {
      "cell_type": "markdown",
      "source": [
        "##Install Necessary Packages"
      ],
      "metadata": {
        "id": "GklUxUFTLEk2"
      }
    },
    {
      "cell_type": "code",
      "execution_count": 1,
      "metadata": {
        "colab": {
          "base_uri": "https://localhost:8080/"
        },
        "id": "uAFXa623Http",
        "outputId": "b73aebdf-4ab3-402e-8c4d-1d5f5d0b9acb"
      },
      "outputs": [
        {
          "output_type": "stream",
          "name": "stdout",
          "text": [
            "Requirement already satisfied: torch in /usr/local/lib/python3.11/dist-packages (2.6.0+cu124)\n",
            "Requirement already satisfied: torchvision in /usr/local/lib/python3.11/dist-packages (0.21.0+cu124)\n",
            "Requirement already satisfied: torchaudio in /usr/local/lib/python3.11/dist-packages (2.6.0+cu124)\n",
            "Requirement already satisfied: filelock in /usr/local/lib/python3.11/dist-packages (from torch) (3.18.0)\n",
            "Requirement already satisfied: typing-extensions>=4.10.0 in /usr/local/lib/python3.11/dist-packages (from torch) (4.13.1)\n",
            "Requirement already satisfied: networkx in /usr/local/lib/python3.11/dist-packages (from torch) (3.4.2)\n",
            "Requirement already satisfied: jinja2 in /usr/local/lib/python3.11/dist-packages (from torch) (3.1.6)\n",
            "Requirement already satisfied: fsspec in /usr/local/lib/python3.11/dist-packages (from torch) (2025.3.2)\n",
            "Requirement already satisfied: nvidia-cuda-nvrtc-cu12==12.4.127 in /usr/local/lib/python3.11/dist-packages (from torch) (12.4.127)\n",
            "Requirement already satisfied: nvidia-cuda-runtime-cu12==12.4.127 in /usr/local/lib/python3.11/dist-packages (from torch) (12.4.127)\n",
            "Requirement already satisfied: nvidia-cuda-cupti-cu12==12.4.127 in /usr/local/lib/python3.11/dist-packages (from torch) (12.4.127)\n",
            "Requirement already satisfied: nvidia-cudnn-cu12==9.1.0.70 in /usr/local/lib/python3.11/dist-packages (from torch) (9.1.0.70)\n",
            "Requirement already satisfied: nvidia-cublas-cu12==12.4.5.8 in /usr/local/lib/python3.11/dist-packages (from torch) (12.4.5.8)\n",
            "Requirement already satisfied: nvidia-cufft-cu12==11.2.1.3 in /usr/local/lib/python3.11/dist-packages (from torch) (11.2.1.3)\n",
            "Requirement already satisfied: nvidia-curand-cu12==10.3.5.147 in /usr/local/lib/python3.11/dist-packages (from torch) (10.3.5.147)\n",
            "Requirement already satisfied: nvidia-cusolver-cu12==11.6.1.9 in /usr/local/lib/python3.11/dist-packages (from torch) (11.6.1.9)\n",
            "Requirement already satisfied: nvidia-cusparse-cu12==12.3.1.170 in /usr/local/lib/python3.11/dist-packages (from torch) (12.3.1.170)\n",
            "Requirement already satisfied: nvidia-cusparselt-cu12==0.6.2 in /usr/local/lib/python3.11/dist-packages (from torch) (0.6.2)\n",
            "Requirement already satisfied: nvidia-nccl-cu12==2.21.5 in /usr/local/lib/python3.11/dist-packages (from torch) (2.21.5)\n",
            "Requirement already satisfied: nvidia-nvtx-cu12==12.4.127 in /usr/local/lib/python3.11/dist-packages (from torch) (12.4.127)\n",
            "Requirement already satisfied: nvidia-nvjitlink-cu12==12.4.127 in /usr/local/lib/python3.11/dist-packages (from torch) (12.4.127)\n",
            "Requirement already satisfied: triton==3.2.0 in /usr/local/lib/python3.11/dist-packages (from torch) (3.2.0)\n",
            "Requirement already satisfied: sympy==1.13.1 in /usr/local/lib/python3.11/dist-packages (from torch) (1.13.1)\n",
            "Requirement already satisfied: mpmath<1.4,>=1.1.0 in /usr/local/lib/python3.11/dist-packages (from sympy==1.13.1->torch) (1.3.0)\n",
            "Requirement already satisfied: numpy in /usr/local/lib/python3.11/dist-packages (from torchvision) (2.0.2)\n",
            "Requirement already satisfied: pillow!=8.3.*,>=5.3.0 in /usr/local/lib/python3.11/dist-packages (from torchvision) (11.1.0)\n",
            "Requirement already satisfied: MarkupSafe>=2.0 in /usr/local/lib/python3.11/dist-packages (from jinja2->torch) (3.0.2)\n",
            "Collecting sklearn\n",
            "  Using cached sklearn-0.0.post12.tar.gz (2.6 kB)\n",
            "  \u001b[1;31merror\u001b[0m: \u001b[1msubprocess-exited-with-error\u001b[0m\n",
            "  \n",
            "  \u001b[31m×\u001b[0m \u001b[32mpython setup.py egg_info\u001b[0m did not run successfully.\n",
            "  \u001b[31m│\u001b[0m exit code: \u001b[1;36m1\u001b[0m\n",
            "  \u001b[31m╰─>\u001b[0m See above for output.\n",
            "  \n",
            "  \u001b[1;35mnote\u001b[0m: This error originates from a subprocess, and is likely not a problem with pip.\n",
            "  Preparing metadata (setup.py) ... \u001b[?25l\u001b[?25herror\n",
            "\u001b[1;31merror\u001b[0m: \u001b[1mmetadata-generation-failed\u001b[0m\n",
            "\n",
            "\u001b[31m×\u001b[0m Encountered error while generating package metadata.\n",
            "\u001b[31m╰─>\u001b[0m See above for output.\n",
            "\n",
            "\u001b[1;35mnote\u001b[0m: This is an issue with the package mentioned above, not pip.\n",
            "\u001b[1;36mhint\u001b[0m: See above for details.\n"
          ]
        }
      ],
      "source": [
        "!pip install torch torchvision torchaudio\n",
        "!pip install sklearn matplotlib\n"
      ]
    },
    {
      "cell_type": "markdown",
      "source": [
        "##Import Required Libraries\n"
      ],
      "metadata": {
        "id": "28IzkAIsLI5f"
      }
    },
    {
      "cell_type": "code",
      "execution_count": 5,
      "metadata": {
        "id": "AR35nIWFIVOz"
      },
      "outputs": [],
      "source": [
        "import torch\n",
        "import torch.nn as nn\n",
        "import torch.optim as optim\n",
        "import numpy as np\n",
        "import pandas as pd\n",
        "import matplotlib.pyplot as plt\n",
        "from sklearn.model_selection import train_test_split\n",
        "from sklearn.metrics import accuracy_score, precision_score, recall_score, f1_score, roc_auc_score\n",
        "from sklearn.preprocessing import LabelEncoder\n",
        "from torch.utils.data import Dataset, DataLoader\n",
        "from collections import Counter\n",
        "import re\n"
      ]
    },
    {
      "cell_type": "markdown",
      "source": [
        "##Load and Preprocess the Data"
      ],
      "metadata": {
        "id": "_PY70wymLNUP"
      }
    },
    {
      "cell_type": "code",
      "source": [
        "# Load the dataset\n",
        "data = pd.read_json('/content/Cleaned_DeteksiSarkasme.json')\n"
      ],
      "metadata": {
        "id": "bfTyWusBJEfo"
      },
      "execution_count": 7,
      "outputs": []
    },
    {
      "cell_type": "code",
      "source": [
        "# Tokenizer function\n",
        "def tokenize(text):\n",
        "    # Lowercase and remove special characters\n",
        "    text = text.lower()\n",
        "    text = re.sub(r'[^a-z\\s]', '', text)\n",
        "    return text.split()\n"
      ],
      "metadata": {
        "id": "yefUjNtZJjap"
      },
      "execution_count": 8,
      "outputs": []
    },
    {
      "cell_type": "code",
      "source": [
        "# Apply tokenization to the dataset\n",
        "data['tokens'] = data['headline'].apply(tokenize)\n"
      ],
      "metadata": {
        "id": "D1aqlZ6hJn_w"
      },
      "execution_count": 9,
      "outputs": []
    },
    {
      "cell_type": "code",
      "source": [
        "# Prepare target variable (sarcasm label)\n",
        "labels = LabelEncoder().fit_transform(data['is_sarcastic'])\n"
      ],
      "metadata": {
        "id": "O2QmPSogJqcf"
      },
      "execution_count": 10,
      "outputs": []
    },
    {
      "cell_type": "code",
      "source": [
        "# Split data into train and test sets\n",
        "X_train, X_test, y_train, y_test = train_test_split(data['tokens'], labels, test_size=0.2, random_state=42)"
      ],
      "metadata": {
        "id": "p0afR1f7Jtc2"
      },
      "execution_count": 11,
      "outputs": []
    },
    {
      "cell_type": "code",
      "source": [
        "# Create vocabulary from the training set\n",
        "all_tokens = [token for sublist in data['tokens'] for token in sublist]\n",
        "vocab = {word: idx + 1 for idx, (word, _) in enumerate(Counter(all_tokens).items())}  # Reserve 0 for padding\n"
      ],
      "metadata": {
        "id": "PVjW2DebJv_Q"
      },
      "execution_count": 12,
      "outputs": []
    },
    {
      "cell_type": "code",
      "source": [
        "# Convert tokens to sequences of integers\n",
        "def text_to_sequence(tokens, vocab, max_len=100):\n",
        "    # Convert tokens to their corresponding integer ids in the vocab\n",
        "    sequence = [vocab.get(token, 0) for token in tokens]  # Use 0 for unknown words\n",
        "    # Pad the sequence to the max_len\n",
        "    return sequence[:max_len] + [0] * (max_len - len(sequence))\n"
      ],
      "metadata": {
        "id": "CZ2RL9VIJyN2"
      },
      "execution_count": 13,
      "outputs": []
    },
    {
      "cell_type": "code",
      "source": [
        "# Apply text_to_sequence to the training and testing data\n",
        "X_train_seq = X_train.apply(lambda tokens: text_to_sequence(tokens, vocab))\n",
        "X_test_seq = X_test.apply(lambda tokens: text_to_sequence(tokens, vocab))"
      ],
      "metadata": {
        "id": "j9TYH2WDJ0OL"
      },
      "execution_count": 14,
      "outputs": []
    },
    {
      "cell_type": "code",
      "source": [
        "# Create a custom Dataset for PyTorch\n",
        "class SarcasmDataset(Dataset):\n",
        "    def __init__(self, texts, labels, max_len=100):\n",
        "        self.texts = texts\n",
        "        self.labels = labels\n",
        "        self.max_len = max_len\n",
        "\n",
        "    def __len__(self):\n",
        "        return len(self.texts)\n",
        "\n",
        "    def __getitem__(self, idx):\n",
        "        text = self.texts.iloc[idx]\n",
        "        label = self.labels[idx]\n",
        "        text_tensor = torch.tensor(text)\n",
        "        label_tensor = torch.tensor(label).float()\n",
        "        return text_tensor, label_tensor\n"
      ],
      "metadata": {
        "id": "SbfAOgwIJ20Z"
      },
      "execution_count": 15,
      "outputs": []
    },
    {
      "cell_type": "code",
      "source": [
        "# Create DataLoader for train and test sets\n",
        "train_dataset = SarcasmDataset(X_train_seq, y_train)\n",
        "test_dataset = SarcasmDataset(X_test_seq, y_test)\n"
      ],
      "metadata": {
        "id": "UvIh7VlEJ5ZI"
      },
      "execution_count": 16,
      "outputs": []
    },
    {
      "cell_type": "code",
      "source": [
        "train_loader = DataLoader(train_dataset, batch_size=64, shuffle=True)\n",
        "test_loader = DataLoader(test_dataset, batch_size=64)"
      ],
      "metadata": {
        "id": "2YrBswbTJ7pC"
      },
      "execution_count": 17,
      "outputs": []
    },
    {
      "cell_type": "markdown",
      "source": [
        "## Define the GRU Model"
      ],
      "metadata": {
        "id": "_n9WkWhnLSsO"
      }
    },
    {
      "cell_type": "code",
      "source": [
        "class GRUModel(nn.Module):\n",
        "    def __init__(self, vocab_size, embedding_dim=128, hidden_dim=128, output_dim=1, n_layers=2, dropout=0.5):\n",
        "        super(GRUModel, self).__init__()\n",
        "        self.embedding = nn.Embedding(vocab_size, embedding_dim)\n",
        "        self.gru = nn.GRU(embedding_dim, hidden_dim, n_layers, dropout=dropout, batch_first=True)\n",
        "        self.fc = nn.Linear(hidden_dim, output_dim)\n",
        "        self.sigmoid = nn.Sigmoid()\n",
        "\n",
        "    def forward(self, x):\n",
        "        embedded = self.embedding(x)\n",
        "        output, hidden = self.gru(embedded)\n",
        "        return self.sigmoid(self.fc(hidden[-1]))"
      ],
      "metadata": {
        "id": "V6_QRqugJ9-k"
      },
      "execution_count": 18,
      "outputs": []
    },
    {
      "cell_type": "code",
      "source": [
        "# Hyperparameters\n",
        "embedding_dim = 128\n",
        "hidden_dim = 128\n",
        "output_dim = 1\n",
        "n_layers = 2\n",
        "dropout = 0.5\n",
        "lr = 0.001"
      ],
      "metadata": {
        "id": "lo9bBlCdKAsx"
      },
      "execution_count": 19,
      "outputs": []
    },
    {
      "cell_type": "code",
      "source": [
        "# Model initialization\n",
        "model = GRUModel(vocab_size=len(vocab) + 1, embedding_dim=embedding_dim, hidden_dim=hidden_dim,\n",
        "                 output_dim=output_dim, n_layers=n_layers, dropout=dropout)\n",
        "optimizer = optim.Adam(model.parameters(), lr=lr)\n",
        "criterion = nn.BCELoss()"
      ],
      "metadata": {
        "id": "L7odF68KKCvU"
      },
      "execution_count": 20,
      "outputs": []
    },
    {
      "cell_type": "markdown",
      "source": [
        "##Train the Model"
      ],
      "metadata": {
        "id": "hByGYQppLY1P"
      }
    },
    {
      "cell_type": "code",
      "source": [
        "# Training loop\n",
        "def train(model, iterator, optimizer, criterion):\n",
        "    model.train()\n",
        "    epoch_loss = 0\n",
        "    epoch_acc = 0\n",
        "    for batch in iterator:\n",
        "        optimizer.zero_grad()\n",
        "        text, label = batch\n",
        "        text = text.to(device)\n",
        "        label = label.to(device).float()\n",
        "\n",
        "        output = model(text).squeeze(1)\n",
        "        loss = criterion(output, label)\n",
        "\n",
        "        # Accuracy\n",
        "        acc = ((output > 0.5).float() == label).float().mean()\n",
        "\n",
        "        loss.backward()\n",
        "        optimizer.step()\n",
        "\n",
        "        epoch_loss += loss.item()\n",
        "        epoch_acc += acc.item()\n",
        "\n",
        "    return epoch_loss / len(iterator), epoch_acc / len(iterator)\n"
      ],
      "metadata": {
        "id": "cADNhFIRKFWP"
      },
      "execution_count": 21,
      "outputs": []
    },
    {
      "cell_type": "code",
      "source": [
        "# Training the model on the training dataset\n",
        "device = torch.device(\"cuda\" if torch.cuda.is_available() else \"cpu\")\n",
        "model = model.to(device)\n",
        "\n",
        "train_accuracies = []\n",
        "train_losses = []"
      ],
      "metadata": {
        "id": "1bQ1a9YZKJze"
      },
      "execution_count": 22,
      "outputs": []
    },
    {
      "cell_type": "code",
      "source": [
        "for epoch in range(10):\n",
        "    train_loss, train_acc = train(model, train_loader, optimizer, criterion)\n",
        "    train_accuracies.append(train_acc)\n",
        "    train_losses.append(train_loss)\n",
        "    print(f\"Epoch {epoch+1} => Train Loss: {train_loss:.4f}, Train Accuracy: {train_acc:.4f}\")"
      ],
      "metadata": {
        "colab": {
          "base_uri": "https://localhost:8080/"
        },
        "id": "1EKWixIuKM3U",
        "outputId": "bc2276b6-8aea-497a-cc87-2948f399b046"
      },
      "execution_count": 23,
      "outputs": [
        {
          "output_type": "stream",
          "name": "stdout",
          "text": [
            "Epoch 1 => Train Loss: 0.6897, Train Accuracy: 0.5520\n",
            "Epoch 2 => Train Loss: 0.6872, Train Accuracy: 0.5583\n",
            "Epoch 3 => Train Loss: 0.6865, Train Accuracy: 0.5611\n",
            "Epoch 4 => Train Loss: 0.6860, Train Accuracy: 0.5612\n",
            "Epoch 5 => Train Loss: 0.4602, Train Accuracy: 0.7828\n",
            "Epoch 6 => Train Loss: 0.2639, Train Accuracy: 0.8934\n",
            "Epoch 7 => Train Loss: 0.1344, Train Accuracy: 0.9534\n",
            "Epoch 8 => Train Loss: 0.0587, Train Accuracy: 0.9830\n",
            "Epoch 9 => Train Loss: 0.0334, Train Accuracy: 0.9908\n",
            "Epoch 10 => Train Loss: 0.0215, Train Accuracy: 0.9947\n"
          ]
        }
      ]
    },
    {
      "cell_type": "markdown",
      "source": [
        "##Evaluate the Model"
      ],
      "metadata": {
        "id": "Bi2PfWuqLd1B"
      }
    },
    {
      "cell_type": "code",
      "source": [
        "# Evaluation function\n",
        "def evaluate(model, iterator, criterion):\n",
        "    model.eval()\n",
        "    epoch_loss = 0\n",
        "    epoch_acc = 0\n",
        "    all_preds = []\n",
        "    all_labels = []\n",
        "    with torch.no_grad():\n",
        "        for batch in iterator:\n",
        "            text, label = batch\n",
        "            text = text.to(device)\n",
        "            label = label.to(device).float()\n",
        "\n",
        "            output = model(text).squeeze(1)\n",
        "            loss = criterion(output, label)\n",
        "\n",
        "            # Accuracy\n",
        "            acc = ((output > 0.5).float() == label).float().mean()\n",
        "\n",
        "            epoch_loss += loss.item()\n",
        "            epoch_acc += acc.item()\n",
        "\n",
        "            all_preds.extend(output.cpu().numpy())\n",
        "            all_labels.extend(label.cpu().numpy())\n",
        "\n",
        "    return epoch_loss / len(iterator), epoch_acc / len(iterator), all_preds, all_labels\n"
      ],
      "metadata": {
        "id": "nknL0GbmKPaC"
      },
      "execution_count": 24,
      "outputs": []
    },
    {
      "cell_type": "code",
      "source": [
        "# Evaluate the model on test set\n",
        "test_loss, test_acc, preds, labels = evaluate(model, test_loader, criterion)\n",
        "print(f\"Test Loss: {test_loss:.4f}, Test Accuracy: {test_acc:.4f}\")"
      ],
      "metadata": {
        "colab": {
          "base_uri": "https://localhost:8080/"
        },
        "id": "Il7o8SwRKdsP",
        "outputId": "c9d02017-e6f0-4aef-eecc-b7bcbfb6ff88"
      },
      "execution_count": 25,
      "outputs": [
        {
          "output_type": "stream",
          "name": "stdout",
          "text": [
            "Test Loss: 0.7768, Test Accuracy: 0.8289\n"
          ]
        }
      ]
    },
    {
      "cell_type": "markdown",
      "source": [
        "##Visualize"
      ],
      "metadata": {
        "id": "03dEFqorLgfp"
      }
    },
    {
      "cell_type": "code",
      "source": [
        "# Visualize results\n",
        "def plot_results(train_accuracies, train_losses):\n",
        "    plt.figure(figsize=(10,5))\n",
        "\n",
        "    # Plot training accuracies\n",
        "    plt.subplot(1, 2, 1)\n",
        "    plt.plot(train_accuracies, label='Train Accuracy')\n",
        "    plt.xlabel('Epochs')\n",
        "    plt.ylabel('Accuracy')\n",
        "    plt.title('Training Accuracy')\n",
        "    plt.legend()\n",
        "\n",
        "    # Plot training losses\n",
        "    plt.subplot(1, 2, 2)\n",
        "    plt.plot(train_losses, label='Train Loss')\n",
        "    plt.xlabel('Epochs')\n",
        "    plt.ylabel('Loss')\n",
        "    plt.title('Training Loss')\n",
        "    plt.legend()\n",
        "\n",
        "    plt.show()"
      ],
      "metadata": {
        "id": "iDKmlwSmKgJ1"
      },
      "execution_count": 26,
      "outputs": []
    },
    {
      "cell_type": "code",
      "source": [
        "\n",
        "# After training, plot the results\n",
        "plot_results(train_accuracies, train_losses)"
      ],
      "metadata": {
        "colab": {
          "base_uri": "https://localhost:8080/",
          "height": 366
        },
        "id": "v1SoP0KMKkbc",
        "outputId": "47003b8c-122c-4ae8-f5bf-b5b69753fedb"
      },
      "execution_count": 27,
      "outputs": [
        {
          "output_type": "display_data",
          "data": {
            "text/plain": [
              "<Figure size 1000x500 with 2 Axes>"
            ],
            "image/png": "[encoded data removed]"
          },
          "metadata": {}
        }
      ]
    },
    {
      "cell_type": "markdown",
      "source": [
        "##Calculate Evaluation Metrics"
      ],
      "metadata": {
        "id": "yLdVpZ7aLmTx"
      }
    },
    {
      "cell_type": "code",
      "source": [
        "# Calculate metrics\n",
        "precision = precision_score(labels, (np.array(preds) > 0.5).astype(int))\n",
        "recall = recall_score(labels, (np.array(preds) > 0.5).astype(int))\n",
        "f1 = f1_score(labels, (np.array(preds) > 0.5).astype(int))\n",
        "roc_auc = roc_auc_score(labels, preds)\n",
        "\n",
        "print(f\"Precision: {precision:.4f}\")\n",
        "print(f\"Recall: {recall:.4f}\")\n",
        "print(f\"F1 Score: {f1:.4f}\")\n",
        "print(f\"ROC AUC: {roc_auc:.4f}\")\n"
      ],
      "metadata": {
        "colab": {
          "base_uri": "https://localhost:8080/"
        },
        "id": "2uyhUv08KnIE",
        "outputId": "33592611-d3ff-4f23-d187-fd318d1ffbc9"
      },
      "execution_count": 28,
      "outputs": [
        {
          "output_type": "stream",
          "name": "stdout",
          "text": [
            "Precision: 0.8143\n",
            "Recall: 0.7907\n",
            "F1 Score: 0.8023\n",
            "ROC AUC: 0.9022\n"
          ]
        }
      ]
    },
    {
      "cell_type": "code",
      "source": [],
      "metadata": {
        "id": "AfOuiyR6Kp8d"
      },
      "execution_count": null,
      "outputs": []
    }
  ],
  "metadata": {
    "accelerator": "GPU",
    "colab": {
      "gpuType": "T4",
      "provenance": [],
      "authorship_tag": "ABX9TyMDrc1SRpo4ccAD+DKrco+a",
      "include_colab_link": true
    },
    "kernelspec": {
      "display_name": "Python 3",
      "name": "python3"
    },
    "language_info": {
      "name": "python"
    }
  },
  "nbformat": 4,
  "nbformat_minor": 0
}