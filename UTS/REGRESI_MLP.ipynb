{
  "nbformat": 4,
  "nbformat_minor": 0,
  "metadata": {
    "colab": {
      "provenance": [],
      "gpuType": "T4",
      "authorship_tag": "ABX9TyPOZY6SQB5jodLDyl4RxDAt",
      "include_colab_link": true
    },
    "kernelspec": {
      "name": "python3",
      "display_name": "Python 3"
    },
    "language_info": {
      "name": "python"
    },
    "accelerator": "GPU"
  },
  "cells": [
    {
      "cell_type": "markdown",
      "metadata": {
        "id": "view-in-github",
        "colab_type": "text"
      },
      "source": [
        "<a href=\"https://colab.research.google.com/github/nissrinayy/deeplearning/blob/main/UTS/REGRESI_MLP.ipynb\" target=\"_parent\"><img src=\"https://colab.research.google.com/assets/colab-badge.svg\" alt=\"Open In Colab\"/></a>"
      ]
    },
    {
      "cell_type": "markdown",
      "source": [
        "# **MODEL REGRESI MENGGUNAKAN MLP : RegresiUTSTelkom.csv😶‍🌫️**"
      ],
      "metadata": {
        "id": "-AH0imdCrHdV"
      }
    },
    {
      "cell_type": "markdown",
      "source": [
        "##Install & Import LIbrary"
      ],
      "metadata": {
        "id": "m7lxKHUOrpjw"
      }
    },
    {
      "cell_type": "code",
      "source": [
        "!pip install tensorflow pandas matplotlib seaborn scikit-learn\n"
      ],
      "metadata": {
        "colab": {
          "base_uri": "https://localhost:8080/"
        },
        "id": "XtCiFP5ZDJXW",
        "outputId": "00b2ba3f-aac6-42af-f31c-49d765a8de66"
      },
      "execution_count": null,
      "outputs": [
        {
          "output_type": "stream",
          "name": "stdout",
          "text": [
            "Requirement already satisfied: tensorflow in /usr/local/lib/python3.11/dist-packages (2.18.0)\n",
            "Requirement already satisfied: pandas in /usr/local/lib/python3.11/dist-packages (2.2.2)\n",
            "Requirement already satisfied: matplotlib in /usr/local/lib/python3.11/dist-packages (3.10.0)\n",
            "Requirement already satisfied: seaborn in /usr/local/lib/python3.11/dist-packages (0.13.2)\n",
            "Requirement already satisfied: scikit-learn in /usr/local/lib/python3.11/dist-packages (1.6.1)\n",
            "Requirement already satisfied: absl-py>=1.0.0 in /usr/local/lib/python3.11/dist-packages (from tensorflow) (1.4.0)\n",
            "Requirement already satisfied: astunparse>=1.6.0 in /usr/local/lib/python3.11/dist-packages (from tensorflow) (1.6.3)\n",
            "Requirement already satisfied: flatbuffers>=24.3.25 in /usr/local/lib/python3.11/dist-packages (from tensorflow) (25.2.10)\n",
            "Requirement already satisfied: gast!=0.5.0,!=0.5.1,!=0.5.2,>=0.2.1 in /usr/local/lib/python3.11/dist-packages (from tensorflow) (0.6.0)\n",
            "Requirement already satisfied: google-pasta>=0.1.1 in /usr/local/lib/python3.11/dist-packages (from tensorflow) (0.2.0)\n",
            "Requirement already satisfied: libclang>=13.0.0 in /usr/local/lib/python3.11/dist-packages (from tensorflow) (18.1.1)\n",
            "Requirement already satisfied: opt-einsum>=2.3.2 in /usr/local/lib/python3.11/dist-packages (from tensorflow) (3.4.0)\n",
            "Requirement already satisfied: packaging in /usr/local/lib/python3.11/dist-packages (from tensorflow) (24.2)\n",
            "Requirement already satisfied: protobuf!=4.21.0,!=4.21.1,!=4.21.2,!=4.21.3,!=4.21.4,!=4.21.5,<6.0.0dev,>=3.20.3 in /usr/local/lib/python3.11/dist-packages (from tensorflow) (5.29.4)\n",
            "Requirement already satisfied: requests<3,>=2.21.0 in /usr/local/lib/python3.11/dist-packages (from tensorflow) (2.32.3)\n",
            "Requirement already satisfied: setuptools in /usr/local/lib/python3.11/dist-packages (from tensorflow) (75.2.0)\n",
            "Requirement already satisfied: six>=1.12.0 in /usr/local/lib/python3.11/dist-packages (from tensorflow) (1.17.0)\n",
            "Requirement already satisfied: termcolor>=1.1.0 in /usr/local/lib/python3.11/dist-packages (from tensorflow) (3.0.1)\n",
            "Requirement already satisfied: typing-extensions>=3.6.6 in /usr/local/lib/python3.11/dist-packages (from tensorflow) (4.13.2)\n",
            "Requirement already satisfied: wrapt>=1.11.0 in /usr/local/lib/python3.11/dist-packages (from tensorflow) (1.17.2)\n",
            "Requirement already satisfied: grpcio<2.0,>=1.24.3 in /usr/local/lib/python3.11/dist-packages (from tensorflow) (1.71.0)\n",
            "Requirement already satisfied: tensorboard<2.19,>=2.18 in /usr/local/lib/python3.11/dist-packages (from tensorflow) (2.18.0)\n",
            "Requirement already satisfied: keras>=3.5.0 in /usr/local/lib/python3.11/dist-packages (from tensorflow) (3.8.0)\n",
            "Requirement already satisfied: numpy<2.1.0,>=1.26.0 in /usr/local/lib/python3.11/dist-packages (from tensorflow) (2.0.2)\n",
            "Requirement already satisfied: h5py>=3.11.0 in /usr/local/lib/python3.11/dist-packages (from tensorflow) (3.13.0)\n",
            "Requirement already satisfied: ml-dtypes<0.5.0,>=0.4.0 in /usr/local/lib/python3.11/dist-packages (from tensorflow) (0.4.1)\n",
            "Requirement already satisfied: tensorflow-io-gcs-filesystem>=0.23.1 in /usr/local/lib/python3.11/dist-packages (from tensorflow) (0.37.1)\n",
            "Requirement already satisfied: python-dateutil>=2.8.2 in /usr/local/lib/python3.11/dist-packages (from pandas) (2.9.0.post0)\n",
            "Requirement already satisfied: pytz>=2020.1 in /usr/local/lib/python3.11/dist-packages (from pandas) (2025.2)\n",
            "Requirement already satisfied: tzdata>=2022.7 in /usr/local/lib/python3.11/dist-packages (from pandas) (2025.2)\n",
            "Requirement already satisfied: contourpy>=1.0.1 in /usr/local/lib/python3.11/dist-packages (from matplotlib) (1.3.2)\n",
            "Requirement already satisfied: cycler>=0.10 in /usr/local/lib/python3.11/dist-packages (from matplotlib) (0.12.1)\n",
            "Requirement already satisfied: fonttools>=4.22.0 in /usr/local/lib/python3.11/dist-packages (from matplotlib) (4.57.0)\n",
            "Requirement already satisfied: kiwisolver>=1.3.1 in /usr/local/lib/python3.11/dist-packages (from matplotlib) (1.4.8)\n",
            "Requirement already satisfied: pillow>=8 in /usr/local/lib/python3.11/dist-packages (from matplotlib) (11.2.1)\n",
            "Requirement already satisfied: pyparsing>=2.3.1 in /usr/local/lib/python3.11/dist-packages (from matplotlib) (3.2.3)\n",
            "Requirement already satisfied: scipy>=1.6.0 in /usr/local/lib/python3.11/dist-packages (from scikit-learn) (1.15.2)\n",
            "Requirement already satisfied: joblib>=1.2.0 in /usr/local/lib/python3.11/dist-packages (from scikit-learn) (1.4.2)\n",
            "Requirement already satisfied: threadpoolctl>=3.1.0 in /usr/local/lib/python3.11/dist-packages (from scikit-learn) (3.6.0)\n",
            "Requirement already satisfied: wheel<1.0,>=0.23.0 in /usr/local/lib/python3.11/dist-packages (from astunparse>=1.6.0->tensorflow) (0.45.1)\n",
            "Requirement already satisfied: rich in /usr/local/lib/python3.11/dist-packages (from keras>=3.5.0->tensorflow) (13.9.4)\n",
            "Requirement already satisfied: namex in /usr/local/lib/python3.11/dist-packages (from keras>=3.5.0->tensorflow) (0.0.9)\n",
            "Requirement already satisfied: optree in /usr/local/lib/python3.11/dist-packages (from keras>=3.5.0->tensorflow) (0.15.0)\n",
            "Requirement already satisfied: charset-normalizer<4,>=2 in /usr/local/lib/python3.11/dist-packages (from requests<3,>=2.21.0->tensorflow) (3.4.1)\n",
            "Requirement already satisfied: idna<4,>=2.5 in /usr/local/lib/python3.11/dist-packages (from requests<3,>=2.21.0->tensorflow) (3.10)\n",
            "Requirement already satisfied: urllib3<3,>=1.21.1 in /usr/local/lib/python3.11/dist-packages (from requests<3,>=2.21.0->tensorflow) (2.4.0)\n",
            "Requirement already satisfied: certifi>=2017.4.17 in /usr/local/lib/python3.11/dist-packages (from requests<3,>=2.21.0->tensorflow) (2025.1.31)\n",
            "Requirement already satisfied: markdown>=2.6.8 in /usr/local/lib/python3.11/dist-packages (from tensorboard<2.19,>=2.18->tensorflow) (3.8)\n",
            "Requirement already satisfied: tensorboard-data-server<0.8.0,>=0.7.0 in /usr/local/lib/python3.11/dist-packages (from tensorboard<2.19,>=2.18->tensorflow) (0.7.2)\n",
            "Requirement already satisfied: werkzeug>=1.0.1 in /usr/local/lib/python3.11/dist-packages (from tensorboard<2.19,>=2.18->tensorflow) (3.1.3)\n",
            "Requirement already satisfied: MarkupSafe>=2.1.1 in /usr/local/lib/python3.11/dist-packages (from werkzeug>=1.0.1->tensorboard<2.19,>=2.18->tensorflow) (3.0.2)\n",
            "Requirement already satisfied: markdown-it-py>=2.2.0 in /usr/local/lib/python3.11/dist-packages (from rich->keras>=3.5.0->tensorflow) (3.0.0)\n",
            "Requirement already satisfied: pygments<3.0.0,>=2.13.0 in /usr/local/lib/python3.11/dist-packages (from rich->keras>=3.5.0->tensorflow) (2.19.1)\n",
            "Requirement already satisfied: mdurl~=0.1 in /usr/local/lib/python3.11/dist-packages (from markdown-it-py>=2.2.0->rich->keras>=3.5.0->tensorflow) (0.1.2)\n"
          ]
        }
      ]
    },
    {
      "cell_type": "code",
      "source": [
        "# Import the required libraries\n",
        "import pandas as pd\n",
        "import numpy as np\n",
        "import tensorflow as tf\n",
        "from sklearn.model_selection import train_test_split\n",
        "from sklearn.preprocessing import StandardScaler\n",
        "from sklearn.metrics import mean_squared_error, r2_score, mean_absolute_error\n",
        "import matplotlib.pyplot as plt\n",
        "import seaborn as sns"
      ],
      "metadata": {
        "id": "IcwaytkYDO7z"
      },
      "execution_count": null,
      "outputs": []
    },
    {
      "cell_type": "markdown",
      "source": [
        "## Load Dataset"
      ],
      "metadata": {
        "id": "E1mQVuVzrxC1"
      }
    },
    {
      "cell_type": "code",
      "source": [
        "# Load the dataset\n",
        "df = pd.read_csv('/content/RegresiUTSTelkom.csv')\n"
      ],
      "metadata": {
        "id": "AU0RcsOzDRWw"
      },
      "execution_count": null,
      "outputs": []
    },
    {
      "cell_type": "code",
      "source": [
        "# Display the first few rows\n",
        "df.head()"
      ],
      "metadata": {
        "colab": {
          "base_uri": "https://localhost:8080/",
          "height": 256
        },
        "id": "Jr-rC98DEGiP",
        "outputId": "a63c27a8-802b-4f41-d2fb-98ba8ffd66d7"
      },
      "execution_count": null,
      "outputs": [
        {
          "output_type": "execute_result",
          "data": {
            "text/plain": [
              "   2001  49.94357  21.47114   73.0775   8.74861  -17.40628  -13.09905  \\\n",
              "0  2001  48.73215  18.42930  70.32679  12.94636  -10.32437  -24.83777   \n",
              "1  2001  50.95714  31.85602  55.81851  13.41693   -6.57898  -18.54940   \n",
              "2  2001  48.24750  -1.89837  36.29772   2.58776    0.97170  -26.21683   \n",
              "3  2001  50.97020  42.20998  67.09964   8.46791  -15.85279  -16.81409   \n",
              "4  2001  50.54767   0.31568  92.35066  22.38696  -25.51870  -19.04928   \n",
              "\n",
              "   -25.01202  -12.23257   7.83089  ...   13.0162  -54.40548  58.99367  \\\n",
              "0    8.76630   -0.92019  18.76548  ...   5.66812  -19.68073  33.04964   \n",
              "1   -3.27872   -2.35035  16.07017  ...   3.03800   26.05866 -50.92779   \n",
              "2    5.05097  -10.34124   3.55005  ...  34.57337 -171.70734 -16.96705   \n",
              "3  -12.48207   -9.37636  12.63699  ...   9.92661  -55.95724  64.92712   \n",
              "4   20.67345   -5.19943   3.63566  ...   6.59753  -50.69577  26.02574   \n",
              "\n",
              "   15.37344   1.11144  -23.08793   68.40795  -1.82223  -27.46348   2.26327  \n",
              "0  42.87836  -9.90378  -32.22788   70.49388  12.04941   58.43453  26.92061  \n",
              "1  10.93792  -0.07568   43.20130 -115.00698  -0.05859   39.67068  -0.66345  \n",
              "2 -46.67617 -12.51516   82.58061  -72.08993   9.90558  199.62971  18.85382  \n",
              "3 -17.72522  -1.49237   -7.50035   51.76631   7.88713   55.66926  28.74903  \n",
              "4  18.94430  -0.33730    6.09352   35.18381   5.00283  -11.02257   0.02263  \n",
              "\n",
              "[5 rows x 91 columns]"
            ],
            "text/html": [
              "\n",
              "  <div id=\"df-91b5fba2-f652-41bb-8593-40e2b384f737\" class=\"colab-df-container\">\n",
              "    <div>\n",
              "<style scoped>\n",
              "    .dataframe tbody tr th:only-of-type {\n",
              "        vertical-align: middle;\n",
              "    }\n",
              "\n",
              "    .dataframe tbody tr th {\n",
              "        vertical-align: top;\n",
              "    }\n",
              "\n",
              "    .dataframe thead th {\n",
              "        text-align: right;\n",
              "    }\n",
              "</style>\n",
              "<table border=\"1\" class=\"dataframe\">\n",
              "  <thead>\n",
              "    <tr style=\"text-align: right;\">\n",
              "      <th></th>\n",
              "      <th>2001</th>\n",
              "      <th>49.94357</th>\n",
              "      <th>21.47114</th>\n",
              "      <th>73.0775</th>\n",
              "      <th>8.74861</th>\n",
              "      <th>-17.40628</th>\n",
              "      <th>-13.09905</th>\n",
              "      <th>-25.01202</th>\n",
              "      <th>-12.23257</th>\n",
              "      <th>7.83089</th>\n",
              "      <th>...</th>\n",
              "      <th>13.0162</th>\n",
              "      <th>-54.40548</th>\n",
              "      <th>58.99367</th>\n",
              "      <th>15.37344</th>\n",
              "      <th>1.11144</th>\n",
              "      <th>-23.08793</th>\n",
              "      <th>68.40795</th>\n",
              "      <th>-1.82223</th>\n",
              "      <th>-27.46348</th>\n",
              "      <th>2.26327</th>\n",
              "    </tr>\n",
              "  </thead>\n",
              "  <tbody>\n",
              "    <tr>\n",
              "      <th>0</th>\n",
              "      <td>2001</td>\n",
              "      <td>48.73215</td>\n",
              "      <td>18.42930</td>\n",
              "      <td>70.32679</td>\n",
              "      <td>12.94636</td>\n",
              "      <td>-10.32437</td>\n",
              "      <td>-24.83777</td>\n",
              "      <td>8.76630</td>\n",
              "      <td>-0.92019</td>\n",
              "      <td>18.76548</td>\n",
              "      <td>...</td>\n",
              "      <td>5.66812</td>\n",
              "      <td>-19.68073</td>\n",
              "      <td>33.04964</td>\n",
              "      <td>42.87836</td>\n",
              "      <td>-9.90378</td>\n",
              "      <td>-32.22788</td>\n",
              "      <td>70.49388</td>\n",
              "      <td>12.04941</td>\n",
              "      <td>58.43453</td>\n",
              "      <td>26.92061</td>\n",
              "    </tr>\n",
              "    <tr>\n",
              "      <th>1</th>\n",
              "      <td>2001</td>\n",
              "      <td>50.95714</td>\n",
              "      <td>31.85602</td>\n",
              "      <td>55.81851</td>\n",
              "      <td>13.41693</td>\n",
              "      <td>-6.57898</td>\n",
              "      <td>-18.54940</td>\n",
              "      <td>-3.27872</td>\n",
              "      <td>-2.35035</td>\n",
              "      <td>16.07017</td>\n",
              "      <td>...</td>\n",
              "      <td>3.03800</td>\n",
              "      <td>26.05866</td>\n",
              "      <td>-50.92779</td>\n",
              "      <td>10.93792</td>\n",
              "      <td>-0.07568</td>\n",
              "      <td>43.20130</td>\n",
              "      <td>-115.00698</td>\n",
              "      <td>-0.05859</td>\n",
              "      <td>39.67068</td>\n",
              "      <td>-0.66345</td>\n",
              "    </tr>\n",
              "    <tr>\n",
              "      <th>2</th>\n",
              "      <td>2001</td>\n",
              "      <td>48.24750</td>\n",
              "      <td>-1.89837</td>\n",
              "      <td>36.29772</td>\n",
              "      <td>2.58776</td>\n",
              "      <td>0.97170</td>\n",
              "      <td>-26.21683</td>\n",
              "      <td>5.05097</td>\n",
              "      <td>-10.34124</td>\n",
              "      <td>3.55005</td>\n",
              "      <td>...</td>\n",
              "      <td>34.57337</td>\n",
              "      <td>-171.70734</td>\n",
              "      <td>-16.96705</td>\n",
              "      <td>-46.67617</td>\n",
              "      <td>-12.51516</td>\n",
              "      <td>82.58061</td>\n",
              "      <td>-72.08993</td>\n",
              "      <td>9.90558</td>\n",
              "      <td>199.62971</td>\n",
              "      <td>18.85382</td>\n",
              "    </tr>\n",
              "    <tr>\n",
              "      <th>3</th>\n",
              "      <td>2001</td>\n",
              "      <td>50.97020</td>\n",
              "      <td>42.20998</td>\n",
              "      <td>67.09964</td>\n",
              "      <td>8.46791</td>\n",
              "      <td>-15.85279</td>\n",
              "      <td>-16.81409</td>\n",
              "      <td>-12.48207</td>\n",
              "      <td>-9.37636</td>\n",
              "      <td>12.63699</td>\n",
              "      <td>...</td>\n",
              "      <td>9.92661</td>\n",
              "      <td>-55.95724</td>\n",
              "      <td>64.92712</td>\n",
              "      <td>-17.72522</td>\n",
              "      <td>-1.49237</td>\n",
              "      <td>-7.50035</td>\n",
              "      <td>51.76631</td>\n",
              "      <td>7.88713</td>\n",
              "      <td>55.66926</td>\n",
              "      <td>28.74903</td>\n",
              "    </tr>\n",
              "    <tr>\n",
              "      <th>4</th>\n",
              "      <td>2001</td>\n",
              "      <td>50.54767</td>\n",
              "      <td>0.31568</td>\n",
              "      <td>92.35066</td>\n",
              "      <td>22.38696</td>\n",
              "      <td>-25.51870</td>\n",
              "      <td>-19.04928</td>\n",
              "      <td>20.67345</td>\n",
              "      <td>-5.19943</td>\n",
              "      <td>3.63566</td>\n",
              "      <td>...</td>\n",
              "      <td>6.59753</td>\n",
              "      <td>-50.69577</td>\n",
              "      <td>26.02574</td>\n",
              "      <td>18.94430</td>\n",
              "      <td>-0.33730</td>\n",
              "      <td>6.09352</td>\n",
              "      <td>35.18381</td>\n",
              "      <td>5.00283</td>\n",
              "      <td>-11.02257</td>\n",
              "      <td>0.02263</td>\n",
              "    </tr>\n",
              "  </tbody>\n",
              "</table>\n",
              "<p>5 rows × 91 columns</p>\n",
              "</div>\n",
              "    <div class=\"colab-df-buttons\">\n",
              "\n",
              "  <div class=\"colab-df-container\">\n",
              "    <button class=\"colab-df-convert\" onclick=\"convertToInteractive('df-91b5fba2-f652-41bb-8593-40e2b384f737')\"\n",
              "            title=\"Convert this dataframe to an interactive table.\"\n",
              "            style=\"display:none;\">\n",
              "\n",
              "  <svg xmlns=\"http://www.w3.org/2000/svg\" height=\"24px\" viewBox=\"0 -960 960 960\">\n",
              "    <path d=\"M120-120v-720h720v720H120Zm60-500h600v-160H180v160Zm220 220h160v-160H400v160Zm0 220h160v-160H400v160ZM180-400h160v-160H180v160Zm440 0h160v-160H620v160ZM180-180h160v-160H180v160Zm440 0h160v-160H620v160Z\"/>\n",
              "  </svg>\n",
              "    </button>\n",
              "\n",
              "  <style>\n",
              "    .colab-df-container {\n",
              "      display:flex;\n",
              "      gap: 12px;\n",
              "    }\n",
              "\n",
              "    .colab-df-convert {\n",
              "      background-color: #E8F0FE;\n",
              "      border: none;\n",
              "      border-radius: 50%;\n",
              "      cursor: pointer;\n",
              "      display: none;\n",
              "      fill: #1967D2;\n",
              "      height: 32px;\n",
              "      padding: 0 0 0 0;\n",
              "      width: 32px;\n",
              "    }\n",
              "\n",
              "    .colab-df-convert:hover {\n",
              "      background-color: #E2EBFA;\n",
              "      box-shadow: 0px 1px 2px rgba(60, 64, 67, 0.3), 0px 1px 3px 1px rgba(60, 64, 67, 0.15);\n",
              "      fill: #174EA6;\n",
              "    }\n",
              "\n",
              "    .colab-df-buttons div {\n",
              "      margin-bottom: 4px;\n",
              "    }\n",
              "\n",
              "    [theme=dark] .colab-df-convert {\n",
              "      background-color: #3B4455;\n",
              "      fill: #D2E3FC;\n",
              "    }\n",
              "\n",
              "    [theme=dark] .colab-df-convert:hover {\n",
              "      background-color: #434B5C;\n",
              "      box-shadow: 0px 1px 3px 1px rgba(0, 0, 0, 0.15);\n",
              "      filter: drop-shadow(0px 1px 2px rgba(0, 0, 0, 0.3));\n",
              "      fill: #FFFFFF;\n",
              "    }\n",
              "  </style>\n",
              "\n",
              "    <script>\n",
              "      const buttonEl =\n",
              "        document.querySelector('#df-91b5fba2-f652-41bb-8593-40e2b384f737 button.colab-df-convert');\n",
              "      buttonEl.style.display =\n",
              "        google.colab.kernel.accessAllowed ? 'block' : 'none';\n",
              "\n",
              "      async function convertToInteractive(key) {\n",
              "        const element = document.querySelector('#df-91b5fba2-f652-41bb-8593-40e2b384f737');\n",
              "        const dataTable =\n",
              "          await google.colab.kernel.invokeFunction('convertToInteractive',\n",
              "                                                    [key], {});\n",
              "        if (!dataTable) return;\n",
              "\n",
              "        const docLinkHtml = 'Like what you see? Visit the ' +\n",
              "          '<a target=\"_blank\" href=https://colab.research.google.com/notebooks/data_table.ipynb>data table notebook</a>'\n",
              "          + ' to learn more about interactive tables.';\n",
              "        element.innerHTML = '';\n",
              "        dataTable['output_type'] = 'display_data';\n",
              "        await google.colab.output.renderOutput(dataTable, element);\n",
              "        const docLink = document.createElement('div');\n",
              "        docLink.innerHTML = docLinkHtml;\n",
              "        element.appendChild(docLink);\n",
              "      }\n",
              "    </script>\n",
              "  </div>\n",
              "\n",
              "\n",
              "    <div id=\"df-86cbf4a3-96e3-464a-bdd0-41f0f8769fe5\">\n",
              "      <button class=\"colab-df-quickchart\" onclick=\"quickchart('df-86cbf4a3-96e3-464a-bdd0-41f0f8769fe5')\"\n",
              "                title=\"Suggest charts\"\n",
              "                style=\"display:none;\">\n",
              "\n",
              "<svg xmlns=\"http://www.w3.org/2000/svg\" height=\"24px\"viewBox=\"0 0 24 24\"\n",
              "     width=\"24px\">\n",
              "    <g>\n",
              "        <path d=\"M19 3H5c-1.1 0-2 .9-2 2v14c0 1.1.9 2 2 2h14c1.1 0 2-.9 2-2V5c0-1.1-.9-2-2-2zM9 17H7v-7h2v7zm4 0h-2V7h2v10zm4 0h-2v-4h2v4z\"/>\n",
              "    </g>\n",
              "</svg>\n",
              "      </button>\n",
              "\n",
              "<style>\n",
              "  .colab-df-quickchart {\n",
              "      --bg-color: #E8F0FE;\n",
              "      --fill-color: #1967D2;\n",
              "      --hover-bg-color: #E2EBFA;\n",
              "      --hover-fill-color: #174EA6;\n",
              "      --disabled-fill-color: #AAA;\n",
              "      --disabled-bg-color: #DDD;\n",
              "  }\n",
              "\n",
              "  [theme=dark] .colab-df-quickchart {\n",
              "      --bg-color: #3B4455;\n",
              "      --fill-color: #D2E3FC;\n",
              "      --hover-bg-color: #434B5C;\n",
              "      --hover-fill-color: #FFFFFF;\n",
              "      --disabled-bg-color: #3B4455;\n",
              "      --disabled-fill-color: #666;\n",
              "  }\n",
              "\n",
              "  .colab-df-quickchart {\n",
              "    background-color: var(--bg-color);\n",
              "    border: none;\n",
              "    border-radius: 50%;\n",
              "    cursor: pointer;\n",
              "    display: none;\n",
              "    fill: var(--fill-color);\n",
              "    height: 32px;\n",
              "    padding: 0;\n",
              "    width: 32px;\n",
              "  }\n",
              "\n",
              "  .colab-df-quickchart:hover {\n",
              "    background-color: var(--hover-bg-color);\n",
              "    box-shadow: 0 1px 2px rgba(60, 64, 67, 0.3), 0 1px 3px 1px rgba(60, 64, 67, 0.15);\n",
              "    fill: var(--button-hover-fill-color);\n",
              "  }\n",
              "\n",
              "  .colab-df-quickchart-complete:disabled,\n",
              "  .colab-df-quickchart-complete:disabled:hover {\n",
              "    background-color: var(--disabled-bg-color);\n",
              "    fill: var(--disabled-fill-color);\n",
              "    box-shadow: none;\n",
              "  }\n",
              "\n",
              "  .colab-df-spinner {\n",
              "    border: 2px solid var(--fill-color);\n",
              "    border-color: transparent;\n",
              "    border-bottom-color: var(--fill-color);\n",
              "    animation:\n",
              "      spin 1s steps(1) infinite;\n",
              "  }\n",
              "\n",
              "  @keyframes spin {\n",
              "    0% {\n",
              "      border-color: transparent;\n",
              "      border-bottom-color: var(--fill-color);\n",
              "      border-left-color: var(--fill-color);\n",
              "    }\n",
              "    20% {\n",
              "      border-color: transparent;\n",
              "      border-left-color: var(--fill-color);\n",
              "      border-top-color: var(--fill-color);\n",
              "    }\n",
              "    30% {\n",
              "      border-color: transparent;\n",
              "      border-left-color: var(--fill-color);\n",
              "      border-top-color: var(--fill-color);\n",
              "      border-right-color: var(--fill-color);\n",
              "    }\n",
              "    40% {\n",
              "      border-color: transparent;\n",
              "      border-right-color: var(--fill-color);\n",
              "      border-top-color: var(--fill-color);\n",
              "    }\n",
              "    60% {\n",
              "      border-color: transparent;\n",
              "      border-right-color: var(--fill-color);\n",
              "    }\n",
              "    80% {\n",
              "      border-color: transparent;\n",
              "      border-right-color: var(--fill-color);\n",
              "      border-bottom-color: var(--fill-color);\n",
              "    }\n",
              "    90% {\n",
              "      border-color: transparent;\n",
              "      border-bottom-color: var(--fill-color);\n",
              "    }\n",
              "  }\n",
              "</style>\n",
              "\n",
              "      <script>\n",
              "        async function quickchart(key) {\n",
              "          const quickchartButtonEl =\n",
              "            document.querySelector('#' + key + ' button');\n",
              "          quickchartButtonEl.disabled = true;  // To prevent multiple clicks.\n",
              "          quickchartButtonEl.classList.add('colab-df-spinner');\n",
              "          try {\n",
              "            const charts = await google.colab.kernel.invokeFunction(\n",
              "                'suggestCharts', [key], {});\n",
              "          } catch (error) {\n",
              "            console.error('Error during call to suggestCharts:', error);\n",
              "          }\n",
              "          quickchartButtonEl.classList.remove('colab-df-spinner');\n",
              "          quickchartButtonEl.classList.add('colab-df-quickchart-complete');\n",
              "        }\n",
              "        (() => {\n",
              "          let quickchartButtonEl =\n",
              "            document.querySelector('#df-86cbf4a3-96e3-464a-bdd0-41f0f8769fe5 button');\n",
              "          quickchartButtonEl.style.display =\n",
              "            google.colab.kernel.accessAllowed ? 'block' : 'none';\n",
              "        })();\n",
              "      </script>\n",
              "    </div>\n",
              "\n",
              "    </div>\n",
              "  </div>\n"
            ],
            "application/vnd.google.colaboratory.intrinsic+json": {
              "type": "dataframe",
              "variable_name": "df"
            }
          },
          "metadata": {},
          "execution_count": 8
        }
      ]
    },
    {
      "cell_type": "markdown",
      "source": [
        "#Preprocessing"
      ],
      "metadata": {
        "id": "jdgiDmDQr02l"
      }
    },
    {
      "cell_type": "code",
      "source": [
        "# Check for null values\n",
        "df.isnull().sum()"
      ],
      "metadata": {
        "colab": {
          "base_uri": "https://localhost:8080/",
          "height": 458
        },
        "id": "yCBzBbvsEKeZ",
        "outputId": "f1cccc2c-e93f-45c7-f40e-212f52ed39f4"
      },
      "execution_count": null,
      "outputs": [
        {
          "output_type": "execute_result",
          "data": {
            "text/plain": [
              "2001         0\n",
              "49.94357     0\n",
              "21.47114     0\n",
              "73.0775      0\n",
              "8.74861      0\n",
              "            ..\n",
              "-23.08793    1\n",
              "68.40795     1\n",
              "-1.82223     1\n",
              "-27.46348    1\n",
              "2.26327      1\n",
              "Length: 91, dtype: int64"
            ],
            "text/html": [
              "<div>\n",
              "<style scoped>\n",
              "    .dataframe tbody tr th:only-of-type {\n",
              "        vertical-align: middle;\n",
              "    }\n",
              "\n",
              "    .dataframe tbody tr th {\n",
              "        vertical-align: top;\n",
              "    }\n",
              "\n",
              "    .dataframe thead th {\n",
              "        text-align: right;\n",
              "    }\n",
              "</style>\n",
              "<table border=\"1\" class=\"dataframe\">\n",
              "  <thead>\n",
              "    <tr style=\"text-align: right;\">\n",
              "      <th></th>\n",
              "      <th>0</th>\n",
              "    </tr>\n",
              "  </thead>\n",
              "  <tbody>\n",
              "    <tr>\n",
              "      <th>2001</th>\n",
              "      <td>0</td>\n",
              "    </tr>\n",
              "    <tr>\n",
              "      <th>49.94357</th>\n",
              "      <td>0</td>\n",
              "    </tr>\n",
              "    <tr>\n",
              "      <th>21.47114</th>\n",
              "      <td>0</td>\n",
              "    </tr>\n",
              "    <tr>\n",
              "      <th>73.0775</th>\n",
              "      <td>0</td>\n",
              "    </tr>\n",
              "    <tr>\n",
              "      <th>8.74861</th>\n",
              "      <td>0</td>\n",
              "    </tr>\n",
              "    <tr>\n",
              "      <th>...</th>\n",
              "      <td>...</td>\n",
              "    </tr>\n",
              "    <tr>\n",
              "      <th>-23.08793</th>\n",
              "      <td>1</td>\n",
              "    </tr>\n",
              "    <tr>\n",
              "      <th>68.40795</th>\n",
              "      <td>1</td>\n",
              "    </tr>\n",
              "    <tr>\n",
              "      <th>-1.82223</th>\n",
              "      <td>1</td>\n",
              "    </tr>\n",
              "    <tr>\n",
              "      <th>-27.46348</th>\n",
              "      <td>1</td>\n",
              "    </tr>\n",
              "    <tr>\n",
              "      <th>2.26327</th>\n",
              "      <td>1</td>\n",
              "    </tr>\n",
              "  </tbody>\n",
              "</table>\n",
              "<p>91 rows × 1 columns</p>\n",
              "</div><br><label><b>dtype:</b> int64</label>"
            ]
          },
          "metadata": {},
          "execution_count": 9
        }
      ]
    },
    {
      "cell_type": "code",
      "source": [
        "# Drop any columns that contain null values (optional)\n",
        "df.dropna(inplace=True)"
      ],
      "metadata": {
        "id": "kHe-DhMMEMas"
      },
      "execution_count": null,
      "outputs": []
    },
    {
      "cell_type": "code",
      "source": [
        "# Check for duplicates and remove them\n",
        "df.drop_duplicates(inplace=True)"
      ],
      "metadata": {
        "id": "mq0EQHcAEO_K"
      },
      "execution_count": null,
      "outputs": []
    },
    {
      "cell_type": "code",
      "source": [
        "df.info()"
      ],
      "metadata": {
        "colab": {
          "base_uri": "https://localhost:8080/"
        },
        "id": "mYLecSKzERVS",
        "outputId": "b57fbcde-3164-406f-891e-5b98d42fa034"
      },
      "execution_count": null,
      "outputs": [
        {
          "output_type": "stream",
          "name": "stdout",
          "text": [
            "<class 'pandas.core.frame.DataFrame'>\n",
            "Index: 258300 entries, 0 to 258416\n",
            "Data columns (total 91 columns):\n",
            " #   Column      Non-Null Count   Dtype  \n",
            "---  ------      --------------   -----  \n",
            " 0   2001        258300 non-null  int64  \n",
            " 1   49.94357    258300 non-null  float64\n",
            " 2   21.47114    258300 non-null  float64\n",
            " 3   73.0775     258300 non-null  float64\n",
            " 4   8.74861     258300 non-null  float64\n",
            " 5   -17.40628   258300 non-null  float64\n",
            " 6   -13.09905   258300 non-null  float64\n",
            " 7   -25.01202   258300 non-null  float64\n",
            " 8   -12.23257   258300 non-null  float64\n",
            " 9   7.83089     258300 non-null  float64\n",
            " 10  -2.46783    258300 non-null  float64\n",
            " 11  3.32136     258300 non-null  float64\n",
            " 12  -2.31521    258300 non-null  float64\n",
            " 13  10.20556    258300 non-null  float64\n",
            " 14  611.10913   258300 non-null  float64\n",
            " 15  951.0896    258300 non-null  float64\n",
            " 16  698.11428   258300 non-null  float64\n",
            " 17  408.98485   258300 non-null  float64\n",
            " 18  383.70912   258300 non-null  float64\n",
            " 19  326.51512   258300 non-null  float64\n",
            " 20  238.11327   258300 non-null  float64\n",
            " 21  251.42414   258300 non-null  float64\n",
            " 22  187.17351   258300 non-null  float64\n",
            " 23  100.42652   258300 non-null  float64\n",
            " 24  179.19498   258300 non-null  float64\n",
            " 25  -8.41558    258300 non-null  float64\n",
            " 26  -317.87038  258300 non-null  float64\n",
            " 27  95.86266    258300 non-null  float64\n",
            " 28  48.10259    258300 non-null  float64\n",
            " 29  -95.66303   258300 non-null  float64\n",
            " 30  -18.06215   258300 non-null  float64\n",
            " 31  1.96984     258300 non-null  float64\n",
            " 32  34.42438    258300 non-null  float64\n",
            " 33  11.7267     258300 non-null  float64\n",
            " 34  1.3679      258300 non-null  float64\n",
            " 35  7.79444     258300 non-null  float64\n",
            " 36  -0.36994    258300 non-null  float64\n",
            " 37  -133.67852  258300 non-null  float64\n",
            " 38  -83.26165   258300 non-null  float64\n",
            " 39  -37.29765   258300 non-null  float64\n",
            " 40  73.04667    258300 non-null  float64\n",
            " 41  -37.36684   258300 non-null  float64\n",
            " 42  -3.13853    258300 non-null  float64\n",
            " 43  -24.21531   258300 non-null  float64\n",
            " 44  -13.23066   258300 non-null  float64\n",
            " 45  15.93809    258300 non-null  float64\n",
            " 46  -18.60478   258300 non-null  float64\n",
            " 47  82.15479    258300 non-null  float64\n",
            " 48  240.5798    258300 non-null  float64\n",
            " 49  -10.29407   258300 non-null  float64\n",
            " 50  31.58431    258300 non-null  float64\n",
            " 51  -25.38187   258300 non-null  float64\n",
            " 52  -3.90772    258300 non-null  float64\n",
            " 53  13.29258    258300 non-null  float64\n",
            " 54  41.5506     258300 non-null  float64\n",
            " 55  -7.26272    258300 non-null  float64\n",
            " 56  -21.00863   258300 non-null  float64\n",
            " 57  105.50848   258300 non-null  float64\n",
            " 58  64.29856    258300 non-null  float64\n",
            " 59  26.08481    258300 non-null  float64\n",
            " 60  -44.5911    258300 non-null  float64\n",
            " 61  -8.30657    258300 non-null  float64\n",
            " 62  7.93706     258300 non-null  float64\n",
            " 63  -10.7366    258300 non-null  float64\n",
            " 64  -95.44766   258300 non-null  float64\n",
            " 65  -82.03307   258300 non-null  float64\n",
            " 66  -35.59194   258300 non-null  float64\n",
            " 67  4.69525     258300 non-null  float64\n",
            " 68  70.95626    258300 non-null  float64\n",
            " 69  28.09139    258300 non-null  float64\n",
            " 70  6.02015     258300 non-null  float64\n",
            " 71  -37.13767   258300 non-null  float64\n",
            " 72  -41.1245    258300 non-null  float64\n",
            " 73  -8.40816    258300 non-null  float64\n",
            " 74  7.19877     258300 non-null  float64\n",
            " 75  -8.60176    258300 non-null  float64\n",
            " 76  -5.90857    258300 non-null  float64\n",
            " 77  -12.32437   258300 non-null  float64\n",
            " 78  14.68734    258300 non-null  float64\n",
            " 79  -54.32125   258300 non-null  float64\n",
            " 80  40.14786    258300 non-null  float64\n",
            " 81  13.0162     258300 non-null  float64\n",
            " 82  -54.40548   258300 non-null  float64\n",
            " 83  58.99367    258300 non-null  float64\n",
            " 84  15.37344    258300 non-null  float64\n",
            " 85  1.11144     258300 non-null  float64\n",
            " 86  -23.08793   258300 non-null  float64\n",
            " 87  68.40795    258300 non-null  float64\n",
            " 88  -1.82223    258300 non-null  float64\n",
            " 89  -27.46348   258300 non-null  float64\n",
            " 90  2.26327     258300 non-null  float64\n",
            "dtypes: float64(90), int64(1)\n",
            "memory usage: 181.3 MB\n"
          ]
        }
      ]
    },
    {
      "cell_type": "code",
      "source": [
        "# Memindahkan kolom target '2001' ke posisi pertama\n",
        "df = df[[df.columns[-1]] + [col for col in df.columns if col != df.columns[-1]]]\n",
        "\n",
        "# Memisahkan fitur (X) dan target (y)\n",
        "X = df.drop(columns=['2001'])  # Menghapus kolom target dari fitur\n",
        "y = df['2001']  # Kolom '2001' sebagai target\n"
      ],
      "metadata": {
        "id": "everktojEZWg"
      },
      "execution_count": null,
      "outputs": []
    },
    {
      "cell_type": "code",
      "source": [
        "# Cek hasilnya\n",
        "print(\"Fitur (X) - Data:\")\n",
        "print(X.head())\n",
        "\n",
        "print(\"\\nTarget (y) - Data:\")\n",
        "print(y.head())"
      ],
      "metadata": {
        "colab": {
          "base_uri": "https://localhost:8080/"
        },
        "id": "vUJbOLcf_g1J",
        "outputId": "0ed4ec06-0623-47e8-dc69-53a87cf8adf9"
      },
      "execution_count": null,
      "outputs": [
        {
          "output_type": "stream",
          "name": "stdout",
          "text": [
            "Fitur (X) - Data:\n",
            "    2.26327  49.94357  21.47114   73.0775   8.74861  -17.40628  -13.09905  \\\n",
            "0  26.92061  48.73215  18.42930  70.32679  12.94636  -10.32437  -24.83777   \n",
            "1  -0.66345  50.95714  31.85602  55.81851  13.41693   -6.57898  -18.54940   \n",
            "2  18.85382  48.24750  -1.89837  36.29772   2.58776    0.97170  -26.21683   \n",
            "3  28.74903  50.97020  42.20998  67.09964   8.46791  -15.85279  -16.81409   \n",
            "4   0.02263  50.54767   0.31568  92.35066  22.38696  -25.51870  -19.04928   \n",
            "\n",
            "   -25.01202  -12.23257   7.83089  ...  40.14786   13.0162  -54.40548  \\\n",
            "0    8.76630   -0.92019  18.76548  ... -58.81266   5.66812  -19.68073   \n",
            "1   -3.27872   -2.35035  16.07017  ...  66.00518   3.03800   26.05866   \n",
            "2    5.05097  -10.34124   3.55005  ...  85.23416  34.57337 -171.70734   \n",
            "3  -12.48207   -9.37636  12.63699  ... -30.64232   9.92661  -55.95724   \n",
            "4   20.67345   -5.19943   3.63566  ...  47.25143   6.59753  -50.69577   \n",
            "\n",
            "   58.99367  15.37344   1.11144  -23.08793   68.40795  -1.82223  -27.46348  \n",
            "0  33.04964  42.87836  -9.90378  -32.22788   70.49388  12.04941   58.43453  \n",
            "1 -50.92779  10.93792  -0.07568   43.20130 -115.00698  -0.05859   39.67068  \n",
            "2 -16.96705 -46.67617 -12.51516   82.58061  -72.08993   9.90558  199.62971  \n",
            "3  64.92712 -17.72522  -1.49237   -7.50035   51.76631   7.88713   55.66926  \n",
            "4  26.02574  18.94430  -0.33730    6.09352   35.18381   5.00283  -11.02257  \n",
            "\n",
            "[5 rows x 90 columns]\n",
            "\n",
            "Target (y) - Data:\n",
            "0    2001\n",
            "1    2001\n",
            "2    2001\n",
            "3    2001\n",
            "4    2001\n",
            "Name: 2001, dtype: int64\n"
          ]
        }
      ]
    },
    {
      "cell_type": "code",
      "source": [
        "# Melakukan penskalaan pada fitur numerik\n",
        "scaler = StandardScaler()\n",
        "X_scaled = scaler.fit_transform(X)"
      ],
      "metadata": {
        "id": "KSmDlfNFExEM"
      },
      "execution_count": null,
      "outputs": []
    },
    {
      "cell_type": "code",
      "source": [
        "# Memisahkan data menjadi data pelatihan dan pengujian\n",
        "X_train, X_test, y_train, y_test = train_test_split(X_scaled, y, test_size=0.2, random_state=42)\n"
      ],
      "metadata": {
        "id": "WgjKi5YTE494"
      },
      "execution_count": null,
      "outputs": []
    },
    {
      "cell_type": "markdown",
      "source": [
        "# Build Model"
      ],
      "metadata": {
        "id": "o8lLz0ZksHZK"
      }
    },
    {
      "cell_type": "code",
      "source": [
        "# Menyusun model MLP\n",
        "model = tf.keras.Sequential([\n",
        "    tf.keras.layers.Dense(64, activation='relu', input_dim=X_train.shape[1]),\n",
        "    tf.keras.layers.Dense(64, activation='relu'),\n",
        "    tf.keras.layers.Dense(1)\n",
        "])\n"
      ],
      "metadata": {
        "colab": {
          "base_uri": "https://localhost:8080/"
        },
        "id": "FkqU8KrgE68a",
        "outputId": "d768c0ae-8799-4e5e-8b36-19eba130d3be"
      },
      "execution_count": null,
      "outputs": [
        {
          "output_type": "stream",
          "name": "stderr",
          "text": [
            "/usr/local/lib/python3.11/dist-packages/keras/src/layers/core/dense.py:87: UserWarning: Do not pass an `input_shape`/`input_dim` argument to a layer. When using Sequential models, prefer using an `Input(shape)` object as the first layer in the model instead.\n",
            "  super().__init__(activity_regularizer=activity_regularizer, **kwargs)\n"
          ]
        }
      ]
    },
    {
      "cell_type": "code",
      "source": [
        "# Menyusun model\n",
        "model.compile(optimizer='adam', loss='mse', metrics=['mae', 'mse'])\n"
      ],
      "metadata": {
        "id": "Gat0i-3jE-G9"
      },
      "execution_count": null,
      "outputs": []
    },
    {
      "cell_type": "markdown",
      "source": [
        "##Train Model"
      ],
      "metadata": {
        "id": "p0WjIssHsKF2"
      }
    },
    {
      "cell_type": "code",
      "source": [
        "# Melatih model\n",
        "history = model.fit(X_train, y_train, epochs=100, batch_size=32, validation_data=(X_test, y_test))"
      ],
      "metadata": {
        "colab": {
          "base_uri": "https://localhost:8080/"
        },
        "id": "zJgjTKysFAph",
        "outputId": "87841cfe-18ed-4054-e30e-aa15ca38fe2c"
      },
      "execution_count": null,
      "outputs": [
        {
          "output_type": "stream",
          "name": "stdout",
          "text": [
            "Epoch 1/100\n",
            "\u001b[1m6458/6458\u001b[0m \u001b[32m━━━━━━━━━━━━━━━━━━━━\u001b[0m\u001b[37m\u001b[0m \u001b[1m21s\u001b[0m 3ms/step - loss: 124.1390 - mae: 7.9552 - mse: 124.1390 - val_loss: 253.2543 - val_mae: 11.3719 - val_mse: 253.2543\n",
            "Epoch 2/100\n",
            "\u001b[1m6458/6458\u001b[0m \u001b[32m━━━━━━━━━━━━━━━━━━━━\u001b[0m\u001b[37m\u001b[0m \u001b[1m41s\u001b[0m 3ms/step - loss: 135.4711 - mae: 8.3617 - mse: 135.4711 - val_loss: 105.1663 - val_mae: 7.3058 - val_mse: 105.1663\n",
            "Epoch 3/100\n",
            "\u001b[1m6458/6458\u001b[0m \u001b[32m━━━━━━━━━━━━━━━━━━━━\u001b[0m\u001b[37m\u001b[0m \u001b[1m18s\u001b[0m 3ms/step - loss: 128.7396 - mae: 8.2283 - mse: 128.7396 - val_loss: 116.0776 - val_mae: 7.7974 - val_mse: 116.0776\n",
            "Epoch 4/100\n",
            "\u001b[1m6458/6458\u001b[0m \u001b[32m━━━━━━━━━━━━━━━━━━━━\u001b[0m\u001b[37m\u001b[0m \u001b[1m24s\u001b[0m 3ms/step - loss: 126.6322 - mae: 8.0970 - mse: 126.6322 - val_loss: 153.6835 - val_mae: 9.4155 - val_mse: 153.6835\n",
            "Epoch 5/100\n",
            "\u001b[1m6458/6458\u001b[0m \u001b[32m━━━━━━━━━━━━━━━━━━━━\u001b[0m\u001b[37m\u001b[0m \u001b[1m40s\u001b[0m 3ms/step - loss: 143.8397 - mae: 8.2591 - mse: 143.8397 - val_loss: 125.4409 - val_mae: 8.3428 - val_mse: 125.4409\n",
            "Epoch 6/100\n",
            "\u001b[1m6458/6458\u001b[0m \u001b[32m━━━━━━━━━━━━━━━━━━━━\u001b[0m\u001b[37m\u001b[0m \u001b[1m40s\u001b[0m 3ms/step - loss: 139.3306 - mae: 8.3461 - mse: 139.3306 - val_loss: 122.4126 - val_mae: 7.9500 - val_mse: 122.4126\n",
            "Epoch 7/100\n",
            "\u001b[1m6458/6458\u001b[0m \u001b[32m━━━━━━━━━━━━━━━━━━━━\u001b[0m\u001b[37m\u001b[0m \u001b[1m19s\u001b[0m 3ms/step - loss: 125.1171 - mae: 7.8645 - mse: 125.1171 - val_loss: 119.8272 - val_mae: 8.0525 - val_mse: 119.8272\n",
            "Epoch 8/100\n",
            "\u001b[1m6458/6458\u001b[0m \u001b[32m━━━━━━━━━━━━━━━━━━━━\u001b[0m\u001b[37m\u001b[0m \u001b[1m20s\u001b[0m 3ms/step - loss: 141.3305 - mae: 8.3415 - mse: 141.3305 - val_loss: 119.7087 - val_mae: 7.8119 - val_mse: 119.7087\n",
            "Epoch 9/100\n",
            "\u001b[1m6458/6458\u001b[0m \u001b[32m━━━━━━━━━━━━━━━━━━━━\u001b[0m\u001b[37m\u001b[0m \u001b[1m19s\u001b[0m 3ms/step - loss: 140.6947 - mae: 8.2759 - mse: 140.6947 - val_loss: 105.1914 - val_mae: 7.2479 - val_mse: 105.1914\n",
            "Epoch 10/100\n",
            "\u001b[1m6458/6458\u001b[0m \u001b[32m━━━━━━━━━━━━━━━━━━━━\u001b[0m\u001b[37m\u001b[0m \u001b[1m22s\u001b[0m 3ms/step - loss: 119.9526 - mae: 7.8045 - mse: 119.9526 - val_loss: 97.8245 - val_mae: 6.9595 - val_mse: 97.8245\n",
            "Epoch 11/100\n",
            "\u001b[1m6458/6458\u001b[0m \u001b[32m━━━━━━━━━━━━━━━━━━━━\u001b[0m\u001b[37m\u001b[0m \u001b[1m21s\u001b[0m 3ms/step - loss: 119.9934 - mae: 7.7779 - mse: 119.9934 - val_loss: 400.8393 - val_mae: 15.7107 - val_mse: 400.8393\n",
            "Epoch 12/100\n",
            "\u001b[1m6458/6458\u001b[0m \u001b[32m━━━━━━━━━━━━━━━━━━━━\u001b[0m\u001b[37m\u001b[0m \u001b[1m39s\u001b[0m 3ms/step - loss: 180.5305 - mae: 8.5609 - mse: 180.5305 - val_loss: 107.3318 - val_mae: 7.0971 - val_mse: 107.3318\n",
            "Epoch 13/100\n",
            "\u001b[1m6458/6458\u001b[0m \u001b[32m━━━━━━━━━━━━━━━━━━━━\u001b[0m\u001b[37m\u001b[0m \u001b[1m21s\u001b[0m 3ms/step - loss: 118.9959 - mae: 7.9125 - mse: 118.9959 - val_loss: 98.3694 - val_mae: 6.9039 - val_mse: 98.3694\n",
            "Epoch 14/100\n",
            "\u001b[1m6458/6458\u001b[0m \u001b[32m━━━━━━━━━━━━━━━━━━━━\u001b[0m\u001b[37m\u001b[0m \u001b[1m20s\u001b[0m 3ms/step - loss: 120.8248 - mae: 7.9708 - mse: 120.8248 - val_loss: 102.1531 - val_mae: 7.2407 - val_mse: 102.1531\n",
            "Epoch 15/100\n",
            "\u001b[1m6458/6458\u001b[0m \u001b[32m━━━━━━━━━━━━━━━━━━━━\u001b[0m\u001b[37m\u001b[0m \u001b[1m19s\u001b[0m 3ms/step - loss: 161.3896 - mae: 8.3455 - mse: 161.3896 - val_loss: 110.9769 - val_mae: 7.6718 - val_mse: 110.9769\n",
            "Epoch 16/100\n",
            "\u001b[1m6458/6458\u001b[0m \u001b[32m━━━━━━━━━━━━━━━━━━━━\u001b[0m\u001b[37m\u001b[0m \u001b[1m22s\u001b[0m 3ms/step - loss: 126.2994 - mae: 8.0945 - mse: 126.2994 - val_loss: 116.3814 - val_mae: 7.8772 - val_mse: 116.3814\n",
            "Epoch 17/100\n",
            "\u001b[1m6458/6458\u001b[0m \u001b[32m━━━━━━━━━━━━━━━━━━━━\u001b[0m\u001b[37m\u001b[0m \u001b[1m21s\u001b[0m 3ms/step - loss: 119.7514 - mae: 7.8426 - mse: 119.7514 - val_loss: 90.3312 - val_mae: 6.5947 - val_mse: 90.3312\n",
            "Epoch 18/100\n",
            "\u001b[1m6458/6458\u001b[0m \u001b[32m━━━━━━━━━━━━━━━━━━━━\u001b[0m\u001b[37m\u001b[0m \u001b[1m40s\u001b[0m 3ms/step - loss: 109.8672 - mae: 7.4961 - mse: 109.8672 - val_loss: 97.1279 - val_mae: 6.9406 - val_mse: 97.1279\n",
            "Epoch 19/100\n",
            "\u001b[1m6458/6458\u001b[0m \u001b[32m━━━━━━━━━━━━━━━━━━━━\u001b[0m\u001b[37m\u001b[0m \u001b[1m21s\u001b[0m 3ms/step - loss: 128.8441 - mae: 7.9767 - mse: 128.8441 - val_loss: 101.2631 - val_mae: 6.8965 - val_mse: 101.2631\n",
            "Epoch 20/100\n",
            "\u001b[1m6458/6458\u001b[0m \u001b[32m━━━━━━━━━━━━━━━━━━━━\u001b[0m\u001b[37m\u001b[0m \u001b[1m40s\u001b[0m 3ms/step - loss: 122.3592 - mae: 7.7993 - mse: 122.3592 - val_loss: 91.7501 - val_mae: 6.7085 - val_mse: 91.7501\n",
            "Epoch 21/100\n",
            "\u001b[1m6458/6458\u001b[0m \u001b[32m━━━━━━━━━━━━━━━━━━━━\u001b[0m\u001b[37m\u001b[0m \u001b[1m19s\u001b[0m 3ms/step - loss: 125.0067 - mae: 7.8275 - mse: 125.0067 - val_loss: 124.6903 - val_mae: 8.3152 - val_mse: 124.6903\n",
            "Epoch 22/100\n",
            "\u001b[1m6458/6458\u001b[0m \u001b[32m━━━━━━━━━━━━━━━━━━━━\u001b[0m\u001b[37m\u001b[0m \u001b[1m21s\u001b[0m 3ms/step - loss: 116.8819 - mae: 7.8077 - mse: 116.8819 - val_loss: 104.4946 - val_mae: 7.2560 - val_mse: 104.4946\n",
            "Epoch 23/100\n",
            "\u001b[1m6458/6458\u001b[0m \u001b[32m━━━━━━━━━━━━━━━━━━━━\u001b[0m\u001b[37m\u001b[0m \u001b[1m21s\u001b[0m 3ms/step - loss: 112.6805 - mae: 7.7427 - mse: 112.6805 - val_loss: 114.2226 - val_mae: 7.9790 - val_mse: 114.2226\n",
            "Epoch 24/100\n",
            "\u001b[1m6458/6458\u001b[0m \u001b[32m━━━━━━━━━━━━━━━━━━━━\u001b[0m\u001b[37m\u001b[0m \u001b[1m40s\u001b[0m 3ms/step - loss: 126.6738 - mae: 7.8162 - mse: 126.6738 - val_loss: 106.5142 - val_mae: 7.1085 - val_mse: 106.5142\n",
            "Epoch 25/100\n",
            "\u001b[1m6458/6458\u001b[0m \u001b[32m━━━━━━━━━━━━━━━━━━━━\u001b[0m\u001b[37m\u001b[0m \u001b[1m22s\u001b[0m 3ms/step - loss: 127.9466 - mae: 7.9145 - mse: 127.9466 - val_loss: 113.0326 - val_mae: 8.2499 - val_mse: 113.0326\n",
            "Epoch 26/100\n",
            "\u001b[1m6458/6458\u001b[0m \u001b[32m━━━━━━━━━━━━━━━━━━━━\u001b[0m\u001b[37m\u001b[0m \u001b[1m42s\u001b[0m 3ms/step - loss: 107.9648 - mae: 7.5121 - mse: 107.9648 - val_loss: 113.0128 - val_mae: 7.8937 - val_mse: 113.0128\n",
            "Epoch 27/100\n",
            "\u001b[1m6458/6458\u001b[0m \u001b[32m━━━━━━━━━━━━━━━━━━━━\u001b[0m\u001b[37m\u001b[0m \u001b[1m19s\u001b[0m 3ms/step - loss: 112.8206 - mae: 7.6445 - mse: 112.8206 - val_loss: 110.4422 - val_mae: 7.4381 - val_mse: 110.4422\n",
            "Epoch 28/100\n",
            "\u001b[1m6458/6458\u001b[0m \u001b[32m━━━━━━━━━━━━━━━━━━━━\u001b[0m\u001b[37m\u001b[0m \u001b[1m21s\u001b[0m 3ms/step - loss: 115.5341 - mae: 7.8220 - mse: 115.5341 - val_loss: 164.5901 - val_mae: 9.7690 - val_mse: 164.5901\n",
            "Epoch 29/100\n",
            "\u001b[1m6458/6458\u001b[0m \u001b[32m━━━━━━━━━━━━━━━━━━━━\u001b[0m\u001b[37m\u001b[0m \u001b[1m41s\u001b[0m 3ms/step - loss: 113.4994 - mae: 7.7041 - mse: 113.4994 - val_loss: 123.6049 - val_mae: 7.8045 - val_mse: 123.6049\n",
            "Epoch 30/100\n",
            "\u001b[1m6458/6458\u001b[0m \u001b[32m━━━━━━━━━━━━━━━━━━━━\u001b[0m\u001b[37m\u001b[0m \u001b[1m19s\u001b[0m 3ms/step - loss: 117.9568 - mae: 7.8027 - mse: 117.9568 - val_loss: 102.1680 - val_mae: 7.3068 - val_mse: 102.1680\n",
            "Epoch 31/100\n",
            "\u001b[1m6458/6458\u001b[0m \u001b[32m━━━━━━━━━━━━━━━━━━━━\u001b[0m\u001b[37m\u001b[0m \u001b[1m22s\u001b[0m 3ms/step - loss: 119.5102 - mae: 7.8651 - mse: 119.5102 - val_loss: 116.4351 - val_mae: 7.7491 - val_mse: 116.4351\n",
            "Epoch 32/100\n",
            "\u001b[1m6458/6458\u001b[0m \u001b[32m━━━━━━━━━━━━━━━━━━━━\u001b[0m\u001b[37m\u001b[0m \u001b[1m20s\u001b[0m 3ms/step - loss: 116.7625 - mae: 7.7023 - mse: 116.7625 - val_loss: 103.8048 - val_mae: 7.3262 - val_mse: 103.8048\n",
            "Epoch 33/100\n",
            "\u001b[1m6458/6458\u001b[0m \u001b[32m━━━━━━━━━━━━━━━━━━━━\u001b[0m\u001b[37m\u001b[0m \u001b[1m19s\u001b[0m 3ms/step - loss: 112.4046 - mae: 7.6908 - mse: 112.4046 - val_loss: 100.7486 - val_mae: 6.9374 - val_mse: 100.7486\n",
            "Epoch 34/100\n",
            "\u001b[1m6458/6458\u001b[0m \u001b[32m━━━━━━━━━━━━━━━━━━━━\u001b[0m\u001b[37m\u001b[0m \u001b[1m23s\u001b[0m 3ms/step - loss: 106.1024 - mae: 7.3397 - mse: 106.1024 - val_loss: 101.9568 - val_mae: 7.0300 - val_mse: 101.9568\n",
            "Epoch 35/100\n",
            "\u001b[1m6458/6458\u001b[0m \u001b[32m━━━━━━━━━━━━━━━━━━━━\u001b[0m\u001b[37m\u001b[0m \u001b[1m40s\u001b[0m 3ms/step - loss: 108.1465 - mae: 7.5340 - mse: 108.1465 - val_loss: 213.6646 - val_mae: 10.5570 - val_mse: 213.6646\n",
            "Epoch 36/100\n",
            "\u001b[1m6458/6458\u001b[0m \u001b[32m━━━━━━━━━━━━━━━━━━━━\u001b[0m\u001b[37m\u001b[0m \u001b[1m41s\u001b[0m 3ms/step - loss: 108.4492 - mae: 7.5515 - mse: 108.4492 - val_loss: 114.1102 - val_mae: 7.6216 - val_mse: 114.1102\n",
            "Epoch 37/100\n",
            "\u001b[1m6458/6458\u001b[0m \u001b[32m━━━━━━━━━━━━━━━━━━━━\u001b[0m\u001b[37m\u001b[0m \u001b[1m19s\u001b[0m 3ms/step - loss: 111.2953 - mae: 7.5164 - mse: 111.2953 - val_loss: 105.6754 - val_mae: 6.9572 - val_mse: 105.6754\n",
            "Epoch 38/100\n",
            "\u001b[1m6458/6458\u001b[0m \u001b[32m━━━━━━━━━━━━━━━━━━━━\u001b[0m\u001b[37m\u001b[0m \u001b[1m20s\u001b[0m 3ms/step - loss: 114.3168 - mae: 7.6554 - mse: 114.3168 - val_loss: 127.9760 - val_mae: 8.4899 - val_mse: 127.9760\n",
            "Epoch 39/100\n",
            "\u001b[1m6458/6458\u001b[0m \u001b[32m━━━━━━━━━━━━━━━━━━━━\u001b[0m\u001b[37m\u001b[0m \u001b[1m20s\u001b[0m 3ms/step - loss: 113.5592 - mae: 7.7001 - mse: 113.5592 - val_loss: 95.2077 - val_mae: 6.9141 - val_mse: 95.2077\n",
            "Epoch 40/100\n",
            "\u001b[1m6458/6458\u001b[0m \u001b[32m━━━━━━━━━━━━━━━━━━━━\u001b[0m\u001b[37m\u001b[0m \u001b[1m21s\u001b[0m 3ms/step - loss: 110.1347 - mae: 7.5810 - mse: 110.1347 - val_loss: 181.1883 - val_mae: 10.0103 - val_mse: 181.1883\n",
            "Epoch 41/100\n",
            "\u001b[1m6458/6458\u001b[0m \u001b[32m━━━━━━━━━━━━━━━━━━━━\u001b[0m\u001b[37m\u001b[0m \u001b[1m41s\u001b[0m 3ms/step - loss: 125.4177 - mae: 7.7323 - mse: 125.4177 - val_loss: 110.5562 - val_mae: 7.6428 - val_mse: 110.5562\n",
            "Epoch 42/100\n",
            "\u001b[1m6458/6458\u001b[0m \u001b[32m━━━━━━━━━━━━━━━━━━━━\u001b[0m\u001b[37m\u001b[0m \u001b[1m40s\u001b[0m 3ms/step - loss: 110.7939 - mae: 7.5771 - mse: 110.7939 - val_loss: 107.4981 - val_mae: 7.9925 - val_mse: 107.4981\n",
            "Epoch 43/100\n",
            "\u001b[1m6458/6458\u001b[0m \u001b[32m━━━━━━━━━━━━━━━━━━━━\u001b[0m\u001b[37m\u001b[0m \u001b[1m20s\u001b[0m 3ms/step - loss: 108.0355 - mae: 7.5234 - mse: 108.0355 - val_loss: 98.8161 - val_mae: 7.1832 - val_mse: 98.8161\n",
            "Epoch 44/100\n",
            "\u001b[1m6458/6458\u001b[0m \u001b[32m━━━━━━━━━━━━━━━━━━━━\u001b[0m\u001b[37m\u001b[0m \u001b[1m20s\u001b[0m 3ms/step - loss: 107.8620 - mae: 7.5686 - mse: 107.8620 - val_loss: 104.8966 - val_mae: 7.6859 - val_mse: 104.8966\n",
            "Epoch 45/100\n",
            "\u001b[1m6458/6458\u001b[0m \u001b[32m━━━━━━━━━━━━━━━━━━━━\u001b[0m\u001b[37m\u001b[0m \u001b[1m22s\u001b[0m 3ms/step - loss: 142.3110 - mae: 7.8301 - mse: 142.3110 - val_loss: 114.3587 - val_mae: 8.1607 - val_mse: 114.3587\n",
            "Epoch 46/100\n",
            "\u001b[1m6458/6458\u001b[0m \u001b[32m━━━━━━━━━━━━━━━━━━━━\u001b[0m\u001b[37m\u001b[0m \u001b[1m19s\u001b[0m 3ms/step - loss: 114.9321 - mae: 7.6139 - mse: 114.9321 - val_loss: 99.5752 - val_mae: 6.9773 - val_mse: 99.5752\n",
            "Epoch 47/100\n",
            "\u001b[1m6458/6458\u001b[0m \u001b[32m━━━━━━━━━━━━━━━━━━━━\u001b[0m\u001b[37m\u001b[0m \u001b[1m22s\u001b[0m 3ms/step - loss: 106.0598 - mae: 7.4353 - mse: 106.0598 - val_loss: 117.8952 - val_mae: 7.5664 - val_mse: 117.8952\n",
            "Epoch 48/100\n",
            "\u001b[1m6458/6458\u001b[0m \u001b[32m━━━━━━━━━━━━━━━━━━━━\u001b[0m\u001b[37m\u001b[0m \u001b[1m41s\u001b[0m 3ms/step - loss: 106.2587 - mae: 7.4150 - mse: 106.2587 - val_loss: 129.3542 - val_mae: 8.0933 - val_mse: 129.3542\n",
            "Epoch 49/100\n",
            "\u001b[1m6458/6458\u001b[0m \u001b[32m━━━━━━━━━━━━━━━━━━━━\u001b[0m\u001b[37m\u001b[0m \u001b[1m40s\u001b[0m 3ms/step - loss: 110.1907 - mae: 7.4415 - mse: 110.1907 - val_loss: 110.0481 - val_mae: 7.3650 - val_mse: 110.0481\n",
            "Epoch 50/100\n",
            "\u001b[1m6458/6458\u001b[0m \u001b[32m━━━━━━━━━━━━━━━━━━━━\u001b[0m\u001b[37m\u001b[0m \u001b[1m19s\u001b[0m 3ms/step - loss: 117.2500 - mae: 7.6049 - mse: 117.2500 - val_loss: 109.4993 - val_mae: 7.4508 - val_mse: 109.4993\n",
            "Epoch 51/100\n",
            "\u001b[1m6458/6458\u001b[0m \u001b[32m━━━━━━━━━━━━━━━━━━━━\u001b[0m\u001b[37m\u001b[0m \u001b[1m22s\u001b[0m 3ms/step - loss: 108.5307 - mae: 7.5226 - mse: 108.5307 - val_loss: 144.5108 - val_mae: 9.0666 - val_mse: 144.5108\n",
            "Epoch 52/100\n",
            "\u001b[1m6458/6458\u001b[0m \u001b[32m━━━━━━━━━━━━━━━━━━━━\u001b[0m\u001b[37m\u001b[0m \u001b[1m21s\u001b[0m 3ms/step - loss: 108.3109 - mae: 7.4863 - mse: 108.3109 - val_loss: 118.1023 - val_mae: 7.7637 - val_mse: 118.1023\n",
            "Epoch 53/100\n",
            "\u001b[1m6458/6458\u001b[0m \u001b[32m━━━━━━━━━━━━━━━━━━━━\u001b[0m\u001b[37m\u001b[0m \u001b[1m24s\u001b[0m 4ms/step - loss: 116.0796 - mae: 7.6384 - mse: 116.0796 - val_loss: 91.5944 - val_mae: 6.8883 - val_mse: 91.5944\n",
            "Epoch 54/100\n",
            "\u001b[1m6458/6458\u001b[0m \u001b[32m━━━━━━━━━━━━━━━━━━━━\u001b[0m\u001b[37m\u001b[0m \u001b[1m38s\u001b[0m 3ms/step - loss: 112.9796 - mae: 7.3965 - mse: 112.9796 - val_loss: 91.8109 - val_mae: 6.9664 - val_mse: 91.8109\n",
            "Epoch 55/100\n",
            "\u001b[1m6458/6458\u001b[0m \u001b[32m━━━━━━━━━━━━━━━━━━━━\u001b[0m\u001b[37m\u001b[0m \u001b[1m39s\u001b[0m 3ms/step - loss: 107.3488 - mae: 7.4720 - mse: 107.3488 - val_loss: 102.7327 - val_mae: 7.3291 - val_mse: 102.7327\n",
            "Epoch 56/100\n",
            "\u001b[1m6458/6458\u001b[0m \u001b[32m━━━━━━━━━━━━━━━━━━━━\u001b[0m\u001b[37m\u001b[0m \u001b[1m21s\u001b[0m 3ms/step - loss: 109.0716 - mae: 7.4902 - mse: 109.0716 - val_loss: 102.0284 - val_mae: 7.0779 - val_mse: 102.0284\n",
            "Epoch 57/100\n",
            "\u001b[1m6458/6458\u001b[0m \u001b[32m━━━━━━━━━━━━━━━━━━━━\u001b[0m\u001b[37m\u001b[0m \u001b[1m19s\u001b[0m 3ms/step - loss: 106.5540 - mae: 7.3939 - mse: 106.5540 - val_loss: 106.5698 - val_mae: 7.2406 - val_mse: 106.5698\n",
            "Epoch 58/100\n",
            "\u001b[1m6458/6458\u001b[0m \u001b[32m━━━━━━━━━━━━━━━━━━━━\u001b[0m\u001b[37m\u001b[0m \u001b[1m21s\u001b[0m 3ms/step - loss: 112.8513 - mae: 7.4966 - mse: 112.8513 - val_loss: 101.5724 - val_mae: 7.6420 - val_mse: 101.5724\n",
            "Epoch 59/100\n",
            "\u001b[1m6458/6458\u001b[0m \u001b[32m━━━━━━━━━━━━━━━━━━━━\u001b[0m\u001b[37m\u001b[0m \u001b[1m22s\u001b[0m 3ms/step - loss: 117.0702 - mae: 7.5884 - mse: 117.0702 - val_loss: 106.7200 - val_mae: 7.3871 - val_mse: 106.7200\n",
            "Epoch 60/100\n",
            "\u001b[1m6458/6458\u001b[0m \u001b[32m━━━━━━━━━━━━━━━━━━━━\u001b[0m\u001b[37m\u001b[0m \u001b[1m39s\u001b[0m 3ms/step - loss: 105.4627 - mae: 7.4719 - mse: 105.4627 - val_loss: 98.0803 - val_mae: 7.1641 - val_mse: 98.0803\n",
            "Epoch 61/100\n",
            "\u001b[1m6458/6458\u001b[0m \u001b[32m━━━━━━━━━━━━━━━━━━━━\u001b[0m\u001b[37m\u001b[0m \u001b[1m22s\u001b[0m 3ms/step - loss: 104.1499 - mae: 7.3957 - mse: 104.1499 - val_loss: 117.0217 - val_mae: 7.8479 - val_mse: 117.0217\n",
            "Epoch 62/100\n",
            "\u001b[1m6458/6458\u001b[0m \u001b[32m━━━━━━━━━━━━━━━━━━━━\u001b[0m\u001b[37m\u001b[0m \u001b[1m22s\u001b[0m 3ms/step - loss: 103.5784 - mae: 7.3920 - mse: 103.5784 - val_loss: 104.2065 - val_mae: 7.1911 - val_mse: 104.2065\n",
            "Epoch 63/100\n",
            "\u001b[1m6458/6458\u001b[0m \u001b[32m━━━━━━━━━━━━━━━━━━━━\u001b[0m\u001b[37m\u001b[0m \u001b[1m20s\u001b[0m 3ms/step - loss: 106.8948 - mae: 7.3349 - mse: 106.8948 - val_loss: 105.3608 - val_mae: 7.3173 - val_mse: 105.3608\n",
            "Epoch 64/100\n",
            "\u001b[1m6458/6458\u001b[0m \u001b[32m━━━━━━━━━━━━━━━━━━━━\u001b[0m\u001b[37m\u001b[0m \u001b[1m20s\u001b[0m 3ms/step - loss: 101.7430 - mae: 7.3808 - mse: 101.7430 - val_loss: 93.3075 - val_mae: 7.2221 - val_mse: 93.3075\n",
            "Epoch 65/100\n",
            "\u001b[1m6458/6458\u001b[0m \u001b[32m━━━━━━━━━━━━━━━━━━━━\u001b[0m\u001b[37m\u001b[0m \u001b[1m20s\u001b[0m 3ms/step - loss: 101.0757 - mae: 7.3069 - mse: 101.0757 - val_loss: 91.1014 - val_mae: 6.9349 - val_mse: 91.1014\n",
            "Epoch 66/100\n",
            "\u001b[1m6458/6458\u001b[0m \u001b[32m━━━━━━━━━━━━━━━━━━━━\u001b[0m\u001b[37m\u001b[0m \u001b[1m20s\u001b[0m 3ms/step - loss: 102.9314 - mae: 7.3580 - mse: 102.9314 - val_loss: 89.1900 - val_mae: 6.6070 - val_mse: 89.1900\n",
            "Epoch 67/100\n",
            "\u001b[1m6458/6458\u001b[0m \u001b[32m━━━━━━━━━━━━━━━━━━━━\u001b[0m\u001b[37m\u001b[0m \u001b[1m22s\u001b[0m 3ms/step - loss: 97.3848 - mae: 7.1676 - mse: 97.3848 - val_loss: 115.8195 - val_mae: 8.0965 - val_mse: 115.8195\n",
            "Epoch 68/100\n",
            "\u001b[1m6458/6458\u001b[0m \u001b[32m━━━━━━━━━━━━━━━━━━━━\u001b[0m\u001b[37m\u001b[0m \u001b[1m41s\u001b[0m 3ms/step - loss: 98.4518 - mae: 7.2337 - mse: 98.4518 - val_loss: 170.8341 - val_mae: 9.2984 - val_mse: 170.8341\n",
            "Epoch 69/100\n",
            "\u001b[1m6458/6458\u001b[0m \u001b[32m━━━━━━━━━━━━━━━━━━━━\u001b[0m\u001b[37m\u001b[0m \u001b[1m38s\u001b[0m 3ms/step - loss: 103.2334 - mae: 7.4103 - mse: 103.2334 - val_loss: 97.4075 - val_mae: 7.4104 - val_mse: 97.4075\n",
            "Epoch 70/100\n",
            "\u001b[1m6458/6458\u001b[0m \u001b[32m━━━━━━━━━━━━━━━━━━━━\u001b[0m\u001b[37m\u001b[0m \u001b[1m20s\u001b[0m 3ms/step - loss: 97.2152 - mae: 7.2018 - mse: 97.2152 - val_loss: 91.8394 - val_mae: 6.7461 - val_mse: 91.8394\n",
            "Epoch 71/100\n",
            "\u001b[1m6458/6458\u001b[0m \u001b[32m━━━━━━━━━━━━━━━━━━━━\u001b[0m\u001b[37m\u001b[0m \u001b[1m21s\u001b[0m 3ms/step - loss: 103.5865 - mae: 7.3925 - mse: 103.5865 - val_loss: 111.2855 - val_mae: 7.9864 - val_mse: 111.2855\n",
            "Epoch 72/100\n",
            "\u001b[1m6458/6458\u001b[0m \u001b[32m━━━━━━━━━━━━━━━━━━━━\u001b[0m\u001b[37m\u001b[0m \u001b[1m40s\u001b[0m 3ms/step - loss: 105.0805 - mae: 7.2853 - mse: 105.0805 - val_loss: 306.4995 - val_mae: 12.5944 - val_mse: 306.4995\n",
            "Epoch 73/100\n",
            "\u001b[1m6458/6458\u001b[0m \u001b[32m━━━━━━━━━━━━━━━━━━━━\u001b[0m\u001b[37m\u001b[0m \u001b[1m21s\u001b[0m 3ms/step - loss: 110.9158 - mae: 7.5071 - mse: 110.9158 - val_loss: 104.2974 - val_mae: 7.0070 - val_mse: 104.2974\n",
            "Epoch 74/100\n",
            "\u001b[1m6458/6458\u001b[0m \u001b[32m━━━━━━━━━━━━━━━━━━━━\u001b[0m\u001b[37m\u001b[0m \u001b[1m40s\u001b[0m 3ms/step - loss: 101.7224 - mae: 7.2396 - mse: 101.7224 - val_loss: 104.1620 - val_mae: 7.1531 - val_mse: 104.1620\n",
            "Epoch 75/100\n",
            "\u001b[1m6458/6458\u001b[0m \u001b[32m━━━━━━━━━━━━━━━━━━━━\u001b[0m\u001b[37m\u001b[0m \u001b[1m19s\u001b[0m 3ms/step - loss: 100.6998 - mae: 7.2300 - mse: 100.6998 - val_loss: 96.6719 - val_mae: 7.1773 - val_mse: 96.6719\n",
            "Epoch 76/100\n",
            "\u001b[1m6458/6458\u001b[0m \u001b[32m━━━━━━━━━━━━━━━━━━━━\u001b[0m\u001b[37m\u001b[0m \u001b[1m20s\u001b[0m 3ms/step - loss: 99.6776 - mae: 7.2392 - mse: 99.6776 - val_loss: 102.6089 - val_mae: 7.5955 - val_mse: 102.6089\n",
            "Epoch 77/100\n",
            "\u001b[1m6458/6458\u001b[0m \u001b[32m━━━━━━━━━━━━━━━━━━━━\u001b[0m\u001b[37m\u001b[0m \u001b[1m19s\u001b[0m 3ms/step - loss: 101.8234 - mae: 7.3123 - mse: 101.8234 - val_loss: 187.4373 - val_mae: 10.3912 - val_mse: 187.4373\n",
            "Epoch 78/100\n",
            "\u001b[1m6458/6458\u001b[0m \u001b[32m━━━━━━━━━━━━━━━━━━━━\u001b[0m\u001b[37m\u001b[0m \u001b[1m21s\u001b[0m 3ms/step - loss: 105.3071 - mae: 7.4234 - mse: 105.3071 - val_loss: 100.1342 - val_mae: 6.9088 - val_mse: 100.1342\n",
            "Epoch 79/100\n",
            "\u001b[1m6458/6458\u001b[0m \u001b[32m━━━━━━━━━━━━━━━━━━━━\u001b[0m\u001b[37m\u001b[0m \u001b[1m41s\u001b[0m 3ms/step - loss: 97.1725 - mae: 7.1805 - mse: 97.1725 - val_loss: 109.7549 - val_mae: 7.5675 - val_mse: 109.7549\n",
            "Epoch 80/100\n",
            "\u001b[1m6458/6458\u001b[0m \u001b[32m━━━━━━━━━━━━━━━━━━━━\u001b[0m\u001b[37m\u001b[0m \u001b[1m19s\u001b[0m 3ms/step - loss: 101.8516 - mae: 7.2670 - mse: 101.8516 - val_loss: 108.4203 - val_mae: 7.7843 - val_mse: 108.4203\n",
            "Epoch 81/100\n",
            "\u001b[1m6458/6458\u001b[0m \u001b[32m━━━━━━━━━━━━━━━━━━━━\u001b[0m\u001b[37m\u001b[0m \u001b[1m23s\u001b[0m 3ms/step - loss: 99.2337 - mae: 7.2532 - mse: 99.2337 - val_loss: 111.7143 - val_mae: 7.6601 - val_mse: 111.7143\n",
            "Epoch 82/100\n",
            "\u001b[1m6458/6458\u001b[0m \u001b[32m━━━━━━━━━━━━━━━━━━━━\u001b[0m\u001b[37m\u001b[0m \u001b[1m38s\u001b[0m 3ms/step - loss: 99.3519 - mae: 7.2735 - mse: 99.3519 - val_loss: 443.6081 - val_mae: 14.3186 - val_mse: 443.6081\n",
            "Epoch 83/100\n",
            "\u001b[1m6458/6458\u001b[0m \u001b[32m━━━━━━━━━━━━━━━━━━━━\u001b[0m\u001b[37m\u001b[0m \u001b[1m21s\u001b[0m 3ms/step - loss: 102.5715 - mae: 7.3366 - mse: 102.5715 - val_loss: 99.2168 - val_mae: 7.0056 - val_mse: 99.2168\n",
            "Epoch 84/100\n",
            "\u001b[1m6458/6458\u001b[0m \u001b[32m━━━━━━━━━━━━━━━━━━━━\u001b[0m\u001b[37m\u001b[0m \u001b[1m21s\u001b[0m 3ms/step - loss: 102.7489 - mae: 7.2901 - mse: 102.7489 - val_loss: 98.3866 - val_mae: 6.9969 - val_mse: 98.3866\n",
            "Epoch 85/100\n",
            "\u001b[1m6458/6458\u001b[0m \u001b[32m━━━━━━━━━━━━━━━━━━━━\u001b[0m\u001b[37m\u001b[0m \u001b[1m19s\u001b[0m 3ms/step - loss: 93.4628 - mae: 7.0312 - mse: 93.4628 - val_loss: 115.3900 - val_mae: 7.6479 - val_mse: 115.3900\n",
            "Epoch 86/100\n",
            "\u001b[1m6458/6458\u001b[0m \u001b[32m━━━━━━━━━━━━━━━━━━━━\u001b[0m\u001b[37m\u001b[0m \u001b[1m20s\u001b[0m 3ms/step - loss: 101.2223 - mae: 7.3180 - mse: 101.2223 - val_loss: 93.2859 - val_mae: 7.0430 - val_mse: 93.2859\n",
            "Epoch 87/100\n",
            "\u001b[1m6458/6458\u001b[0m \u001b[32m━━━━━━━━━━━━━━━━━━━━\u001b[0m\u001b[37m\u001b[0m \u001b[1m22s\u001b[0m 3ms/step - loss: 97.7249 - mae: 7.0971 - mse: 97.7249 - val_loss: 91.8838 - val_mae: 6.9457 - val_mse: 91.8838\n",
            "Epoch 88/100\n",
            "\u001b[1m6458/6458\u001b[0m \u001b[32m━━━━━━━━━━━━━━━━━━━━\u001b[0m\u001b[37m\u001b[0m \u001b[1m19s\u001b[0m 3ms/step - loss: 96.6742 - mae: 7.1430 - mse: 96.6742 - val_loss: 103.1764 - val_mae: 7.8444 - val_mse: 103.1764\n",
            "Epoch 89/100\n",
            "\u001b[1m6458/6458\u001b[0m \u001b[32m━━━━━━━━━━━━━━━━━━━━\u001b[0m\u001b[37m\u001b[0m \u001b[1m21s\u001b[0m 3ms/step - loss: 95.8738 - mae: 7.1576 - mse: 95.8738 - val_loss: 315.1353 - val_mae: 13.1804 - val_mse: 315.1353\n",
            "Epoch 90/100\n",
            "\u001b[1m6458/6458\u001b[0m \u001b[32m━━━━━━━━━━━━━━━━━━━━\u001b[0m\u001b[37m\u001b[0m \u001b[1m20s\u001b[0m 3ms/step - loss: 106.4216 - mae: 7.3366 - mse: 106.4216 - val_loss: 108.9235 - val_mae: 7.3393 - val_mse: 108.9235\n",
            "Epoch 91/100\n",
            "\u001b[1m6458/6458\u001b[0m \u001b[32m━━━━━━━━━━━━━━━━━━━━\u001b[0m\u001b[37m\u001b[0m \u001b[1m21s\u001b[0m 3ms/step - loss: 101.1042 - mae: 7.1883 - mse: 101.1042 - val_loss: 102.8450 - val_mae: 7.1510 - val_mse: 102.8450\n",
            "Epoch 92/100\n",
            "\u001b[1m6458/6458\u001b[0m \u001b[32m━━━━━━━━━━━━━━━━━━━━\u001b[0m\u001b[37m\u001b[0m \u001b[1m21s\u001b[0m 3ms/step - loss: 105.4809 - mae: 7.2799 - mse: 105.4809 - val_loss: 105.9138 - val_mae: 7.5021 - val_mse: 105.9138\n",
            "Epoch 93/100\n",
            "\u001b[1m6458/6458\u001b[0m \u001b[32m━━━━━━━━━━━━━━━━━━━━\u001b[0m\u001b[37m\u001b[0m \u001b[1m40s\u001b[0m 3ms/step - loss: 99.4137 - mae: 7.2506 - mse: 99.4137 - val_loss: 103.7343 - val_mae: 7.7779 - val_mse: 103.7343\n",
            "Epoch 94/100\n",
            "\u001b[1m6458/6458\u001b[0m \u001b[32m━━━━━━━━━━━━━━━━━━━━\u001b[0m\u001b[37m\u001b[0m \u001b[1m22s\u001b[0m 3ms/step - loss: 91.4932 - mae: 6.9573 - mse: 91.4932 - val_loss: 111.7888 - val_mae: 7.4950 - val_mse: 111.7888\n",
            "Epoch 95/100\n",
            "\u001b[1m6458/6458\u001b[0m \u001b[32m━━━━━━━━━━━━━━━━━━━━\u001b[0m\u001b[37m\u001b[0m \u001b[1m40s\u001b[0m 3ms/step - loss: 102.8592 - mae: 7.2448 - mse: 102.8592 - val_loss: 95.0238 - val_mae: 7.3623 - val_mse: 95.0238\n",
            "Epoch 96/100\n",
            "\u001b[1m6458/6458\u001b[0m \u001b[32m━━━━━━━━━━━━━━━━━━━━\u001b[0m\u001b[37m\u001b[0m \u001b[1m19s\u001b[0m 3ms/step - loss: 101.9295 - mae: 7.2313 - mse: 101.9295 - val_loss: 107.2027 - val_mae: 7.5527 - val_mse: 107.2027\n",
            "Epoch 97/100\n",
            "\u001b[1m6458/6458\u001b[0m \u001b[32m━━━━━━━━━━━━━━━━━━━━\u001b[0m\u001b[37m\u001b[0m \u001b[1m20s\u001b[0m 3ms/step - loss: 97.5854 - mae: 7.1966 - mse: 97.5854 - val_loss: 98.7966 - val_mae: 6.9973 - val_mse: 98.7966\n",
            "Epoch 98/100\n",
            "\u001b[1m6458/6458\u001b[0m \u001b[32m━━━━━━━━━━━━━━━━━━━━\u001b[0m\u001b[37m\u001b[0m \u001b[1m23s\u001b[0m 3ms/step - loss: 98.3837 - mae: 7.1786 - mse: 98.3837 - val_loss: 100.4727 - val_mae: 7.0626 - val_mse: 100.4727\n",
            "Epoch 99/100\n",
            "\u001b[1m6458/6458\u001b[0m \u001b[32m━━━━━━━━━━━━━━━━━━━━\u001b[0m\u001b[37m\u001b[0m \u001b[1m38s\u001b[0m 3ms/step - loss: 97.7583 - mae: 7.1718 - mse: 97.7583 - val_loss: 95.4202 - val_mae: 7.3083 - val_mse: 95.4202\n",
            "Epoch 100/100\n",
            "\u001b[1m6458/6458\u001b[0m \u001b[32m━━━━━━━━━━━━━━━━━━━━\u001b[0m\u001b[37m\u001b[0m \u001b[1m21s\u001b[0m 3ms/step - loss: 92.8585 - mae: 7.0362 - mse: 92.8585 - val_loss: 115.3831 - val_mae: 7.3015 - val_mse: 115.3831\n"
          ]
        }
      ]
    },
    {
      "cell_type": "markdown",
      "source": [
        "## Evaluasi Model"
      ],
      "metadata": {
        "id": "4qv4DwmOsOUk"
      }
    },
    {
      "cell_type": "code",
      "source": [
        "# Mengevaluasi model pada data pengujian\n",
        "y_pred = model.predict(X_test)\n"
      ],
      "metadata": {
        "colab": {
          "base_uri": "https://localhost:8080/"
        },
        "id": "82Z7SD8IFE8r",
        "outputId": "e59c1bd2-b60c-4d8f-a81f-b9c55fbcbaa6"
      },
      "execution_count": null,
      "outputs": [
        {
          "output_type": "stream",
          "name": "stdout",
          "text": [
            "\u001b[1m1615/1615\u001b[0m \u001b[32m━━━━━━━━━━━━━━━━━━━━\u001b[0m\u001b[37m\u001b[0m \u001b[1m2s\u001b[0m 1ms/step\n"
          ]
        }
      ]
    },
    {
      "cell_type": "code",
      "source": [
        "# Menghitung metrik regresi\n",
        "rmse = np.sqrt(mean_squared_error(y_test, y_pred))\n",
        "mse = mean_squared_error(y_test, y_pred)\n",
        "r2 = r2_score(y_test, y_pred)"
      ],
      "metadata": {
        "id": "udKVxdL9YCkH"
      },
      "execution_count": null,
      "outputs": []
    },
    {
      "cell_type": "code",
      "source": [
        "print(f\"RMSE: {rmse}\")\n",
        "print(f\"MSE: {mse}\")\n",
        "print(f\"R²: {r2}\")"
      ],
      "metadata": {
        "colab": {
          "base_uri": "https://localhost:8080/"
        },
        "id": "7KggsVfQYFAW",
        "outputId": "890ad034-d7d6-4650-f54d-b70edde00b8e"
      },
      "execution_count": null,
      "outputs": [
        {
          "output_type": "stream",
          "name": "stdout",
          "text": [
            "RMSE: 10.741664049746538\n",
            "MSE: 115.38334655761719\n",
            "R²: 0.054602205753326416\n"
          ]
        }
      ]
    },
    {
      "cell_type": "markdown",
      "source": [
        "## Visualisasi"
      ],
      "metadata": {
        "id": "r_vn0wNRsSgH"
      }
    },
    {
      "cell_type": "code",
      "source": [
        "# Visualisasikan nilai yang diprediksi vs nilai aktual\n",
        "plt.figure(figsize=(10, 6))\n",
        "plt.scatter(y_test, y_pred)\n",
        "plt.plot([min(y_test), max(y_test)], [min(y_test), max(y_test)], color='red', lw=2)\n",
        "plt.xlabel('Nilai Aktual')\n",
        "plt.ylabel('Nilai Prediksi')\n",
        "plt.title('Nilai Prediksi vs Nilai Aktual')\n",
        "plt.show()"
      ],
      "metadata": {
        "colab": {
          "base_uri": "https://localhost:8080/",
          "height": 418
        },
        "id": "_mOB8iagYHZ4",
        "outputId": "617544a9-48b0-483b-ff73-1cfcbbde916d"
      },
      "execution_count": null,
      "outputs": [
        {
          "output_type": "display_data",
          "data": {
            "text/plain": [
              "<Figure size 1000x600 with 1 Axes>"
            ],
            "image/png": "[encoded data removed]"
          },
          "metadata": {}
        }
      ]
    },
    {
      "cell_type": "code",
      "source": [
        "# Plot kurva loss\n",
        "plt.plot(history.history['loss'], label='Loss Pelatihan')\n",
        "plt.plot(history.history['val_loss'], label='Loss Validasi')\n",
        "plt.title('Kurva Loss Model')\n",
        "plt.xlabel('Epoch')\n",
        "plt.ylabel('Loss')\n",
        "plt.legend()\n",
        "plt.show()\n"
      ],
      "metadata": {
        "colab": {
          "base_uri": "https://localhost:8080/",
          "height": 472
        },
        "id": "9oh3il2uYZ_o",
        "outputId": "bee58a6d-9e9a-40b7-e1c9-77c13f8568db"
      },
      "execution_count": null,
      "outputs": [
        {
          "output_type": "display_data",
          "data": {
            "text/plain": [
              "<Figure size 640x480 with 1 Axes>"
            ],
            "image/png": "[encoded data removed]"
          },
          "metadata": {}
        }
      ]
    },
    {
      "cell_type": "code",
      "source": [],
      "metadata": {
        "id": "pT_IgKWuYdiB"
      },
      "execution_count": null,
      "outputs": []
    },
    {
      "cell_type": "markdown",
      "source": [
        "# **ANALISIS**\n",
        "\n",
        "\n",
        "**1. Jika menggunakan model MLP dengan 3 hidden layer (256-128-64) menghasilkan\n",
        "underfitting pada dataset ini, modifikasi apa yang akan dilakukan pada arsitektur? Jelaskan alasan setiap perubahan dengan mempertimbangkan bias-variance tradeoff!**\n",
        "\n",
        "Jawab :\n",
        "\n",
        "Untuk mengatasi masalah underfitting, dapat dilakukan hal-hal berikut :\n",
        "1. Meningkatkan jumlah hidden layer atau neuron agar dapat meningkatkan kapasitas model dalam menangkap pola yang lebih kompleks, yang dapat mengurangi underfitting.\n",
        "2. Menambahkan lebih banyak layer dengan harapan model bisa menangkap lebih banyak fitur kompleks.\n",
        "3. Penambahan teknik regularisasi seperti Dropout atau L2 regularization dapat membantu menghindari overfitting yang bisa terjadi setelah penambahan layer.\n",
        "4. Menyesuaikan Learning Rate, kalo terlalu besar/kecil bisa nyebabin underfitting, sehingga perlu tuning agar learning rate optimal\n",
        "\n",
        "Alasan :  Penambahan layer atau neuron meningkatkan kemampuan model dalam meng-handle data lebih kompleks, tetapi harus diimbangi dengan regulasi untuk menghindari overfitting.\n",
        "\n",
        "**2. Selain MSE, loss function apa yang mungkin cocok untuk dataset ini? Bandingkan kelebihan dan kekurangannya, serta situasi spesifik di mana alternatif tersebut lebih unggul daripada MSE!**\n",
        "\n",
        "Jawab :  \n",
        "\n",
        "Beberapa loss function alternatif yang cocok untuk dataset ini:\n",
        "1. MAE (Mean Absolute Error)\n",
        "    - Kelebihan: Tidak terlalu terpengaruh oleh outliers, lebih robust terhadap data dengan distribusi yang sangat berbeda.\n",
        "    - Kekurangan: Membuat model lebih sulit belajar pada data yang memiliki variasi kecil antara prediksi dan nilai aktual.\n",
        "    - Situasi lebih unggul: Jika data memiliki outliers yang signifikan, MAE lebih baik daripada MSE karena MAE tidak memberikan penalti besar untuk error yang lebih besar.\n",
        "2. Huber Loss:\n",
        "    - Kelebihan: Kombinasi antara MSE dan MAE. Dapat menangani outliers dengan lebih baik daripada MSE, namun tetap mempertahankan kehalusan gradien yang lebih baik.\n",
        "    - Kekurangan: Memerlukan pemilihan parameter delta yang baik agar dapat bekerja dengan baik pada dataset tertentu.\n",
        "    - Situasi lebih unggul: Jika dataset mengandung kombinasi antara noise dan outliers, Huber loss bisa menjadi pilihan yang tepat\n",
        "\n",
        "\n",
        "**3. Jika salah satu fitur memiliki range nilai 0-1, sedangkan fitur lain 100-1000, bagaimana ini memengaruhi pelatihan MLP? Jelaskan mekanisme matematis (e.g., gradien, weight update) yang terdampak!**\n",
        "\n",
        "Jawab :     \n",
        "\n",
        "- Masalah Skala Fitur: Perbedaan skala antara fitur (seperti 0-1 dan 100-1000) akan mempengaruhi pelatihan MLP, karena fitur dengan skala yang lebih besar akan mendominasi proses optimasi.\n",
        "\n",
        "- Pengaruh pada Gradien dan Pembaruan Bobot:\n",
        "   a. Fitur dengan rentang yang lebih besar (misalnya 100-1000) akan menghasilkan gradien yang lebih besar, yang bisa menyebabkan pembaruan bobot yang lebih besar dan potensi masalah dalam konvergensi.\n",
        "   b. Untuk menghindari hal ini, fitur perlu distandarisasi (misalnya menggunakan standard scaling atau min-max scaling) agar semua fitur memiliki rentang yang seragam, sehingga gradien dan pembaruan bobot terjadi lebih merata.\n",
        "\n",
        "Solusi :    \n",
        "\n",
        "Gunakan StandardScaler atau MinMaxScaler untuk memastikan bahwa fitur berada dalam skala yang seragam.\n",
        "\n",
        "**4. Tanpa mengetahui nama fitur, bagaimana Anda mengukur kontribusi relatif setiap fitur terhadap prediksi model? Jelaskan metode teknikal (e.g., permutation importance, weight analysis) dan keterbatasannya!**\n",
        "\n",
        "- Permutation Importance: Menghitung pentingnya fitur dengan cara mengacak nilai fitur dan mengukur penurunan skor model. Fitur yang penting akan menyebabkan penurunan besar pada kinerja model saat diacak.\n",
        "\n",
        "- Weight Analysis (untuk model linier atau MLP dengan analisis bobot): Analisis bobot model, di mana bobot yang lebih besar pada suatu fitur mengindikasikan kontribusi yang lebih besar terhadap prediksi.\n",
        "\n",
        "-SHAP Values: SHAP (Shapley Additive Explanations) dapat memberikan kontribusi relatif untuk setiap fitur berdasarkan peran fitur dalam model.\n",
        "\n",
        "**Bagaimana Anda mendesain eksperimen untuk memilih learning rate dan batch size secara optimal? Sertakan analisis tradeoff antara komputasi dan stabilitas pelatihan!**\n",
        "\n",
        "- Grid Search atau Random Search: Uji berbagai kombinasi learning rate dan batch size untuk menemukan kombinasi yang optimal. Dimulai dengan nilai learning rate yang lebih kecil dan meningkat secara bertahap.\n",
        "\n",
        "- Analisis Tradeoff:\n",
        "    - Learning Rate: Learning rate yang lebih besar dapat mempercepat konvergensi tetapi dapat menyebabkan ketidakstabilan, sementara learning rate yang lebih kecil mungkin stabil tetapi lebih lambat.\n",
        "\n",
        "    - Batch Size: Batch size yang lebih besar cenderung lebih stabil tetapi membutuhkan lebih banyak memori dan lebih sedikit iterasi untuk mencapai konvergensi. Batch size kecil memungkinkan model memperbarui bobot lebih sering, yang dapat mempercepat proses belajar tetapi lebih bising dan berisiko menyebabkan overfitting.\n",
        "\n",
        "Strategi: Gunakan learning rate scheduling dan adaptive optimizers seperti Adam yang secara otomatis menyesuaikan learning rate, serta eksperimen dengan batch size yang lebih kecil untuk mengurangi waktu pelatihan.\n"
      ],
      "metadata": {
        "id": "8kCNcvgelLzK"
      }
    },
    {
      "cell_type": "code",
      "source": [],
      "metadata": {
        "id": "ypCY8BEPm5MA"
      },
      "execution_count": null,
      "outputs": []
    }
  ]
}