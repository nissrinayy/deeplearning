{
  "cells": [
    {
      "cell_type": "markdown",
      "metadata": {
        "id": "view-in-github",
        "colab_type": "text"
      },
      "source": [
        "<a href=\"https://colab.research.google.com/github/nissrinayy/deeplearning/blob/main/Week3/CNN_%26_MLP_PyTorch_SVHN_Dataset.ipynb\" target=\"_parent\"><img src=\"https://colab.research.google.com/assets/colab-badge.svg\" alt=\"Open In Colab\"/></a>"
      ]
    },
    {
      "cell_type": "markdown",
      "source": [
        "# **CNN & MLP menggunakan PyTorch : SVHN Dataset🍿**"
      ],
      "metadata": {
        "id": "V7Kb5NmW7bOp"
      }
    },
    {
      "cell_type": "markdown",
      "source": [
        "CNN dirancang khusus untuk menangani data berbentuk grid, seperti gambar.MLP menggunakan fungsi aktivasi seperti ReLU atau sigmoid untuk menangani non-linearitas.Cocok untuk data terstruktur seperti tabel dalam tugas regresi dan klasifikasi.\n",
        "\n",
        "MLP : Setiap neuron di satu lapisan terhubung penuh ke semua neuron di lapisan berikutnya (Fully Connected Layer).\n",
        "\n",
        "CNN : Menggunakan lapisan konvolusi untuk mengekstrak fitur dari gambar dengan filter (kernel).Memiliki pooling layer (misalnya MaxPooling) untuk mengurangi dimensi fitur dan mengurangi overfitting.\n",
        "\n",
        "\n",
        "\n",
        "\n",
        "\n"
      ],
      "metadata": {
        "id": "tOU9sOtK7rZe"
      }
    },
    {
      "cell_type": "markdown",
      "source": [
        "## Persiapan dan Instalasi🥨"
      ],
      "metadata": {
        "id": "YNndiQo_7s4A"
      }
    },
    {
      "cell_type": "code",
      "execution_count": null,
      "metadata": {
        "id": "hyMIt3FSdQQw"
      },
      "outputs": [],
      "source": [
        "import torch\n",
        "import torch.nn as nn\n",
        "import torch.optim as optim\n",
        "import torchvision.transforms as transforms\n",
        "import torchvision.datasets as datasets\n",
        "from torch.utils.data import DataLoader, random_split\n",
        "from sklearn.metrics import accuracy_score, precision_recall_fscore_support\n",
        "import numpy as np\n"
      ]
    },
    {
      "cell_type": "code",
      "source": [
        "# Cek apakah GPU tersedia\n",
        "device = torch.device(\"cuda\" if torch.cuda.is_available() else \"cpu\")\n",
        "print(f\"Using device: {device}\")"
      ],
      "metadata": {
        "colab": {
          "base_uri": "https://localhost:8080/"
        },
        "id": "h4N_ZiBmej_p",
        "outputId": "889013c0-a1da-4dee-e0ce-b8f5a085d7be"
      },
      "execution_count": null,
      "outputs": [
        {
          "output_type": "stream",
          "name": "stdout",
          "text": [
            "Using device: cpu\n"
          ]
        }
      ]
    },
    {
      "cell_type": "code",
      "source": [
        "# Data augmentation & Normalization\n",
        "transform = transforms.Compose([\n",
        "    transforms.RandomHorizontalFlip(),\n",
        "    transforms.RandomRotation(10),\n",
        "    transforms.ToTensor(),\n",
        "    transforms.Normalize((0.5,), (0.5,))\n",
        "])"
      ],
      "metadata": {
        "id": "A6DcnIJOfZi9"
      },
      "execution_count": null,
      "outputs": []
    },
    {
      "cell_type": "markdown",
      "source": [
        "## Load Data📊"
      ],
      "metadata": {
        "id": "7wggzuap71ts"
      }
    },
    {
      "cell_type": "code",
      "source": [
        "# Load SVHN dataset\n",
        "dataset = datasets.SVHN(root=\"./data\", split='train', transform=transform, download=True)\n",
        "train_size = int(0.8 * len(dataset))\n",
        "val_size = len(dataset) - train_size\n",
        "train_dataset, val_dataset = random_split(dataset, [train_size, val_size])\n"
      ],
      "metadata": {
        "id": "jkW-cOhRemHz"
      },
      "execution_count": null,
      "outputs": []
    },
    {
      "cell_type": "code",
      "source": [
        "test_dataset = datasets.SVHN(root=\"./data\", split='test', transform=transform, download=True)\n"
      ],
      "metadata": {
        "id": "o4Lxo5j_eoxG"
      },
      "execution_count": null,
      "outputs": []
    },
    {
      "cell_type": "code",
      "source": [
        "train_loader = DataLoader(train_dataset, batch_size=128, shuffle=True)\n",
        "val_loader = DataLoader(val_dataset, batch_size=128, shuffle=False)\n",
        "test_loader = DataLoader(test_dataset, batch_size=128, shuffle=False)"
      ],
      "metadata": {
        "id": "64AfYn1OeseT"
      },
      "execution_count": null,
      "outputs": []
    },
    {
      "cell_type": "markdown",
      "source": [
        "## Definisi Model🔖"
      ],
      "metadata": {
        "id": "pF_Q7cXF77cm"
      }
    },
    {
      "cell_type": "code",
      "source": [
        "# Define CNN model\n",
        "class CNN(nn.Module):\n",
        "    def __init__(self):\n",
        "        super(CNN, self).__init__()\n",
        "        self.conv1 = nn.Conv2d(3, 32, kernel_size=3, padding=1)\n",
        "        self.bn1 = nn.BatchNorm2d(32)\n",
        "        self.conv2 = nn.Conv2d(32, 64, kernel_size=3, padding=1)\n",
        "        self.bn2 = nn.BatchNorm2d(64)\n",
        "        self.fc1 = nn.Linear(64 * 8 * 8, 128)\n",
        "        self.fc2 = nn.Linear(128, 10)\n",
        "        self.relu = nn.ReLU()\n",
        "        self.pool = nn.MaxPool2d(2, 2)\n",
        "\n",
        "    def forward(self, x):\n",
        "        x = self.pool(self.relu(self.bn1(self.conv1(x))))\n",
        "        x = self.pool(self.relu(self.bn2(self.conv2(x))))\n",
        "        x = x.view(x.size(0), -1)\n",
        "        x = self.relu(self.fc1(x))\n",
        "        x = self.fc2(x)\n",
        "        return x"
      ],
      "metadata": {
        "id": "wRwjKzXKevwt"
      },
      "execution_count": null,
      "outputs": []
    },
    {
      "cell_type": "code",
      "source": [
        "# Define MLP model\n",
        "class MLP(nn.Module):\n",
        "    def __init__(self):\n",
        "        super(MLP, self).__init__()\n",
        "        self.fc1 = nn.Linear(3 * 32 * 32, 512)\n",
        "        self.fc2 = nn.Linear(512, 256)\n",
        "        self.fc3 = nn.Linear(256, 10)\n",
        "        self.relu = nn.ReLU()\n",
        "        self.dropout = nn.Dropout(0.3)\n",
        "\n",
        "    def forward(self, x):\n",
        "        x = x.view(x.size(0), -1)\n",
        "        x = self.relu(self.fc1(x))\n",
        "        x = self.dropout(x)\n",
        "        x = self.relu(self.fc2(x))\n",
        "        x = self.fc3(x)\n",
        "        return x"
      ],
      "metadata": {
        "id": "bY__HCnbexJZ"
      },
      "execution_count": null,
      "outputs": []
    },
    {
      "cell_type": "code",
      "source": [
        "# Training function\n",
        "def train_model(model, train_loader, val_loader, epochs=15, lr=0.001):\n",
        "    model.to(device)\n",
        "    criterion = nn.CrossEntropyLoss()\n",
        "    optimizer = optim.Adam(model.parameters(), lr=lr)\n",
        "    scheduler = torch.optim.lr_scheduler.StepLR(optimizer, step_size=5, gamma=0.5)\n",
        "\n",
        "    for epoch in range(epochs):\n",
        "        model.train()\n",
        "        total_loss, correct = 0, 0\n",
        "        for images, labels in train_loader:\n",
        "            images, labels = images.to(device), labels.to(device)\n",
        "            optimizer.zero_grad()\n",
        "            outputs = model(images)\n",
        "            loss = criterion(outputs, labels)\n",
        "            loss.backward()\n",
        "            optimizer.step()\n",
        "            total_loss += loss.item()\n",
        "\n",
        "        scheduler.step()\n",
        "\n",
        "        # Validasi\n",
        "        model.eval()\n",
        "        val_correct, val_total = 0, 0\n",
        "        with torch.no_grad():\n",
        "            for images, labels in val_loader:\n",
        "                images, labels = images.to(device), labels.to(device)\n",
        "                outputs = model(images)\n",
        "                _, preds = torch.max(outputs, 1)\n",
        "                val_correct += (preds == labels).sum().item()\n",
        "                val_total += labels.size(0)\n",
        "\n",
        "        val_acc = val_correct / val_total\n",
        "        print(f\"Epoch {epoch+1}, Loss: {total_loss:.4f}, Val Acc: {val_acc:.4f}\")\n"
      ],
      "metadata": {
        "id": "o9ta2mybe3V0"
      },
      "execution_count": null,
      "outputs": []
    },
    {
      "cell_type": "markdown",
      "source": [
        "## Train & Evaluate Model 🍳"
      ],
      "metadata": {
        "id": "gQJJmMDw8DEy"
      }
    },
    {
      "cell_type": "code",
      "source": [
        "# Train and evaluate CNN\n",
        "cnn = CNN()\n",
        "train_model(cnn, train_loader, val_loader, epochs=15)\n",
        "cnn_acc, cnn_prec, cnn_rec, cnn_f1 = evaluate(cnn, test_loader)\n",
        "print(f\"CNN Testing: Acc={cnn_acc:.4f}, Precision={cnn_prec:.4f}, Recall={cnn_rec:.4f}, F1={cnn_f1:.4f}\")\n"
      ],
      "metadata": {
        "colab": {
          "base_uri": "https://localhost:8080/"
        },
        "id": "M2jl_ENVe6f7",
        "outputId": "82e7f343-86c6-4343-847b-a3dba6cede99"
      },
      "execution_count": null,
      "outputs": [
        {
          "output_type": "stream",
          "name": "stdout",
          "text": [
            "Epoch 1, Loss: 601.2580, Val Acc: 0.7295\n",
            "Epoch 2, Loss: 365.7957, Val Acc: 0.7547\n",
            "Epoch 3, Loss: 326.6537, Val Acc: 0.7787\n",
            "Epoch 4, Loss: 304.1217, Val Acc: 0.7978\n",
            "Epoch 5, Loss: 290.7617, Val Acc: 0.8008\n",
            "Epoch 6, Loss: 263.0017, Val Acc: 0.8166\n",
            "Epoch 7, Loss: 254.3209, Val Acc: 0.8243\n",
            "Epoch 8, Loss: 249.0985, Val Acc: 0.8252\n",
            "Epoch 9, Loss: 243.6646, Val Acc: 0.8308\n",
            "Epoch 10, Loss: 236.3041, Val Acc: 0.8330\n",
            "Epoch 11, Loss: 223.9405, Val Acc: 0.8410\n",
            "Epoch 12, Loss: 220.2545, Val Acc: 0.8412\n",
            "Epoch 13, Loss: 216.3633, Val Acc: 0.8425\n",
            "Epoch 14, Loss: 216.2860, Val Acc: 0.8444\n",
            "Epoch 15, Loss: 211.7007, Val Acc: 0.8472\n",
            "CNN Testing: Acc=0.8219, Precision=0.8126, Recall=0.8034, F1=0.8070\n"
          ]
        }
      ]
    },
    {
      "cell_type": "code",
      "source": [
        "# Train and evaluate MLP\n",
        "mlp = MLP()\n",
        "train_model(mlp, train_loader, val_loader, epochs=15)\n",
        "mlp_acc, mlp_prec, mlp_rec, mlp_f1 = evaluate(mlp, test_loader)\n",
        "print(f\"MLP Testing: Acc={mlp_acc:.4f}, Precision={mlp_prec:.4f}, Recall={mlp_rec:.4f}, F1={mlp_f1:.4f}\")\n"
      ],
      "metadata": {
        "colab": {
          "base_uri": "https://localhost:8080/"
        },
        "id": "UnY7aSeZf1V3",
        "outputId": "c27d728c-ddba-416c-8e47-fbc7c2a1b8c8"
      },
      "execution_count": null,
      "outputs": [
        {
          "output_type": "stream",
          "name": "stdout",
          "text": [
            "Epoch 1, Loss: 763.7311, Val Acc: 0.5756\n",
            "Epoch 2, Loss: 584.0711, Val Acc: 0.6392\n",
            "Epoch 3, Loss: 522.1477, Val Acc: 0.6747\n",
            "Epoch 4, Loss: 484.2901, Val Acc: 0.7013\n",
            "Epoch 5, Loss: 457.7820, Val Acc: 0.7098\n",
            "Epoch 6, Loss: 405.1418, Val Acc: 0.7480\n",
            "Epoch 7, Loss: 389.5087, Val Acc: 0.7525\n",
            "Epoch 8, Loss: 380.2957, Val Acc: 0.7608\n",
            "Epoch 9, Loss: 373.8652, Val Acc: 0.7654\n",
            "Epoch 10, Loss: 365.9130, Val Acc: 0.7619\n",
            "Epoch 11, Loss: 341.8570, Val Acc: 0.7788\n",
            "Epoch 12, Loss: 333.5517, Val Acc: 0.7818\n",
            "Epoch 13, Loss: 330.4013, Val Acc: 0.7836\n",
            "Epoch 14, Loss: 326.6624, Val Acc: 0.7878\n",
            "Epoch 15, Loss: 322.6998, Val Acc: 0.7899\n",
            "MLP Testing: Acc=0.7548, Precision=0.7467, Recall=0.7311, F1=0.7364\n"
          ]
        }
      ]
    },
    {
      "cell_type": "markdown",
      "source": [
        "## Visualisasi 🔎"
      ],
      "metadata": {
        "id": "8O4UgvHs8JQ2"
      }
    },
    {
      "cell_type": "code",
      "source": [
        "import matplotlib.pyplot as plt\n",
        "\n",
        "# Data untuk perbandingan model\n",
        "models = [\"CNN\", \"MLP\"]\n",
        "accuracies = [cnn_acc, mlp_acc]\n",
        "precisions = [cnn_prec, mlp_prec]\n",
        "recalls = [cnn_rec, mlp_rec]\n",
        "f1_scores = [cnn_f1, mlp_f1]\n",
        "\n",
        "# Membuat bar chart\n",
        "fig, axs = plt.subplots(2, 2, figsize=(10, 10))\n",
        "\n",
        "axs[0, 0].bar(models, accuracies, color=['blue', 'orange'])\n",
        "axs[0, 0].set_title('Accuracy Comparison')\n",
        "axs[0, 0].set_ylim(0, 1)\n",
        "\n",
        "axs[0, 1].bar(models, precisions, color=['blue', 'orange'])\n",
        "axs[0, 1].set_title('Precision Comparison')\n",
        "axs[0, 1].set_ylim(0, 1)\n",
        "\n",
        "axs[1, 0].bar(models, recalls, color=['blue', 'orange'])\n",
        "axs[1, 0].set_title('Recall Comparison')\n",
        "axs[1, 0].set_ylim(0, 1)\n",
        "\n",
        "axs[1, 1].bar(models, f1_scores, color=['blue', 'orange'])\n",
        "axs[1, 1].set_title('F1-Score Comparison')\n",
        "axs[1, 1].set_ylim(0, 1)\n",
        "\n",
        "plt.tight_layout()\n",
        "plt.show()\n"
      ],
      "metadata": {
        "colab": {
          "base_uri": "https://localhost:8080/",
          "height": 645
        },
        "id": "UM4od8PJrx9m",
        "outputId": "65748ce4-1b95-4c21-858c-71d8299f1156"
      },
      "execution_count": null,
      "outputs": [
        {
          "output_type": "display_data",
          "data": {
            "text/plain": [
              "<Figure size 1000x1000 with 4 Axes>"
            ],
            "image/png": "[encoded data removed]"
          },
          "metadata": {}
        }
      ]
    },
    {
      "cell_type": "markdown",
      "source": [
        "#**Penjelasan Singkat**\n",
        "\n",
        "1️⃣ Akurasi (Accuracy)\n",
        "\n",
        "Akurasi mengukur seberapa banyak prediksi yang benar dibandingkan dengan total prediksi.\n",
        "\n",
        "\n",
        "Akurasi=\n",
        "\n",
        "*TP+TN/\n",
        "TP+TN+FP+FN*\n",
        "​\n",
        "\n",
        "📌 Keterangan:\n",
        "\n",
        "TP (True Positive) → Prediksi benar sebagai positif.\n",
        "\n",
        "TN (True Negative) → Prediksi benar sebagai negatif.\n",
        "\n",
        "FP (False Positive) → Prediksi salah sebagai positif.\n",
        "\n",
        "FN (False Negative) → Prediksi salah sebagai negatif.\n",
        "\n",
        "\n",
        "2️⃣ Presisi (Precision)\n",
        "\n",
        "Presisi mengukur seberapa akurat model dalam memprediksi kelas positif.\n",
        "\n",
        "Presisi=\n",
        "*TP/\n",
        "TP+FP*\n",
        "\n",
        "\n",
        "\n",
        "📌 Keterangan:\n",
        "\n",
        "Jika model memiliki presisi tinggi, berarti model jarang salah dalam memprediksi kelas positif.\n",
        "\n",
        "Jika presisi rendah, model sering salah memprediksi negatif sebagai positif (False Positive tinggi).\n",
        "\n",
        "3️⃣ Recall (Sensitivitas)\n",
        "\n",
        "Recall mengukur seberapa baik model dalam menangkap semua kasus positif.\n",
        "\n",
        "Recall=\n",
        "*TP/\n",
        "TP+FN*\n",
        "\n",
        "\n",
        "📌 Keterangan:\n",
        "\n",
        "Jika recall tinggi, berarti model berhasil menangkap hampir semua data positif.\n",
        "Jika recall rendah, model sering gagal mengenali positif sebagai negatif (False Negative tinggi).\n",
        "\n",
        "4️⃣ F1-Score (Harmonic Mean)\n",
        "F1-score menggabungkan presisi dan recall dalam satu metrik menggunakan rata-rata harmonik.\n",
        "\n",
        "𝐹\n",
        "1\n",
        "=\n",
        "2\n",
        "×\n",
        "Presisi\n",
        "×\n",
        "Recall/\n",
        "Presisi\n",
        "+\n",
        "Recall\n",
        "\n",
        "📌 Keterangan:\n",
        "\n",
        "F1-score tinggi berarti model seimbang dalam presisi dan recall.\n",
        "\n",
        "Bagus untuk dataset tidak seimbang, karena mempertimbangkan False Positive dan False Negative secara bersamaan.\n",
        "\n",
        "5️⃣ Area Under Curve (AUC - ROC)\n",
        "AUC (Area Under Curve) mengukur seberapa baik model membedakan antara kelas positif dan negatif.\n",
        "\n",
        "AUC berasal dari ROC Curve, yang membandingkan True Positive Rate (TPR) vs False Positive Rate (FPR).\n",
        "\n",
        "TPR\n",
        "=\n",
        "𝑇\n",
        "𝑃/\n",
        "𝑇\n",
        "𝑃\n",
        "+\n",
        "𝐹\n",
        "𝑁\n",
        "\n",
        "(Sama dengan Recall)\n",
        "\n",
        "*FPR=\n",
        "FP/\n",
        "FP+TN*\n",
        "\n",
        "📌 Keterangan:\n",
        "\n",
        "AUC = 1.0 → Model sempurna (memisahkan kelas dengan sempurna).\n",
        "AUC = 0.5 → Model acak (tidak lebih baik dari tebak-tebakan).\n",
        "AUC < 0.5 → Model lebih buruk dari acak (terbalik).\n",
        "\n",
        "6️⃣ Receiver Operating Characteristic (ROC) Curve\n",
        "\n",
        "ROC Curve adalah grafik yang membandingkan TPR vs FPR pada berbagai threshold.\n",
        "\n",
        "\n",
        "Sumbu X → FPR (False Positive Rate)\n",
        "\n",
        "Sumbu Y → TPR (True Positive Rate / Recall)\n",
        "\n",
        "📌 Bagaimana membacanya?\n",
        "\n",
        "\n",
        "Semakin tinggi kurva, semakin baik model.\n",
        "\n",
        "ROC yang mendekati diagonal (AUC ≈ 0.5) berarti model tidak berguna."
      ],
      "metadata": {
        "id": "xNoZGhuQB59d"
      }
    }
  ],
  "metadata": {
    "accelerator": "GPU",
    "colab": {
      "gpuType": "T4",
      "provenance": [],
      "authorship_tag": "ABX9TyNciQe8qJov78ug9tqfB40F",
      "include_colab_link": true
    },
    "kernelspec": {
      "display_name": "Python 3",
      "name": "python3"
    },
    "language_info": {
      "name": "python"
    }
  },
  "nbformat": 4,
  "nbformat_minor": 0
}