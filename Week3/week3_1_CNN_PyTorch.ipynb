{
  "cells": [
    {
      "cell_type": "markdown",
      "metadata": {
        "id": "view-in-github",
        "colab_type": "text"
      },
      "source": [
        "<a href=\"https://colab.research.google.com/github/nissrinayy/deeplearning/blob/main/Week3/week3_1_CNN_PyTorch.ipynb\" target=\"_parent\"><img src=\"https://colab.research.google.com/assets/colab-badge.svg\" alt=\"Open In Colab\"/></a>"
      ]
    },
    {
      "cell_type": "code",
      "execution_count": null,
      "metadata": {
        "id": "1BpjFSLmd8UW"
      },
      "outputs": [],
      "source": [
        "import torch\n",
        "import torch.nn as nn\n",
        "import torch.optim as optim\n",
        "import torchvision\n",
        "import torchvision.transforms as transforms\n",
        "import matplotlib.pyplot as plt\n",
        "import numpy as np\n",
        "from sklearn.metrics import accuracy_score, precision_score, recall_score, f1_score, roc_auc_score\n",
        "from torch.utils.data import DataLoader"
      ]
    },
    {
      "cell_type": "code",
      "execution_count": null,
      "metadata": {
        "id": "VU-KHjU-fNlj"
      },
      "outputs": [],
      "source": [
        "# Augmentasi Data untuk CNN\n",
        "transform_train = transforms.Compose([\n",
        "    transforms.RandomHorizontalFlip(),  # Flip secara horizontal\n",
        "    transforms.RandomRotation(10),      # Rotasi hingga 10 derajat\n",
        "    transforms.RandomCrop(32, padding=4), # Crop dengan padding\n",
        "    transforms.ToTensor(),\n",
        "    transforms.Normalize((0.5,), (0.5,))\n",
        "])\n",
        "\n",
        "transform_test = transforms.Compose([\n",
        "    transforms.ToTensor(),\n",
        "    transforms.Normalize((0.5,), (0.5,))\n",
        "])\n"
      ]
    },
    {
      "cell_type": "code",
      "execution_count": null,
      "metadata": {
        "id": "775weP5DfWvh"
      },
      "outputs": [],
      "source": [
        "# Load Dataset CIFAR-10\n",
        "trainset = torchvision.datasets.CIFAR10(root='./data', train=True, download=True, transform=transform_train)\n",
        "testset = torchvision.datasets.CIFAR10(root='./data', train=False, download=True, transform=transform_test)\n",
        "trainloader = torch.utils.data.DataLoader(trainset, batch_size=128, shuffle=True, num_workers=2)\n",
        "testloader = torch.utils.data.DataLoader(testset, batch_size=128, shuffle=False, num_workers=2)"
      ]
    },
    {
      "cell_type": "code",
      "execution_count": null,
      "metadata": {
        "colab": {
          "base_uri": "https://localhost:8080/"
        },
        "id": "NYOt3-XWfbzQ",
        "outputId": "65c6de7e-899f-40f0-950b-cc7820617bd2"
      },
      "outputs": [
        {
          "output_type": "stream",
          "name": "stdout",
          "text": [
            "Classes: ['airplane', 'automobile', 'bird', 'cat', 'deer', 'dog', 'frog', 'horse', 'ship', 'truck']\n"
          ]
        }
      ],
      "source": [
        "# Cek sample data\n",
        "classes = trainset.classes\n",
        "print(\"Classes:\", classes)"
      ]
    },
    {
      "cell_type": "code",
      "execution_count": null,
      "metadata": {
        "id": "1DdfliF8fe0F"
      },
      "outputs": [],
      "source": [
        "class MLP(nn.Module):\n",
        "    def __init__(self):\n",
        "        super(MLP, self).__init__()\n",
        "        self.fc1 = nn.Linear(32 * 32 * 3, 2048)  # Tambah Neuron\n",
        "        self.bn1 = nn.BatchNorm1d(2048)\n",
        "        self.fc2 = nn.Linear(2048, 1024)\n",
        "        self.bn2 = nn.BatchNorm1d(1024)\n",
        "        self.fc3 = nn.Linear(1024, 512)\n",
        "        self.fc4 = nn.Linear(512, 256)\n",
        "        self.fc5 = nn.Linear(256, 10)\n",
        "        self.relu = nn.ReLU()\n",
        "        self.dropout = nn.Dropout(0.3)\n",
        "\n",
        "    def forward(self, x):\n",
        "        x = x.view(x.size(0), -1)  # Flatten\n",
        "        x = self.relu(self.bn1(self.fc1(x)))\n",
        "        x = self.dropout(x)\n",
        "        x = self.relu(self.bn2(self.fc2(x)))\n",
        "        x = self.dropout(x)\n",
        "        x = self.relu(self.fc3(x))\n",
        "        x = self.dropout(x)\n",
        "        x = self.relu(self.fc4(x))\n",
        "        x = self.dropout(x)\n",
        "        x = self.fc5(x)\n",
        "        return x\n"
      ]
    },
    {
      "cell_type": "code",
      "execution_count": null,
      "metadata": {
        "id": "GFnkPae8fitq"
      },
      "outputs": [],
      "source": [
        "class CNN(nn.Module):\n",
        "    def __init__(self):\n",
        "        super(CNN, self).__init__()\n",
        "        self.conv1 = nn.Conv2d(3, 64, kernel_size=3, padding=1)\n",
        "        self.conv2 = nn.Conv2d(64, 128, kernel_size=3, padding=1)\n",
        "        self.conv3 = nn.Conv2d(128, 256, kernel_size=3, padding=1)\n",
        "        self.fc1 = nn.Linear(256 * 4 * 4, 512)\n",
        "        self.fc2 = nn.Linear(512, 10)\n",
        "        self.pool = nn.MaxPool2d(2, 2)\n",
        "        self.relu = nn.ReLU()\n",
        "        self.dropout = nn.Dropout(0.3)  # Dropout untuk Regularisasi\n",
        "\n",
        "    def forward(self, x):\n",
        "        x = self.pool(self.relu(self.conv1(x)))\n",
        "        x = self.pool(self.relu(self.conv2(x)))\n",
        "        x = self.pool(self.relu(self.conv3(x)))\n",
        "        x = x.view(x.size(0), -1)\n",
        "        x = self.relu(self.fc1(x))\n",
        "        x = self.dropout(x)\n",
        "        x = self.fc2(x)\n",
        "        return x\n"
      ]
    },
    {
      "cell_type": "code",
      "source": [
        "class EarlyStopping:\n",
        "    def __init__(self, patience=5):\n",
        "        self.patience = patience  # Jumlah epoch sebelum berhenti\n",
        "        self.best_acc = 0\n",
        "        self.counter = 0\n",
        "\n",
        "    def check(self, acc):\n",
        "        if acc > self.best_acc:\n",
        "            self.best_acc = acc\n",
        "            self.counter = 0\n",
        "        else:\n",
        "            self.counter += 1\n",
        "        return self.counter >= self.patience  # Jika counter mencapai patience, stop training\n"
      ],
      "metadata": {
        "id": "Chk7pFy3xVFd"
      },
      "execution_count": null,
      "outputs": []
    },
    {
      "cell_type": "code",
      "execution_count": null,
      "metadata": {
        "id": "I3xs_xzDflGb"
      },
      "outputs": [],
      "source": [
        "def train_model(model, criterion, optimizer, scheduler=None, num_epochs=20):\n",
        "    model.to(device)  # Pindahkan model ke GPU\n",
        "    model.train()\n",
        "    train_losses = []\n",
        "    train_accuracies = []\n",
        "    early_stopping = EarlyStopping(patience=5)  # **Deklarasikan di dalam fungsi**\n",
        "\n",
        "    for epoch in range(num_epochs):\n",
        "        running_loss = 0.0\n",
        "        correct = 0\n",
        "        total = 0\n",
        "\n",
        "        for images, labels in trainloader:\n",
        "            images, labels = images.to(device), labels.to(device)  # Pindahkan data ke GPU\n",
        "\n",
        "            optimizer.zero_grad()\n",
        "            outputs = model(images)\n",
        "            loss = criterion(outputs, labels)\n",
        "            loss.backward()\n",
        "            optimizer.step()\n",
        "\n",
        "            # Hitung training loss\n",
        "            running_loss += loss.item()\n",
        "\n",
        "            # Hitung training accuracy\n",
        "            _, predicted = torch.max(outputs, 1)\n",
        "            correct += (predicted == labels).sum().item()\n",
        "            total += labels.size(0)\n",
        "\n",
        "        # Update scheduler jika digunakan\n",
        "        if scheduler:\n",
        "            scheduler.step()\n",
        "\n",
        "        # Simpan loss dan akurasi\n",
        "        avg_loss = running_loss / len(trainloader)\n",
        "        train_accuracy = correct / total\n",
        "        train_losses.append(avg_loss)\n",
        "        train_accuracies.append(train_accuracy)\n",
        "\n",
        "        print(f\"Epoch {epoch+1}/{num_epochs}, Loss: {avg_loss:.4f}, Training Accuracy: {train_accuracy:.4f}, LR: {optimizer.param_groups[0]['lr']:.6f}\")\n",
        "\n",
        "        # **Cek Early Stopping**\n",
        "        if early_stopping.check(train_accuracy):\n",
        "            print(f\"Early stopping at epoch {epoch+1}\")\n",
        "            break  # Hentikan training\n",
        "\n",
        "    return train_losses, train_accuracies\n"
      ]
    },
    {
      "cell_type": "code",
      "execution_count": null,
      "metadata": {
        "id": "wW2fj6v_fnsT"
      },
      "outputs": [],
      "source": [
        "def evaluate_model(model):\n",
        "    model.to(device)  # Pindahkan model ke GPU\n",
        "    model.eval()\n",
        "    y_true, y_pred = [], []\n",
        "    correct = 0\n",
        "    total = 0\n",
        "\n",
        "    with torch.no_grad():\n",
        "        for images, labels in testloader:\n",
        "            images, labels = images.to(device), labels.to(device)  # Pindahkan data ke GPU\n",
        "            outputs = model(images)\n",
        "            _, predicted = torch.max(outputs, 1)\n",
        "\n",
        "            y_true.extend(labels.cpu().numpy())  # Kembalikan ke CPU sebelum diproses sklearn\n",
        "            y_pred.extend(predicted.cpu().numpy())\n",
        "\n",
        "            correct += (predicted == labels).sum().item()\n",
        "            total += labels.size(0)\n",
        "\n",
        "    # Hitung akurasi testing\n",
        "    test_accuracy = correct / total\n",
        "    precision = precision_score(y_true, y_pred, average='macro')\n",
        "    recall = recall_score(y_true, y_pred, average='macro')\n",
        "    f1 = f1_score(y_true, y_pred, average='macro')\n",
        "\n",
        "    print(f\"\\nTesting Accuracy: {test_accuracy:.4f}\")\n",
        "    print(f\"Precision: {precision:.4f}\")\n",
        "    print(f\"Recall: {recall:.4f}\")\n",
        "    print(f\"F1-Score: {f1:.4f}\")\n"
      ]
    },
    {
      "cell_type": "code",
      "execution_count": null,
      "metadata": {
        "colab": {
          "base_uri": "https://localhost:8080/"
        },
        "id": "Kgg3OPTrfsbf",
        "outputId": "4198e1f2-b2fa-4859-80e1-6d9b99e9f7f8"
      },
      "outputs": [
        {
          "output_type": "stream",
          "name": "stdout",
          "text": [
            "Using device: cuda\n",
            "\n",
            "Training CNN with Early Stopping...\n",
            "Epoch 1/20, Loss: 1.5718, Training Accuracy: 0.4184, LR: 0.001000\n",
            "Epoch 2/20, Loss: 1.2161, Training Accuracy: 0.5634, LR: 0.001000\n",
            "Epoch 3/20, Loss: 1.0306, Training Accuracy: 0.6325, LR: 0.001000\n",
            "Epoch 4/20, Loss: 0.9182, Training Accuracy: 0.6773, LR: 0.001000\n",
            "Epoch 5/20, Loss: 0.8400, Training Accuracy: 0.7058, LR: 0.000500\n",
            "Epoch 6/20, Loss: 0.7433, Training Accuracy: 0.7403, LR: 0.000500\n",
            "Epoch 7/20, Loss: 0.7036, Training Accuracy: 0.7534, LR: 0.000500\n",
            "Epoch 8/20, Loss: 0.6795, Training Accuracy: 0.7610, LR: 0.000500\n",
            "Epoch 9/20, Loss: 0.6600, Training Accuracy: 0.7698, LR: 0.000500\n",
            "Epoch 10/20, Loss: 0.6410, Training Accuracy: 0.7762, LR: 0.000250\n",
            "Epoch 11/20, Loss: 0.5897, Training Accuracy: 0.7952, LR: 0.000250\n",
            "Epoch 12/20, Loss: 0.5779, Training Accuracy: 0.7973, LR: 0.000250\n",
            "Epoch 13/20, Loss: 0.5647, Training Accuracy: 0.8018, LR: 0.000250\n",
            "Epoch 14/20, Loss: 0.5582, Training Accuracy: 0.8049, LR: 0.000250\n",
            "Epoch 15/20, Loss: 0.5457, Training Accuracy: 0.8084, LR: 0.000125\n",
            "Epoch 16/20, Loss: 0.5187, Training Accuracy: 0.8179, LR: 0.000125\n",
            "Epoch 17/20, Loss: 0.5156, Training Accuracy: 0.8173, LR: 0.000125\n",
            "Epoch 18/20, Loss: 0.5069, Training Accuracy: 0.8213, LR: 0.000125\n",
            "Epoch 19/20, Loss: 0.5052, Training Accuracy: 0.8211, LR: 0.000125\n",
            "Epoch 20/20, Loss: 0.5029, Training Accuracy: 0.8230, LR: 0.000063\n",
            "\n",
            "Evaluating CNN Model...\n",
            "\n",
            "Testing Accuracy: 0.8207\n",
            "Precision: 0.8214\n",
            "Recall: 0.8207\n",
            "F1-Score: 0.8205\n",
            "\n",
            "Training MLP with Early Stopping...\n",
            "Epoch 1/20, Loss: 1.8910, Training Accuracy: 0.3070, LR: 0.001000\n",
            "Epoch 2/20, Loss: 1.7350, Training Accuracy: 0.3754, LR: 0.001000\n",
            "Epoch 3/20, Loss: 1.6666, Training Accuracy: 0.3992, LR: 0.001000\n",
            "Epoch 4/20, Loss: 1.6246, Training Accuracy: 0.4163, LR: 0.001000\n",
            "Epoch 5/20, Loss: 1.5965, Training Accuracy: 0.4240, LR: 0.001000\n",
            "Epoch 6/20, Loss: 1.5667, Training Accuracy: 0.4379, LR: 0.001000\n",
            "Epoch 7/20, Loss: 1.5537, Training Accuracy: 0.4420, LR: 0.001000\n",
            "Epoch 8/20, Loss: 1.5312, Training Accuracy: 0.4520, LR: 0.001000\n",
            "Epoch 9/20, Loss: 1.5132, Training Accuracy: 0.4576, LR: 0.001000\n",
            "Epoch 10/20, Loss: 1.5008, Training Accuracy: 0.4623, LR: 0.001000\n",
            "Epoch 11/20, Loss: 1.4883, Training Accuracy: 0.4667, LR: 0.001000\n",
            "Epoch 12/20, Loss: 1.4685, Training Accuracy: 0.4739, LR: 0.001000\n",
            "Epoch 13/20, Loss: 1.4633, Training Accuracy: 0.4760, LR: 0.001000\n",
            "Epoch 14/20, Loss: 1.4555, Training Accuracy: 0.4806, LR: 0.001000\n",
            "Epoch 15/20, Loss: 1.4396, Training Accuracy: 0.4836, LR: 0.001000\n",
            "Epoch 16/20, Loss: 1.4287, Training Accuracy: 0.4890, LR: 0.001000\n",
            "Epoch 17/20, Loss: 1.4192, Training Accuracy: 0.4939, LR: 0.001000\n",
            "Epoch 18/20, Loss: 1.4109, Training Accuracy: 0.4952, LR: 0.001000\n",
            "Epoch 19/20, Loss: 1.4055, Training Accuracy: 0.4965, LR: 0.001000\n",
            "Epoch 20/20, Loss: 1.3931, Training Accuracy: 0.5053, LR: 0.001000\n",
            "\n",
            "Evaluating MLP Model...\n",
            "\n",
            "Testing Accuracy: 0.5361\n",
            "Precision: 0.5340\n",
            "Recall: 0.5361\n",
            "F1-Score: 0.5261\n"
          ]
        }
      ],
      "source": [
        "device = torch.device(\"cuda\" if torch.cuda.is_available() else \"cpu\")\n",
        "print(\"Using device:\", device)\n",
        "\n",
        "# Training CNN\n",
        "cnn_model = CNN().to(device)\n",
        "criterion = nn.CrossEntropyLoss()\n",
        "optimizer = optim.AdamW(cnn_model.parameters(), lr=0.001, weight_decay=0.01)\n",
        "scheduler = optim.lr_scheduler.StepLR(optimizer, step_size=5, gamma=0.5)\n",
        "\n",
        "print(\"\\nTraining CNN with Early Stopping...\")\n",
        "train_losses, train_accuracies = train_model(cnn_model, criterion, optimizer, scheduler, num_epochs=20)\n",
        "\n",
        "print(\"\\nEvaluating CNN Model...\")\n",
        "evaluate_model(cnn_model)\n",
        "\n",
        "# Training MLP\n",
        "mlp_model = MLP().to(device)\n",
        "optimizer = optim.AdamW(mlp_model.parameters(), lr=0.001, weight_decay=0.01)\n",
        "\n",
        "print(\"\\nTraining MLP with Early Stopping...\")\n",
        "train_losses, train_accuracies = train_model(mlp_model, criterion, optimizer, scheduler, num_epochs=20)\n",
        "\n",
        "print(\"\\nEvaluating MLP Model...\")\n",
        "evaluate_model(mlp_model)\n"
      ]
    },
    {
      "cell_type": "code",
      "source": [
        "plt.plot(range(1, len(train_accuracies) + 1), train_accuracies, label=\"Training Accuracy\")\n",
        "plt.xlabel(\"Epochs\")\n",
        "plt.ylabel(\"Accuracy\")\n",
        "plt.legend()\n",
        "plt.show()\n"
      ],
      "metadata": {
        "colab": {
          "base_uri": "https://localhost:8080/",
          "height": 449
        },
        "id": "OaN21sUefzx4",
        "outputId": "9df69812-1546-410b-82aa-042161937e00"
      },
      "execution_count": null,
      "outputs": [
        {
          "output_type": "display_data",
          "data": {
            "text/plain": [
              "<Figure size 640x480 with 1 Axes>"
            ],
            "image/png": "[encoded data removed]"
          },
          "metadata": {}
        }
      ]
    }
  ],
  "metadata": {
    "colab": {
      "provenance": [],
      "gpuType": "T4",
      "authorship_tag": "ABX9TyNa+ugEAMp0FK1AiJAU008H",
      "include_colab_link": true
    },
    "kernelspec": {
      "display_name": "Python 3",
      "name": "python3"
    },
    "language_info": {
      "name": "python"
    },
    "accelerator": "GPU"
  },
  "nbformat": 4,
  "nbformat_minor": 0
}