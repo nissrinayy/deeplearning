{
  "nbformat": 4,
  "nbformat_minor": 0,
  "metadata": {
    "colab": {
      "provenance": [],
      "gpuType": "T4",
      "authorship_tag": "ABX9TyNmM1z3Taj4OgChS3vYAPg8",
      "include_colab_link": true
    },
    "kernelspec": {
      "name": "python3",
      "display_name": "Python 3"
    },
    "language_info": {
      "name": "python"
    },
    "accelerator": "GPU"
  },
  "cells": [
    {
      "cell_type": "markdown",
      "metadata": {
        "id": "view-in-github",
        "colab_type": "text"
      },
      "source": [
        "<a href=\"https://colab.research.google.com/github/nissrinayy/deeplearning/blob/main/Week3/CNN_%26_MLP_Tensorflow_CIFAR10_Dataset.ipynb\" target=\"_parent\"><img src=\"https://colab.research.google.com/assets/colab-badge.svg\" alt=\"Open In Colab\"/></a>"
      ]
    },
    {
      "cell_type": "markdown",
      "source": [
        "# **CNN & MLP menggunakan TensorFlow🍿**"
      ],
      "metadata": {
        "id": "tcHMLjQt3hCF"
      }
    },
    {
      "cell_type": "markdown",
      "source": [
        "CNN dirancang khusus untuk menangani data berbentuk grid, seperti gambar.MLP menggunakan fungsi aktivasi seperti ReLU atau sigmoid untuk menangani non-linearitas.Cocok untuk data terstruktur seperti tabel dalam tugas regresi dan klasifikasi.\n",
        "\n",
        "MLP : Setiap neuron di satu lapisan terhubung penuh ke semua neuron di lapisan berikutnya (Fully Connected Layer).\n",
        "\n",
        "CNN : Menggunakan lapisan konvolusi untuk mengekstrak fitur dari gambar dengan filter (kernel).Memiliki pooling layer (misalnya MaxPooling) untuk mengurangi dimensi fitur dan mengurangi overfitting.\n",
        "\n",
        "\n",
        "\n",
        "\n",
        "\n"
      ],
      "metadata": {
        "id": "HaifthFg3itD"
      }
    },
    {
      "cell_type": "markdown",
      "source": [
        "## Persiapan dan Instalasi🥨"
      ],
      "metadata": {
        "id": "wkiUDOFY3o3r"
      }
    },
    {
      "cell_type": "code",
      "execution_count": null,
      "metadata": {
        "id": "cxqk0sdC3_d7"
      },
      "outputs": [],
      "source": [
        "import tensorflow as tf\n",
        "from tensorflow import keras\n",
        "from tensorflow.keras import layers\n",
        "from tensorflow.keras.preprocessing.image import ImageDataGenerator\n",
        "import numpy as np\n",
        "import matplotlib.pyplot as plt\n",
        "from sklearn.metrics import classification_report, roc_curve, auc"
      ]
    },
    {
      "cell_type": "code",
      "source": [
        "# Gunakan GPU jika tersedia\n",
        "device_name = \"GPU\" if tf.config.list_physical_devices('GPU') else \"CPU\"\n",
        "print(f\"Using device: {device_name}\")\n"
      ],
      "metadata": {
        "colab": {
          "base_uri": "https://localhost:8080/"
        },
        "id": "ps8HFsp24Vvt",
        "outputId": "2019e681-9922-44a7-9c98-5ddd89414e24"
      },
      "execution_count": null,
      "outputs": [
        {
          "output_type": "stream",
          "name": "stdout",
          "text": [
            "Using device: GPU\n"
          ]
        }
      ]
    },
    {
      "cell_type": "markdown",
      "source": [
        "## Load Data📊"
      ],
      "metadata": {
        "id": "jxMyV07n3smw"
      }
    },
    {
      "cell_type": "code",
      "source": [
        "# Load dataset CIFAR-10\n",
        "(x_train, y_train), (x_test, y_test) = keras.datasets.cifar10.load_data()\n"
      ],
      "metadata": {
        "id": "17KmPeyy42FH"
      },
      "execution_count": null,
      "outputs": []
    },
    {
      "cell_type": "code",
      "source": [
        "# Normalisasi data ke range [0, 1]\n",
        "x_train, x_test = x_train / 255.0, x_test / 255.0\n",
        "\n"
      ],
      "metadata": {
        "id": "UYHBVKY046yo"
      },
      "execution_count": null,
      "outputs": []
    },
    {
      "cell_type": "code",
      "source": [
        "y_train, y_test = keras.utils.to_categorical(y_train, 10), keras.utils.to_categorical(y_test, 10)\n"
      ],
      "metadata": {
        "id": "DiO5oPDw-1f2"
      },
      "execution_count": null,
      "outputs": []
    },
    {
      "cell_type": "code",
      "source": [
        "# **Flatten label sebelum one-hot encoding (agar tetap 50000, bukan 500000)**\n",
        "\n",
        "#if y_train.shape[-1] == 1:\n",
        "#    y_train = keras.utils.to_categorical(y_train.flatten(), 10)\n",
        "#    y_test = keras.utils.to_categorical(y_test.flatten(), 10)\n",
        "\n"
      ],
      "metadata": {
        "id": "KVRAFnRh5Bmv"
      },
      "execution_count": null,
      "outputs": []
    },
    {
      "cell_type": "code",
      "source": [
        "# Cek ukuran data untuk memastikan kesesuaian\n",
        "print(f\"x_train shape: {x_train.shape}, y_train shape: {y_train.shape}\")\n",
        "print(f\"x_test shape: {x_test.shape}, y_test shape: {y_test.shape}\")"
      ],
      "metadata": {
        "colab": {
          "base_uri": "https://localhost:8080/"
        },
        "id": "RPl2qE3q7b3v",
        "outputId": "b2f1ee11-35b7-4427-c39e-219b805b5761"
      },
      "execution_count": null,
      "outputs": [
        {
          "output_type": "stream",
          "name": "stdout",
          "text": [
            "x_train shape: (50000, 32, 32, 3), y_train shape: (50000, 10)\n",
            "x_test shape: (10000, 32, 32, 3), y_test shape: (10000, 10)\n"
          ]
        }
      ]
    },
    {
      "cell_type": "code",
      "source": [
        "data_augmentation = keras.Sequential([\n",
        "    layers.RandomFlip(\"horizontal\"),\n",
        "    layers.RandomRotation(0.1),\n",
        "    layers.RandomZoom(0.1)\n",
        "])\n"
      ],
      "metadata": {
        "id": "qafJFGRg5b7H"
      },
      "execution_count": null,
      "outputs": []
    },
    {
      "cell_type": "markdown",
      "source": [
        "## Definisi Model🔖"
      ],
      "metadata": {
        "id": "bDEFS2ZA3xnJ"
      }
    },
    {
      "cell_type": "code",
      "source": [
        "def create_cnn():\n",
        "    model = keras.Sequential([\n",
        "        layers.Input(shape=(32, 32, 3)),\n",
        "        data_augmentation,  # Data Augmentation\n",
        "\n",
        "        layers.Conv2D(64, (3,3), activation='relu', padding='same'),\n",
        "        layers.BatchNormalization(),\n",
        "        layers.Conv2D(64, (3,3), activation='relu', padding='same'),\n",
        "        layers.BatchNormalization(),\n",
        "        layers.MaxPooling2D((2,2)),\n",
        "        layers.Dropout(0.25),\n",
        "\n",
        "        layers.Conv2D(128, (3,3), activation='relu', padding='same'),\n",
        "        layers.BatchNormalization(),\n",
        "        layers.Conv2D(128, (3,3), activation='relu', padding='same'),\n",
        "        layers.BatchNormalization(),\n",
        "        layers.MaxPooling2D((2,2)),\n",
        "        layers.Dropout(0.25),\n",
        "\n",
        "        layers.Conv2D(256, (3,3), activation='relu', padding='same'),\n",
        "        layers.BatchNormalization(),\n",
        "        layers.Conv2D(256, (3,3), activation='relu', padding='same'),\n",
        "        layers.BatchNormalization(),\n",
        "        layers.MaxPooling2D((2,2)),\n",
        "        layers.Dropout(0.4),\n",
        "\n",
        "        layers.Flatten(),\n",
        "        layers.Dense(512, activation='relu'),\n",
        "        layers.BatchNormalization(),\n",
        "        layers.Dropout(0.5),\n",
        "        layers.Dense(10, activation='softmax')\n",
        "    ])\n",
        "    return model"
      ],
      "metadata": {
        "id": "scnPvvc95e20"
      },
      "execution_count": null,
      "outputs": []
    },
    {
      "cell_type": "code",
      "source": [
        "def create_mlp():\n",
        "    model = keras.Sequential([\n",
        "        layers.Flatten(input_shape=(32, 32, 3)),\n",
        "        layers.Dense(512, activation=\"relu\"),\n",
        "        layers.Dropout(0.2),\n",
        "        layers.Dense(256, activation=\"relu\"),\n",
        "        layers.Dropout(0.2),\n",
        "        layers.Dense(128, activation=\"relu\"),\n",
        "        layers.Dropout(0.2),\n",
        "        layers.Dense(10, activation=\"softmax\")\n",
        "    ])\n",
        "    return model\n"
      ],
      "metadata": {
        "id": "tW-sbK0e5iDx"
      },
      "execution_count": null,
      "outputs": []
    },
    {
      "cell_type": "markdown",
      "source": [
        "## Definisi Train & Evaluate Model 🍳"
      ],
      "metadata": {
        "id": "pmmRW6Gu34pW"
      }
    },
    {
      "cell_type": "code",
      "source": [
        "def train_and_evaluate(model, model_name=\"Model\"):\n",
        "    model.compile(optimizer=keras.optimizers.AdamW(learning_rate=1e-3),\n",
        "                  loss=\"categorical_crossentropy\",\n",
        "                  metrics=[\"accuracy\"])\n",
        "\n",
        "\n",
        "    # ✅ Tambahkan ReduceLROnPlateau\n",
        "    lr_scheduler = keras.callbacks.ReduceLROnPlateau(monitor=\"val_loss\", factor=0.5, patience=3, min_lr=1e-6)\n",
        "\n",
        "    # Early stopping jika tidak ada peningkatan dalam 5 epoch\n",
        "    early_stopping = keras.callbacks.EarlyStopping(monitor=\"val_accuracy\", patience=5, restore_best_weights=True)\n",
        "\n",
        "    history = model.fit(x_train, y_train, epochs=20, batch_size=64, validation_data=(x_test, y_test),\n",
        "                        callbacks=[early_stopping, lr_scheduler], verbose=2)\n",
        "\n",
        "\n",
        "    # Evaluasi Model\n",
        "    train_acc = history.history[\"accuracy\"][-1]\n",
        "    test_loss, test_acc = model.evaluate(x_test, y_test, verbose=2)\n",
        "    print(f\"\\nCNN - Training Accuracy: {train_acc:.4f}, Testing Accuracy: {test_acc:.4f}\")\n",
        "\n",
        "    # Prediksi untuk evaluasi lebih lanjut\n",
        "    y_pred = model.predict(x_test)\n",
        "    y_pred_classes = np.argmax(y_pred, axis=1)\n",
        "    y_true_classes = np.argmax(y_test, axis=1)\n",
        "\n",
        "    # Tampilkan laporan klasifikasi\n",
        "    print(classification_report(y_true_classes, y_pred_classes))\n",
        "\n",
        "    # Hitung ROC & AUC\n",
        "    fpr, tpr, _ = roc_curve(y_test.ravel(), y_pred.ravel())\n",
        "    auc_score = auc(fpr, tpr)\n",
        "    print(f\"AUC Score: {auc_score:.4f}\")\n",
        "\n",
        "    # Plot ROC Curve\n",
        "    plt.figure()\n",
        "    plt.plot(fpr, tpr, label=f'{model_name} (AUC = {auc_score:.4f})')\n",
        "    plt.xlabel(\"False Positive Rate\")\n",
        "    plt.ylabel(\"True Positive Rate\")\n",
        "    plt.title(\"ROC Curve\")\n",
        "    plt.legend()\n",
        "    plt.show()\n"
      ],
      "metadata": {
        "id": "syn5RvB_53ix"
      },
      "execution_count": null,
      "outputs": []
    },
    {
      "cell_type": "markdown",
      "source": [
        "## Train & Evaluate Model 🐯"
      ],
      "metadata": {
        "id": "7rtZIk3g3-6N"
      }
    },
    {
      "cell_type": "code",
      "source": [
        "# Train & Evaluate CNN\n",
        "cnn_model = create_cnn()\n",
        "print(\"\\nTraining CNN Model...\")\n",
        "train_and_evaluate(cnn_model, \"CNN\")\n"
      ],
      "metadata": {
        "colab": {
          "base_uri": "https://localhost:8080/",
          "height": 1000
        },
        "id": "8qc1s2Ud65GY",
        "outputId": "e5a02c63-fc2e-43ab-b068-9055b7e47377"
      },
      "execution_count": null,
      "outputs": [
        {
          "output_type": "stream",
          "name": "stdout",
          "text": [
            "\n",
            "Training CNN Model...\n",
            "Epoch 1/20\n",
            "782/782 - 34s - 44ms/step - accuracy: 0.4184 - loss: 1.7697 - val_accuracy: 0.4979 - val_loss: 1.4805 - learning_rate: 1.0000e-03\n",
            "Epoch 2/20\n",
            "782/782 - 39s - 50ms/step - accuracy: 0.5629 - loss: 1.2414 - val_accuracy: 0.5663 - val_loss: 1.2706 - learning_rate: 1.0000e-03\n",
            "Epoch 3/20\n",
            "782/782 - 41s - 53ms/step - accuracy: 0.6280 - loss: 1.0537 - val_accuracy: 0.6105 - val_loss: 1.1217 - learning_rate: 1.0000e-03\n",
            "Epoch 4/20\n",
            "782/782 - 26s - 34ms/step - accuracy: 0.6685 - loss: 0.9432 - val_accuracy: 0.7157 - val_loss: 0.8121 - learning_rate: 1.0000e-03\n",
            "Epoch 5/20\n",
            "782/782 - 41s - 52ms/step - accuracy: 0.7008 - loss: 0.8600 - val_accuracy: 0.7162 - val_loss: 0.8384 - learning_rate: 1.0000e-03\n",
            "Epoch 6/20\n",
            "782/782 - 41s - 52ms/step - accuracy: 0.7205 - loss: 0.8024 - val_accuracy: 0.7406 - val_loss: 0.7770 - learning_rate: 1.0000e-03\n",
            "Epoch 7/20\n",
            "782/782 - 41s - 52ms/step - accuracy: 0.7383 - loss: 0.7598 - val_accuracy: 0.7207 - val_loss: 0.8309 - learning_rate: 1.0000e-03\n",
            "Epoch 8/20\n",
            "782/782 - 26s - 33ms/step - accuracy: 0.7550 - loss: 0.7080 - val_accuracy: 0.7488 - val_loss: 0.7795 - learning_rate: 1.0000e-03\n",
            "Epoch 9/20\n",
            "782/782 - 41s - 52ms/step - accuracy: 0.7635 - loss: 0.6786 - val_accuracy: 0.7624 - val_loss: 0.7084 - learning_rate: 1.0000e-03\n",
            "Epoch 10/20\n",
            "782/782 - 41s - 52ms/step - accuracy: 0.7777 - loss: 0.6476 - val_accuracy: 0.7717 - val_loss: 0.6791 - learning_rate: 1.0000e-03\n",
            "Epoch 11/20\n",
            "782/782 - 41s - 52ms/step - accuracy: 0.7870 - loss: 0.6201 - val_accuracy: 0.7943 - val_loss: 0.6136 - learning_rate: 1.0000e-03\n",
            "Epoch 12/20\n",
            "782/782 - 41s - 52ms/step - accuracy: 0.7935 - loss: 0.5988 - val_accuracy: 0.7909 - val_loss: 0.6275 - learning_rate: 1.0000e-03\n",
            "Epoch 13/20\n",
            "782/782 - 41s - 52ms/step - accuracy: 0.8000 - loss: 0.5814 - val_accuracy: 0.8146 - val_loss: 0.5452 - learning_rate: 1.0000e-03\n",
            "Epoch 14/20\n",
            "782/782 - 41s - 53ms/step - accuracy: 0.8069 - loss: 0.5628 - val_accuracy: 0.8273 - val_loss: 0.5146 - learning_rate: 1.0000e-03\n",
            "Epoch 15/20\n",
            "782/782 - 41s - 52ms/step - accuracy: 0.8138 - loss: 0.5354 - val_accuracy: 0.8062 - val_loss: 0.5730 - learning_rate: 1.0000e-03\n",
            "Epoch 16/20\n",
            "782/782 - 41s - 52ms/step - accuracy: 0.8189 - loss: 0.5321 - val_accuracy: 0.8200 - val_loss: 0.5410 - learning_rate: 1.0000e-03\n",
            "Epoch 17/20\n",
            "782/782 - 25s - 32ms/step - accuracy: 0.8246 - loss: 0.5121 - val_accuracy: 0.8164 - val_loss: 0.5497 - learning_rate: 1.0000e-03\n",
            "Epoch 18/20\n",
            "782/782 - 41s - 53ms/step - accuracy: 0.8458 - loss: 0.4500 - val_accuracy: 0.8500 - val_loss: 0.4460 - learning_rate: 5.0000e-04\n",
            "Epoch 19/20\n",
            "782/782 - 41s - 53ms/step - accuracy: 0.8501 - loss: 0.4346 - val_accuracy: 0.8606 - val_loss: 0.4184 - learning_rate: 5.0000e-04\n",
            "Epoch 20/20\n",
            "782/782 - 41s - 52ms/step - accuracy: 0.8532 - loss: 0.4245 - val_accuracy: 0.8604 - val_loss: 0.4195 - learning_rate: 5.0000e-04\n",
            "313/313 - 2s - 6ms/step - accuracy: 0.8606 - loss: 0.4184\n",
            "\n",
            "CNN - Training Accuracy: 0.8532, Testing Accuracy: 0.8606\n",
            "\u001b[1m313/313\u001b[0m \u001b[32m━━━━━━━━━━━━━━━━━━━━\u001b[0m\u001b[37m\u001b[0m \u001b[1m2s\u001b[0m 4ms/step\n",
            "              precision    recall  f1-score   support\n",
            "\n",
            "           0       0.86      0.89      0.87      1000\n",
            "           1       0.89      0.96      0.93      1000\n",
            "           2       0.88      0.78      0.83      1000\n",
            "           3       0.87      0.61      0.72      1000\n",
            "           4       0.90      0.80      0.84      1000\n",
            "           5       0.76      0.86      0.81      1000\n",
            "           6       0.80      0.95      0.87      1000\n",
            "           7       0.87      0.92      0.89      1000\n",
            "           8       0.94      0.91      0.92      1000\n",
            "           9       0.87      0.92      0.89      1000\n",
            "\n",
            "    accuracy                           0.86     10000\n",
            "   macro avg       0.86      0.86      0.86     10000\n",
            "weighted avg       0.86      0.86      0.86     10000\n",
            "\n",
            "AUC Score: 0.9900\n"
          ]
        },
        {
          "output_type": "display_data",
          "data": {
            "text/plain": [
              "<Figure size 640x480 with 1 Axes>"
            ],
            "image/png": "[encoded data removed]"
          },
          "metadata": {}
        }
      ]
    },
    {
      "cell_type": "code",
      "source": [
        "# Train & Evaluate MLP\n",
        "mlp_model = create_mlp()\n",
        "print(\"\\nTraining MLP Model...\")\n",
        "train_and_evaluate(mlp_model, \"MLP\")"
      ],
      "metadata": {
        "colab": {
          "base_uri": "https://localhost:8080/",
          "height": 1000
        },
        "id": "5d7XYw6x66Gb",
        "outputId": "da7a4ae8-9d89-4f23-ede7-0781f37e4f1e"
      },
      "execution_count": null,
      "outputs": [
        {
          "output_type": "stream",
          "name": "stderr",
          "text": [
            "/usr/local/lib/python3.11/dist-packages/keras/src/layers/reshaping/flatten.py:37: UserWarning: Do not pass an `input_shape`/`input_dim` argument to a layer. When using Sequential models, prefer using an `Input(shape)` object as the first layer in the model instead.\n",
            "  super().__init__(**kwargs)\n"
          ]
        },
        {
          "output_type": "stream",
          "name": "stdout",
          "text": [
            "\n",
            "Training MLP Model...\n",
            "Epoch 1/20\n",
            "782/782 - 10s - 13ms/step - accuracy: 0.2553 - loss: 2.0161 - val_accuracy: 0.3398 - val_loss: 1.8331 - learning_rate: 1.0000e-03\n",
            "Epoch 2/20\n",
            "782/782 - 3s - 4ms/step - accuracy: 0.3141 - loss: 1.8661 - val_accuracy: 0.3547 - val_loss: 1.7882 - learning_rate: 1.0000e-03\n",
            "Epoch 3/20\n",
            "782/782 - 3s - 4ms/step - accuracy: 0.3376 - loss: 1.8161 - val_accuracy: 0.3767 - val_loss: 1.7095 - learning_rate: 1.0000e-03\n",
            "Epoch 4/20\n",
            "782/782 - 3s - 3ms/step - accuracy: 0.3543 - loss: 1.7744 - val_accuracy: 0.4074 - val_loss: 1.6817 - learning_rate: 1.0000e-03\n",
            "Epoch 5/20\n",
            "782/782 - 5s - 7ms/step - accuracy: 0.3644 - loss: 1.7512 - val_accuracy: 0.3942 - val_loss: 1.6913 - learning_rate: 1.0000e-03\n",
            "Epoch 6/20\n",
            "782/782 - 5s - 6ms/step - accuracy: 0.3725 - loss: 1.7341 - val_accuracy: 0.4109 - val_loss: 1.6646 - learning_rate: 1.0000e-03\n",
            "Epoch 7/20\n",
            "782/782 - 3s - 4ms/step - accuracy: 0.3785 - loss: 1.7115 - val_accuracy: 0.4196 - val_loss: 1.6286 - learning_rate: 1.0000e-03\n",
            "Epoch 8/20\n",
            "782/782 - 3s - 4ms/step - accuracy: 0.3829 - loss: 1.7009 - val_accuracy: 0.4308 - val_loss: 1.6174 - learning_rate: 1.0000e-03\n",
            "Epoch 9/20\n",
            "782/782 - 3s - 4ms/step - accuracy: 0.3922 - loss: 1.6820 - val_accuracy: 0.4212 - val_loss: 1.6208 - learning_rate: 1.0000e-03\n",
            "Epoch 10/20\n",
            "782/782 - 4s - 6ms/step - accuracy: 0.3949 - loss: 1.6760 - val_accuracy: 0.4259 - val_loss: 1.5928 - learning_rate: 1.0000e-03\n",
            "Epoch 11/20\n",
            "782/782 - 5s - 7ms/step - accuracy: 0.3953 - loss: 1.6692 - val_accuracy: 0.4338 - val_loss: 1.5867 - learning_rate: 1.0000e-03\n",
            "Epoch 12/20\n",
            "782/782 - 3s - 4ms/step - accuracy: 0.4024 - loss: 1.6542 - val_accuracy: 0.4444 - val_loss: 1.5673 - learning_rate: 1.0000e-03\n",
            "Epoch 13/20\n",
            "782/782 - 5s - 6ms/step - accuracy: 0.4082 - loss: 1.6432 - val_accuracy: 0.4419 - val_loss: 1.5643 - learning_rate: 1.0000e-03\n",
            "Epoch 14/20\n",
            "782/782 - 5s - 6ms/step - accuracy: 0.4081 - loss: 1.6405 - val_accuracy: 0.4435 - val_loss: 1.5747 - learning_rate: 1.0000e-03\n",
            "Epoch 15/20\n",
            "782/782 - 3s - 4ms/step - accuracy: 0.4090 - loss: 1.6351 - val_accuracy: 0.4390 - val_loss: 1.5687 - learning_rate: 1.0000e-03\n",
            "Epoch 16/20\n",
            "782/782 - 3s - 4ms/step - accuracy: 0.4116 - loss: 1.6311 - val_accuracy: 0.4535 - val_loss: 1.5438 - learning_rate: 1.0000e-03\n",
            "Epoch 17/20\n",
            "782/782 - 3s - 4ms/step - accuracy: 0.4126 - loss: 1.6274 - val_accuracy: 0.4459 - val_loss: 1.5655 - learning_rate: 1.0000e-03\n",
            "Epoch 18/20\n",
            "782/782 - 3s - 4ms/step - accuracy: 0.4170 - loss: 1.6159 - val_accuracy: 0.4539 - val_loss: 1.5316 - learning_rate: 1.0000e-03\n",
            "Epoch 19/20\n",
            "782/782 - 3s - 4ms/step - accuracy: 0.4186 - loss: 1.6165 - val_accuracy: 0.4480 - val_loss: 1.5518 - learning_rate: 1.0000e-03\n",
            "Epoch 20/20\n",
            "782/782 - 5s - 6ms/step - accuracy: 0.4187 - loss: 1.6123 - val_accuracy: 0.4498 - val_loss: 1.5378 - learning_rate: 1.0000e-03\n",
            "313/313 - 1s - 4ms/step - accuracy: 0.4539 - loss: 1.5316\n",
            "\n",
            "CNN - Training Accuracy: 0.4187, Testing Accuracy: 0.4539\n",
            "\u001b[1m313/313\u001b[0m \u001b[32m━━━━━━━━━━━━━━━━━━━━\u001b[0m\u001b[37m\u001b[0m \u001b[1m1s\u001b[0m 3ms/step\n",
            "              precision    recall  f1-score   support\n",
            "\n",
            "           0       0.51      0.54      0.53      1000\n",
            "           1       0.61      0.50      0.55      1000\n",
            "           2       0.31      0.20      0.25      1000\n",
            "           3       0.30      0.20      0.24      1000\n",
            "           4       0.39      0.40      0.40      1000\n",
            "           5       0.40      0.34      0.37      1000\n",
            "           6       0.43      0.60      0.50      1000\n",
            "           7       0.47      0.53      0.50      1000\n",
            "           8       0.58      0.61      0.59      1000\n",
            "           9       0.45      0.61      0.52      1000\n",
            "\n",
            "    accuracy                           0.45     10000\n",
            "   macro avg       0.45      0.45      0.44     10000\n",
            "weighted avg       0.45      0.45      0.44     10000\n",
            "\n",
            "AUC Score: 0.8662\n"
          ]
        },
        {
          "output_type": "display_data",
          "data": {
            "text/plain": [
              "<Figure size 640x480 with 1 Axes>"
            ],
            "image/png": "[encoded data removed]"
          },
          "metadata": {}
        }
      ]
    },
    {
      "cell_type": "markdown",
      "source": [
        "#**Penjelasan Singkat**\n",
        "\n",
        "1️⃣ Akurasi (Accuracy)\n",
        "\n",
        "Akurasi mengukur seberapa banyak prediksi yang benar dibandingkan dengan total prediksi.\n",
        "\n",
        "\n",
        "Akurasi=\n",
        "\n",
        "*TP+TN/\n",
        "TP+TN+FP+FN*\n",
        "​\n",
        "\n",
        "📌 Keterangan:\n",
        "\n",
        "TP (True Positive) → Prediksi benar sebagai positif.\n",
        "\n",
        "TN (True Negative) → Prediksi benar sebagai negatif.\n",
        "\n",
        "FP (False Positive) → Prediksi salah sebagai positif.\n",
        "\n",
        "FN (False Negative) → Prediksi salah sebagai negatif.\n",
        "\n",
        "\n",
        "2️⃣ Presisi (Precision)\n",
        "\n",
        "Presisi mengukur seberapa akurat model dalam memprediksi kelas positif.\n",
        "\n",
        "Presisi=\n",
        "*TP/\n",
        "TP+FP*\n",
        "\n",
        "\n",
        "\n",
        "📌 Keterangan:\n",
        "\n",
        "Jika model memiliki presisi tinggi, berarti model jarang salah dalam memprediksi kelas positif.\n",
        "\n",
        "Jika presisi rendah, model sering salah memprediksi negatif sebagai positif (False Positive tinggi).\n",
        "\n",
        "3️⃣ Recall (Sensitivitas)\n",
        "\n",
        "Recall mengukur seberapa baik model dalam menangkap semua kasus positif.\n",
        "\n",
        "Recall=\n",
        "*TP/\n",
        "TP+FN*\n",
        "\n",
        "\n",
        "📌 Keterangan:\n",
        "\n",
        "Jika recall tinggi, berarti model berhasil menangkap hampir semua data positif.\n",
        "Jika recall rendah, model sering gagal mengenali positif sebagai negatif (False Negative tinggi).\n",
        "\n",
        "4️⃣ F1-Score (Harmonic Mean)\n",
        "F1-score menggabungkan presisi dan recall dalam satu metrik menggunakan rata-rata harmonik.\n",
        "\n",
        "𝐹\n",
        "1\n",
        "=\n",
        "2\n",
        "×\n",
        "Presisi\n",
        "×\n",
        "Recall/\n",
        "Presisi\n",
        "+\n",
        "Recall\n",
        "\n",
        "📌 Keterangan:\n",
        "\n",
        "F1-score tinggi berarti model seimbang dalam presisi dan recall.\n",
        "\n",
        "Bagus untuk dataset tidak seimbang, karena mempertimbangkan False Positive dan False Negative secara bersamaan.\n",
        "\n",
        "5️⃣ Area Under Curve (AUC - ROC)\n",
        "AUC (Area Under Curve) mengukur seberapa baik model membedakan antara kelas positif dan negatif.\n",
        "\n",
        "AUC berasal dari ROC Curve, yang membandingkan True Positive Rate (TPR) vs False Positive Rate (FPR).\n",
        "\n",
        "TPR\n",
        "=\n",
        "𝑇\n",
        "𝑃/\n",
        "𝑇\n",
        "𝑃\n",
        "+\n",
        "𝐹\n",
        "𝑁\n",
        "\n",
        "(Sama dengan Recall)\n",
        "\n",
        "*FPR=\n",
        "FP/\n",
        "FP+TN*\n",
        "\n",
        "📌 Keterangan:\n",
        "\n",
        "AUC = 1.0 → Model sempurna (memisahkan kelas dengan sempurna).\n",
        "AUC = 0.5 → Model acak (tidak lebih baik dari tebak-tebakan).\n",
        "AUC < 0.5 → Model lebih buruk dari acak (terbalik).\n",
        "\n",
        "6️⃣ Receiver Operating Characteristic (ROC) Curve\n",
        "\n",
        "ROC Curve adalah grafik yang membandingkan TPR vs FPR pada berbagai threshold.\n",
        "\n",
        "\n",
        "Sumbu X → FPR (False Positive Rate)\n",
        "\n",
        "Sumbu Y → TPR (True Positive Rate / Recall)\n",
        "\n",
        "📌 Bagaimana membacanya?\n",
        "\n",
        "\n",
        "Semakin tinggi kurva, semakin baik model.\n",
        "\n",
        "ROC yang mendekati diagonal (AUC ≈ 0.5) berarti model tidak berguna."
      ],
      "metadata": {
        "id": "gSz4aekCCINs"
      }
    }
  ]
}