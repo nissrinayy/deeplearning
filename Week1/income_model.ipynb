{
  "nbformat": 4,
  "nbformat_minor": 0,
  "metadata": {
    "colab": {
      "provenance": [],
      "authorship_tag": "ABX9TyP3WXOi5ZeRkDxRVMmtPHg2",
      "include_colab_link": true
    },
    "kernelspec": {
      "name": "python3",
      "display_name": "Python 3"
    },
    "language_info": {
      "name": "python"
    }
  },
  "cells": [
    {
      "cell_type": "markdown",
      "metadata": {
        "id": "view-in-github",
        "colab_type": "text"
      },
      "source": [
        "<a href=\"https://colab.research.google.com/github/nissrinayy/deeplearning/blob/main/Week1/income_model.ipynb\" target=\"_parent\"><img src=\"https://colab.research.google.com/assets/colab-badge.svg\" alt=\"Open In Colab\"/></a>"
      ]
    },
    {
      "cell_type": "code",
      "execution_count": 1,
      "metadata": {
        "colab": {
          "base_uri": "https://localhost:8080/",
          "height": 73
        },
        "id": "7DUUIF-8IMTv",
        "outputId": "4e7c69c5-d6d4-48c2-adb1-fa1398f48f34"
      },
      "outputs": [
        {
          "output_type": "display_data",
          "data": {
            "text/plain": [
              "<IPython.core.display.HTML object>"
            ],
            "text/html": [
              "\n",
              "     <input type=\"file\" id=\"files-bc37e3fa-ae51-49df-9837-2b3e6883bcbd\" name=\"files[]\" multiple disabled\n",
              "        style=\"border:none\" />\n",
              "     <output id=\"result-bc37e3fa-ae51-49df-9837-2b3e6883bcbd\">\n",
              "      Upload widget is only available when the cell has been executed in the\n",
              "      current browser session. Please rerun this cell to enable.\n",
              "      </output>\n",
              "      <script>// Copyright 2017 Google LLC\n",
              "//\n",
              "// Licensed under the Apache License, Version 2.0 (the \"License\");\n",
              "// you may not use this file except in compliance with the License.\n",
              "// You may obtain a copy of the License at\n",
              "//\n",
              "//      http://www.apache.org/licenses/LICENSE-2.0\n",
              "//\n",
              "// Unless required by applicable law or agreed to in writing, software\n",
              "// distributed under the License is distributed on an \"AS IS\" BASIS,\n",
              "// WITHOUT WARRANTIES OR CONDITIONS OF ANY KIND, either express or implied.\n",
              "// See the License for the specific language governing permissions and\n",
              "// limitations under the License.\n",
              "\n",
              "/**\n",
              " * @fileoverview Helpers for google.colab Python module.\n",
              " */\n",
              "(function(scope) {\n",
              "function span(text, styleAttributes = {}) {\n",
              "  const element = document.createElement('span');\n",
              "  element.textContent = text;\n",
              "  for (const key of Object.keys(styleAttributes)) {\n",
              "    element.style[key] = styleAttributes[key];\n",
              "  }\n",
              "  return element;\n",
              "}\n",
              "\n",
              "// Max number of bytes which will be uploaded at a time.\n",
              "const MAX_PAYLOAD_SIZE = 100 * 1024;\n",
              "\n",
              "function _uploadFiles(inputId, outputId) {\n",
              "  const steps = uploadFilesStep(inputId, outputId);\n",
              "  const outputElement = document.getElementById(outputId);\n",
              "  // Cache steps on the outputElement to make it available for the next call\n",
              "  // to uploadFilesContinue from Python.\n",
              "  outputElement.steps = steps;\n",
              "\n",
              "  return _uploadFilesContinue(outputId);\n",
              "}\n",
              "\n",
              "// This is roughly an async generator (not supported in the browser yet),\n",
              "// where there are multiple asynchronous steps and the Python side is going\n",
              "// to poll for completion of each step.\n",
              "// This uses a Promise to block the python side on completion of each step,\n",
              "// then passes the result of the previous step as the input to the next step.\n",
              "function _uploadFilesContinue(outputId) {\n",
              "  const outputElement = document.getElementById(outputId);\n",
              "  const steps = outputElement.steps;\n",
              "\n",
              "  const next = steps.next(outputElement.lastPromiseValue);\n",
              "  return Promise.resolve(next.value.promise).then((value) => {\n",
              "    // Cache the last promise value to make it available to the next\n",
              "    // step of the generator.\n",
              "    outputElement.lastPromiseValue = value;\n",
              "    return next.value.response;\n",
              "  });\n",
              "}\n",
              "\n",
              "/**\n",
              " * Generator function which is called between each async step of the upload\n",
              " * process.\n",
              " * @param {string} inputId Element ID of the input file picker element.\n",
              " * @param {string} outputId Element ID of the output display.\n",
              " * @return {!Iterable<!Object>} Iterable of next steps.\n",
              " */\n",
              "function* uploadFilesStep(inputId, outputId) {\n",
              "  const inputElement = document.getElementById(inputId);\n",
              "  inputElement.disabled = false;\n",
              "\n",
              "  const outputElement = document.getElementById(outputId);\n",
              "  outputElement.innerHTML = '';\n",
              "\n",
              "  const pickedPromise = new Promise((resolve) => {\n",
              "    inputElement.addEventListener('change', (e) => {\n",
              "      resolve(e.target.files);\n",
              "    });\n",
              "  });\n",
              "\n",
              "  const cancel = document.createElement('button');\n",
              "  inputElement.parentElement.appendChild(cancel);\n",
              "  cancel.textContent = 'Cancel upload';\n",
              "  const cancelPromise = new Promise((resolve) => {\n",
              "    cancel.onclick = () => {\n",
              "      resolve(null);\n",
              "    };\n",
              "  });\n",
              "\n",
              "  // Wait for the user to pick the files.\n",
              "  const files = yield {\n",
              "    promise: Promise.race([pickedPromise, cancelPromise]),\n",
              "    response: {\n",
              "      action: 'starting',\n",
              "    }\n",
              "  };\n",
              "\n",
              "  cancel.remove();\n",
              "\n",
              "  // Disable the input element since further picks are not allowed.\n",
              "  inputElement.disabled = true;\n",
              "\n",
              "  if (!files) {\n",
              "    return {\n",
              "      response: {\n",
              "        action: 'complete',\n",
              "      }\n",
              "    };\n",
              "  }\n",
              "\n",
              "  for (const file of files) {\n",
              "    const li = document.createElement('li');\n",
              "    li.append(span(file.name, {fontWeight: 'bold'}));\n",
              "    li.append(span(\n",
              "        `(${file.type || 'n/a'}) - ${file.size} bytes, ` +\n",
              "        `last modified: ${\n",
              "            file.lastModifiedDate ? file.lastModifiedDate.toLocaleDateString() :\n",
              "                                    'n/a'} - `));\n",
              "    const percent = span('0% done');\n",
              "    li.appendChild(percent);\n",
              "\n",
              "    outputElement.appendChild(li);\n",
              "\n",
              "    const fileDataPromise = new Promise((resolve) => {\n",
              "      const reader = new FileReader();\n",
              "      reader.onload = (e) => {\n",
              "        resolve(e.target.result);\n",
              "      };\n",
              "      reader.readAsArrayBuffer(file);\n",
              "    });\n",
              "    // Wait for the data to be ready.\n",
              "    let fileData = yield {\n",
              "      promise: fileDataPromise,\n",
              "      response: {\n",
              "        action: 'continue',\n",
              "      }\n",
              "    };\n",
              "\n",
              "    // Use a chunked sending to avoid message size limits. See b/62115660.\n",
              "    let position = 0;\n",
              "    do {\n",
              "      const length = Math.min(fileData.byteLength - position, MAX_PAYLOAD_SIZE);\n",
              "      const chunk = new Uint8Array(fileData, position, length);\n",
              "      position += length;\n",
              "\n",
              "      const base64 = btoa(String.fromCharCode.apply(null, chunk));\n",
              "      yield {\n",
              "        response: {\n",
              "          action: 'append',\n",
              "          file: file.name,\n",
              "          data: base64,\n",
              "        },\n",
              "      };\n",
              "\n",
              "      let percentDone = fileData.byteLength === 0 ?\n",
              "          100 :\n",
              "          Math.round((position / fileData.byteLength) * 100);\n",
              "      percent.textContent = `${percentDone}% done`;\n",
              "\n",
              "    } while (position < fileData.byteLength);\n",
              "  }\n",
              "\n",
              "  // All done.\n",
              "  yield {\n",
              "    response: {\n",
              "      action: 'complete',\n",
              "    }\n",
              "  };\n",
              "}\n",
              "\n",
              "scope.google = scope.google || {};\n",
              "scope.google.colab = scope.google.colab || {};\n",
              "scope.google.colab._files = {\n",
              "  _uploadFiles,\n",
              "  _uploadFilesContinue,\n",
              "};\n",
              "})(self);\n",
              "</script> "
            ]
          },
          "metadata": {}
        },
        {
          "output_type": "stream",
          "name": "stdout",
          "text": [
            "Saving income.csv to income.csv\n"
          ]
        }
      ],
      "source": [
        "from google.colab import files\n",
        "uploaded = files.upload()"
      ]
    },
    {
      "cell_type": "code",
      "source": [
        "import torch\n",
        "import torch.nn as nn\n",
        "import torch.optim as optim\n",
        "from torch.utils.data import DataLoader, TensorDataset\n",
        "import tensorflow as tf\n",
        "from tensorflow import keras\n",
        "from tensorflow.keras import layers\n",
        "import pandas as pd\n",
        "import numpy as np\n",
        "from sklearn.model_selection import train_test_split\n",
        "from sklearn.preprocessing import LabelEncoder, StandardScaler\n",
        "from sklearn.metrics import accuracy_score, precision_score, recall_score, f1_score, roc_auc_score, roc_curve\n",
        "import matplotlib.pyplot as plt\n",
        "from scipy.special import softmax\n",
        "from sklearn.preprocessing import label_binarize\n",
        "from imblearn.over_sampling import SMOTE\n",
        "from sklearn.utils.class_weight import compute_class_weight"
      ],
      "metadata": {
        "id": "DwZMUZrtP37g"
      },
      "execution_count": 2,
      "outputs": []
    },
    {
      "cell_type": "code",
      "source": [
        "# Load dataset\n",
        "df = pd.read_csv(\"income.csv\")\n",
        "\n",
        "# Cek data\n",
        "print(df.info())"
      ],
      "metadata": {
        "colab": {
          "base_uri": "https://localhost:8080/"
        },
        "id": "9y6J5mqbP9uL",
        "outputId": "7b56ed6c-0fc7-4ffd-8569-27db5dcc9174"
      },
      "execution_count": 3,
      "outputs": [
        {
          "output_type": "stream",
          "name": "stdout",
          "text": [
            "<class 'pandas.core.frame.DataFrame'>\n",
            "RangeIndex: 48842 entries, 0 to 48841\n",
            "Data columns (total 15 columns):\n",
            " #   Column          Non-Null Count  Dtype \n",
            "---  ------          --------------  ----- \n",
            " 0   age             48842 non-null  int64 \n",
            " 1   workclass       47879 non-null  object\n",
            " 2   fnlwgt          48842 non-null  int64 \n",
            " 3   education       48842 non-null  object\n",
            " 4   education-num   48842 non-null  int64 \n",
            " 5   marital-status  48842 non-null  object\n",
            " 6   occupation      47876 non-null  object\n",
            " 7   relationship    48842 non-null  object\n",
            " 8   race            48842 non-null  object\n",
            " 9   sex             48842 non-null  object\n",
            " 10  capital-gain    48842 non-null  int64 \n",
            " 11  capital-loss    48842 non-null  int64 \n",
            " 12  hours-per-week  48842 non-null  int64 \n",
            " 13  native-country  48568 non-null  object\n",
            " 14  income          48842 non-null  object\n",
            "dtypes: int64(6), object(9)\n",
            "memory usage: 5.6+ MB\n",
            "None\n"
          ]
        }
      ]
    },
    {
      "cell_type": "code",
      "source": [
        "pd.set_option('display.max_columns', None)\n",
        "print(df.head())"
      ],
      "metadata": {
        "colab": {
          "base_uri": "https://localhost:8080/"
        },
        "id": "WpL8wsxYQEKC",
        "outputId": "457980d0-6df7-4970-eebf-dc250d1ad6a1"
      },
      "execution_count": 4,
      "outputs": [
        {
          "output_type": "stream",
          "name": "stdout",
          "text": [
            "   age         workclass  fnlwgt  education  education-num  \\\n",
            "0   39         State-gov   77516  Bachelors             13   \n",
            "1   50  Self-emp-not-inc   83311  Bachelors             13   \n",
            "2   38           Private  215646    HS-grad              9   \n",
            "3   53           Private  234721       11th              7   \n",
            "4   28           Private  338409  Bachelors             13   \n",
            "\n",
            "       marital-status         occupation   relationship   race     sex  \\\n",
            "0       Never-married       Adm-clerical  Not-in-family  White    Male   \n",
            "1  Married-civ-spouse    Exec-managerial        Husband  White    Male   \n",
            "2            Divorced  Handlers-cleaners  Not-in-family  White    Male   \n",
            "3  Married-civ-spouse  Handlers-cleaners        Husband  Black    Male   \n",
            "4  Married-civ-spouse     Prof-specialty           Wife  Black  Female   \n",
            "\n",
            "   capital-gain  capital-loss  hours-per-week native-country income  \n",
            "0          2174             0              40  United-States  <=50K  \n",
            "1             0             0              13  United-States  <=50K  \n",
            "2             0             0              40  United-States  <=50K  \n",
            "3             0             0              40  United-States  <=50K  \n",
            "4             0             0              40           Cuba  <=50K  \n"
          ]
        }
      ]
    },
    {
      "cell_type": "code",
      "source": [
        "df = df.copy()\n",
        "print(\"Unique income classes:\", df['income'].unique())\n"
      ],
      "metadata": {
        "colab": {
          "base_uri": "https://localhost:8080/"
        },
        "id": "OuqQMdPWj2tK",
        "outputId": "221fe179-e90c-4711-cf92-91a3874c134f"
      },
      "execution_count": 5,
      "outputs": [
        {
          "output_type": "stream",
          "name": "stdout",
          "text": [
            "Unique income classes: ['<=50K' '>50K' '<=50K.' '>50K.']\n"
          ]
        }
      ]
    },
    {
      "cell_type": "code",
      "source": [
        "# Gunakan LabelEncoder untuk mengonversi target ke kelas 0,1,2,3\n",
        "le = LabelEncoder()\n",
        "df['income'] = le.fit_transform(df['income'])\n",
        "\n",
        "# Encode semua fitur kategorikal\n",
        "categorical_cols = ['workclass', 'education', 'marital-status', 'occupation',\n",
        "                    'relationship', 'race', 'sex', 'native-country']\n",
        "for col in categorical_cols:\n",
        "    df.loc[:, col] = LabelEncoder().fit_transform(df[col])\n"
      ],
      "metadata": {
        "id": "nYpniaXdmUGm"
      },
      "execution_count": 6,
      "outputs": []
    },
    {
      "cell_type": "code",
      "source": [
        "# Pisahkan fitur dan target\n",
        "X = df.drop(columns=['income'])\n",
        "y = df['income']\n",
        "\n",
        "scaler = StandardScaler()\n",
        "X = scaler.fit_transform(X)\n"
      ],
      "metadata": {
        "id": "RCe6PF7BQUpy"
      },
      "execution_count": 7,
      "outputs": []
    },
    {
      "cell_type": "code",
      "source": [
        "# Bagi dataset menjadi training dan testing (80-20)\n",
        "X_train, X_test, y_train, y_test = train_test_split(X, y, test_size=0.2, random_state=42, stratify=y)\n"
      ],
      "metadata": {
        "id": "mJ2IA3DXQYh8"
      },
      "execution_count": 8,
      "outputs": []
    },
    {
      "cell_type": "code",
      "source": [
        "# === 3. Terapkan SMOTE (Menyeimbangkan Data) ===\n",
        "smote = SMOTE(random_state=42)\n",
        "X_train, y_train = smote.fit_resample(X_train, y_train)\n",
        "\n",
        "# Hitung class weight untuk training\n",
        "class_weights = compute_class_weight('balanced', classes=np.unique(y_train), y=y_train)\n",
        "class_weights_dict = dict(enumerate(class_weights))"
      ],
      "metadata": {
        "id": "e9kgU08gmjwp"
      },
      "execution_count": 9,
      "outputs": []
    },
    {
      "cell_type": "code",
      "source": [
        "# === 3. Terapkan Oversampling dan Augmentasi Data ===\n",
        "from imblearn.over_sampling import RandomOverSampler\n",
        "\n",
        "# 1️⃣ **Oversampling untuk Menyeimbangkan Data**\n",
        "oversample = RandomOverSampler(sampling_strategy='auto', random_state=42)\n",
        "X_train, y_train = oversample.fit_resample(X_train, y_train)\n",
        "\n",
        "# 2️⃣ **Jittering (Menambahkan Noise Kecil)**\n",
        "noise = np.random.normal(0, 0.02, X_train.shape)  # Gaussian Noise\n",
        "scale_variation = np.random.uniform(0.9, 1.1, X_train.shape)  # Variasi skala fitur\n",
        "\n",
        "# 3️⃣ **Gaussian Noise Dropout (Simulasi Missing Values)**\n",
        "dropout_mask = np.random.choice([0, 1], size=X_train.shape, p=[0.05, 0.95])  # 5% fitur di-nol-kan\n",
        "\n",
        "# 4️⃣ **Gabungkan Semua Augmentasi**\n",
        "X_train_aug = ((X_train + noise) * scale_variation) * dropout_mask  # Terapkan semua augmentasi\n",
        "\n",
        "# 5️⃣ **Gabungkan Data Asli & Augmentasi**\n",
        "X_train = np.vstack((X_train, X_train_aug))\n",
        "y_train = np.hstack((y_train, y_train))\n",
        "\n",
        "# 6️⃣ **Cek dataset setelah augmentasi**\n",
        "print(\"Ukuran X_train setelah augmentasi:\", X_train.shape)\n",
        "print(\"Ukuran y_train setelah augmentasi:\", y_train.shape)\n"
      ],
      "metadata": {
        "colab": {
          "base_uri": "https://localhost:8080/"
        },
        "id": "MmTuhwzkp0WC",
        "outputId": "c86f2ff8-fd99-45d3-cfc5-115b775397ad"
      },
      "execution_count": 10,
      "outputs": [
        {
          "output_type": "stream",
          "name": "stdout",
          "text": [
            "Ukuran X_train setelah augmentasi: (158200, 14)\n",
            "Ukuran y_train setelah augmentasi: (158200,)\n"
          ]
        }
      ]
    },
    {
      "cell_type": "code",
      "source": [
        "# === 4. Konversi ke Tensor untuk PyTorch ===\n",
        "X_train_torch = torch.tensor(X_train, dtype=torch.float32)\n",
        "y_train_torch = torch.tensor(y_train, dtype=torch.long)  # ✅ Benar\n",
        "X_test_torch = torch.tensor(X_test, dtype=torch.float32)\n",
        "y_test_torch = torch.tensor(y_test.values, dtype=torch.long)\n",
        "\n",
        "train_dataset = TensorDataset(X_train_torch, y_train_torch)\n",
        "test_dataset = TensorDataset(X_test_torch, y_test_torch)\n",
        "train_loader = DataLoader(train_dataset, batch_size=32, shuffle=True)\n",
        "test_loader = DataLoader(test_dataset, batch_size=32, shuffle=False)"
      ],
      "metadata": {
        "id": "-QYEXxaQQb8Z"
      },
      "execution_count": 11,
      "outputs": []
    },
    {
      "cell_type": "code",
      "source": [
        "# === 5. Konversi ke Tensor untuk TensorFlow ===\n",
        "X_train_tf = tf.convert_to_tensor(X_train, dtype=tf.float32)\n",
        "y_train_tf = tf.convert_to_tensor(y_train, dtype=tf.int32)\n",
        "X_test_tf = tf.convert_to_tensor(X_test, dtype=tf.float32)\n",
        "y_test_tf = tf.convert_to_tensor(y_test, dtype=tf.int32)\n"
      ],
      "metadata": {
        "id": "6XbKH1tnRuUr"
      },
      "execution_count": 12,
      "outputs": []
    },
    {
      "cell_type": "code",
      "source": [
        "# === 6. Model TensorFlow (Keras) ===\n",
        "from tensorflow.keras.regularizers import l1_l2\n",
        "\n",
        "model_tf = keras.Sequential([\n",
        "    layers.Input(shape=(X_train.shape[1],)),\n",
        "    layers.Dense(512, activation='relu', kernel_regularizer=l1_l2(l1=1e-5, l2=1e-4)),\n",
        "    layers.BatchNormalization(),\n",
        "    layers.Dropout(0.2),  # Kurangi dropout agar model tidak kehilangan terlalu banyak informasi\n",
        "    layers.Dense(256, activation='relu'),\n",
        "    layers.BatchNormalization(),\n",
        "    layers.Dense(128, activation='relu'),\n",
        "    layers.Dense(64, activation='relu'),\n",
        "    layers.Dense(4, activation='softmax')\n",
        "])\n",
        "\n",
        "lr_schedule = tf.keras.optimizers.schedules.ExponentialDecay(\n",
        "    initial_learning_rate=0.001, decay_steps=1000, decay_rate=0.9, staircase=True\n",
        ")\n",
        "optimizer = tf.keras.optimizers.Adam(learning_rate=lr_schedule)\n",
        "\n",
        "# ✅ Compile model dengan optimizer yang sudah memiliki decay\n",
        "model_tf.compile(optimizer=optimizer, loss='sparse_categorical_crossentropy', metrics=['accuracy'])\n",
        "\n",
        "# ✅ Training model\n",
        "history_tf = model_tf.fit(\n",
        "    X_train_tf, y_train_tf,\n",
        "    epochs=10, batch_size=32,\n",
        "    validation_data=(X_test_tf, y_test_tf),\n",
        "    verbose=1, class_weight=class_weights_dict\n",
        ")\n"
      ],
      "metadata": {
        "colab": {
          "base_uri": "https://localhost:8080/"
        },
        "id": "oJvn-LSgRyPL",
        "outputId": "98405ac3-a074-46c9-a986-4353807581fb"
      },
      "execution_count": 13,
      "outputs": [
        {
          "output_type": "stream",
          "name": "stdout",
          "text": [
            "Epoch 1/10\n",
            "\u001b[1m4944/4944\u001b[0m \u001b[32m━━━━━━━━━━━━━━━━━━━━\u001b[0m\u001b[37m\u001b[0m \u001b[1m46s\u001b[0m 8ms/step - accuracy: 0.4351 - loss: 1.1023 - val_accuracy: 0.4270 - val_loss: 1.0656\n",
            "Epoch 2/10\n",
            "\u001b[1m4944/4944\u001b[0m \u001b[32m━━━━━━━━━━━━━━━━━━━━\u001b[0m\u001b[37m\u001b[0m \u001b[1m78s\u001b[0m 8ms/step - accuracy: 0.4693 - loss: 1.0311 - val_accuracy: 0.4365 - val_loss: 1.0483\n",
            "Epoch 3/10\n",
            "\u001b[1m4944/4944\u001b[0m \u001b[32m━━━━━━━━━━━━━━━━━━━━\u001b[0m\u001b[37m\u001b[0m \u001b[1m44s\u001b[0m 9ms/step - accuracy: 0.4957 - loss: 0.9939 - val_accuracy: 0.3902 - val_loss: 1.0685\n",
            "Epoch 4/10\n",
            "\u001b[1m4944/4944\u001b[0m \u001b[32m━━━━━━━━━━━━━━━━━━━━\u001b[0m\u001b[37m\u001b[0m \u001b[1m84s\u001b[0m 9ms/step - accuracy: 0.5216 - loss: 0.9652 - val_accuracy: 0.4168 - val_loss: 1.0729\n",
            "Epoch 5/10\n",
            "\u001b[1m4944/4944\u001b[0m \u001b[32m━━━━━━━━━━━━━━━━━━━━\u001b[0m\u001b[37m\u001b[0m \u001b[1m47s\u001b[0m 9ms/step - accuracy: 0.5372 - loss: 0.9446 - val_accuracy: 0.4146 - val_loss: 1.0792\n",
            "Epoch 6/10\n",
            "\u001b[1m4944/4944\u001b[0m \u001b[32m━━━━━━━━━━━━━━━━━━━━\u001b[0m\u001b[37m\u001b[0m \u001b[1m87s\u001b[0m 11ms/step - accuracy: 0.5469 - loss: 0.9331 - val_accuracy: 0.4063 - val_loss: 1.0919\n",
            "Epoch 7/10\n",
            "\u001b[1m4944/4944\u001b[0m \u001b[32m━━━━━━━━━━━━━━━━━━━━\u001b[0m\u001b[37m\u001b[0m \u001b[1m54s\u001b[0m 11ms/step - accuracy: 0.5488 - loss: 0.9236 - val_accuracy: 0.4125 - val_loss: 1.0856\n",
            "Epoch 8/10\n",
            "\u001b[1m4944/4944\u001b[0m \u001b[32m━━━━━━━━━━━━━━━━━━━━\u001b[0m\u001b[37m\u001b[0m \u001b[1m76s\u001b[0m 10ms/step - accuracy: 0.5538 - loss: 0.9193 - val_accuracy: 0.4227 - val_loss: 1.0863\n",
            "Epoch 9/10\n",
            "\u001b[1m4944/4944\u001b[0m \u001b[32m━━━━━━━━━━━━━━━━━━━━\u001b[0m\u001b[37m\u001b[0m \u001b[1m49s\u001b[0m 10ms/step - accuracy: 0.5546 - loss: 0.9148 - val_accuracy: 0.4224 - val_loss: 1.0889\n",
            "Epoch 10/10\n",
            "\u001b[1m4944/4944\u001b[0m \u001b[32m━━━━━━━━━━━━━━━━━━━━\u001b[0m\u001b[37m\u001b[0m \u001b[1m53s\u001b[0m 11ms/step - accuracy: 0.5574 - loss: 0.9140 - val_accuracy: 0.4225 - val_loss: 1.0886\n"
          ]
        }
      ]
    },
    {
      "cell_type": "code",
      "source": [
        "# Prediksi TensorFlow\n",
        "y_pred_probs_tf = model_tf.predict(X_test_tf)\n",
        "y_pred_tf = np.argmax(y_pred_probs_tf, axis=1)"
      ],
      "metadata": {
        "colab": {
          "base_uri": "https://localhost:8080/"
        },
        "id": "R8XDZZWDkwsu",
        "outputId": "5fd30ec3-f95c-45ba-cfd4-4be05c49076c"
      },
      "execution_count": 14,
      "outputs": [
        {
          "output_type": "stream",
          "name": "stdout",
          "text": [
            "\u001b[1m306/306\u001b[0m \u001b[32m━━━━━━━━━━━━━━━━━━━━\u001b[0m\u001b[37m\u001b[0m \u001b[1m3s\u001b[0m 8ms/step\n"
          ]
        }
      ]
    },
    {
      "cell_type": "code",
      "source": [
        "# === 7. Model PyTorch ===\n",
        "class IncomeClassifier(nn.Module):\n",
        "    def __init__(self, input_dim, num_classes):\n",
        "        super(IncomeClassifier, self).__init__()\n",
        "        self.fc1 = nn.Linear(input_dim, 512)\n",
        "        self.bn1 = nn.BatchNorm1d(512)\n",
        "        self.fc2 = nn.Linear(512, 256)\n",
        "        self.bn2 = nn.BatchNorm1d(256)\n",
        "        self.fc3 = nn.Linear(256, 128)\n",
        "        self.fc4 = nn.Linear(128, 64)\n",
        "        self.fc5 = nn.Linear(64, num_classes)\n",
        "        self.relu = nn.ReLU()\n",
        "        self.dropout = nn.Dropout(0.2)  # ✅ Dropout lebih ringan\n",
        "\n",
        "    def forward(self, x):\n",
        "        x = self.relu(self.bn1(self.fc1(x)))\n",
        "        x = self.dropout(self.relu(self.bn2(self.fc2(x))))\n",
        "        x = self.relu(self.fc3(x))\n",
        "        x = self.relu(self.fc4(x))\n",
        "        x = self.fc5(x)\n",
        "        return x\n",
        "\n",
        "\n",
        "\n",
        "device = torch.device(\"cuda\" if torch.cuda.is_available() else \"cpu\")\n",
        "model_torch = IncomeClassifier(X_train.shape[1], 4).to(device)\n"
      ],
      "metadata": {
        "id": "sQND-gAaS-UL"
      },
      "execution_count": 15,
      "outputs": []
    },
    {
      "cell_type": "code",
      "source": [
        "# Konversi class weights ke tensor\n",
        "class_weights_tensor = torch.tensor(class_weights, dtype=torch.float32).to(device)\n",
        "\n",
        "# Gunakan Weighted Loss\n",
        "criterion = nn.CrossEntropyLoss(weight=class_weights_tensor)\n",
        "optimizer = optim.AdamW(model_torch.parameters(), lr=0.001, weight_decay=1e-5)\n",
        "scheduler = torch.optim.lr_scheduler.CosineAnnealingLR(optimizer, T_max=10)\n"
      ],
      "metadata": {
        "id": "ZS6zdG67nkmT"
      },
      "execution_count": 16,
      "outputs": []
    },
    {
      "cell_type": "code",
      "source": [
        "# Training PyTorch\n",
        "num_epochs = 10\n",
        "for epoch in range(num_epochs):\n",
        "    model_torch.train()\n",
        "    for inputs, labels in train_loader:\n",
        "        inputs, labels = inputs.to(device), labels.to(device)\n",
        "        optimizer.zero_grad()\n",
        "        outputs = model_torch(inputs)\n",
        "        loss = criterion(outputs, labels)\n",
        "        loss.backward()\n",
        "        optimizer.step()\n",
        "    scheduler.step(loss.item())\n",
        "\n"
      ],
      "metadata": {
        "colab": {
          "base_uri": "https://localhost:8080/"
        },
        "id": "WEBpdFN6TFXa",
        "outputId": "df3933d1-6be4-481e-bc73-fa98665934dd"
      },
      "execution_count": 17,
      "outputs": [
        {
          "output_type": "stream",
          "name": "stderr",
          "text": [
            "/usr/local/lib/python3.11/dist-packages/torch/optim/lr_scheduler.py:243: UserWarning: The epoch parameter in `scheduler.step()` was not necessary and is being deprecated where possible. Please use `scheduler.step()` to step the scheduler. During the deprecation, if epoch is different from None, the closed form is used instead of the new chainable form, where available. Please open an issue if you are unable to replicate your use case: https://github.com/pytorch/pytorch/issues/new/choose.\n",
            "  warnings.warn(EPOCH_DEPRECATION_WARNING, UserWarning)\n"
          ]
        }
      ]
    },
    {
      "cell_type": "code",
      "source": [
        "# Evaluasi PyTorch\n",
        "model_torch.eval()\n",
        "y_pred_probs_torch = []\n",
        "y_true = []\n",
        "with torch.no_grad():\n",
        "    for inputs, labels in test_loader:\n",
        "        inputs, labels = inputs.to(device), labels.to(device)\n",
        "        outputs = model_torch(inputs)\n",
        "        y_pred_probs_torch.extend(outputs.cpu().numpy())\n",
        "        y_true.extend(labels.cpu().numpy())\n",
        "\n",
        "y_pred_torch = np.argmax(y_pred_probs_torch, axis=1)\n"
      ],
      "metadata": {
        "id": "y0GANolrWcv-"
      },
      "execution_count": 18,
      "outputs": []
    },
    {
      "cell_type": "code",
      "source": [
        "# === 8. Evaluasi Model ===\n",
        "def evaluate_model(y_true, y_pred, y_pred_probs, model_name):\n",
        "    accuracy = accuracy_score(y_true, y_pred)\n",
        "    precision = precision_score(y_true, y_pred, average='macro')\n",
        "    recall = recall_score(y_true, y_pred, average='macro')\n",
        "    f1 = f1_score(y_true, y_pred, average='macro')\n",
        "    auc = roc_auc_score(label_binarize(y_true, classes=[0,1,2,3]), y_pred_probs, multi_class=\"ovr\")\n",
        "\n",
        "    print(f\"\\nEvaluasi Model {model_name}:\")\n",
        "    print(f\"Akurasi  : {accuracy:.4f}\")\n",
        "    print(f\"Presisi  : {precision:.4f}\")\n",
        "    print(f\"Recall   : {recall:.4f}\")\n",
        "    print(f\"F1-Score : {f1:.4f}\")\n",
        "    print(f\"AUC      : {auc:.4f}\")\n",
        "\n",
        "plt.figure(figsize=(6, 6))\n",
        "evaluate_model(y_test, y_pred_tf, y_pred_probs_tf, \"TensorFlow\")\n",
        "evaluate_model(y_test, y_pred_torch, y_pred_probs_torch, \"PyTorch\")\n",
        "\n",
        "plt.show()"
      ],
      "metadata": {
        "colab": {
          "base_uri": "https://localhost:8080/",
          "height": 277
        },
        "id": "yfShjSPFlLyk",
        "outputId": "e79f8c2a-0172-4295-a5a3-5d2c246fd4f7"
      },
      "execution_count": 19,
      "outputs": [
        {
          "output_type": "stream",
          "name": "stdout",
          "text": [
            "\n",
            "Evaluasi Model TensorFlow:\n",
            "Akurasi  : 0.4225\n",
            "Presisi  : 0.3958\n",
            "Recall   : 0.4311\n",
            "F1-Score : 0.3918\n",
            "AUC      : 0.7576\n",
            "\n",
            "Evaluasi Model PyTorch:\n",
            "Akurasi  : 0.4090\n",
            "Presisi  : 0.3900\n",
            "Recall   : 0.4263\n",
            "F1-Score : 0.3788\n",
            "AUC      : 0.7663\n"
          ]
        },
        {
          "output_type": "display_data",
          "data": {
            "text/plain": [
              "<Figure size 600x600 with 0 Axes>"
            ]
          },
          "metadata": {}
        }
      ]
    },
    {
      "cell_type": "code",
      "source": [
        "import matplotlib.pyplot as plt\n",
        "import seaborn as sns\n",
        "\n",
        "def plot_scatter(y_true, y_pred, model_name):\n",
        "    plt.figure(figsize=(6, 6))\n",
        "    plt.scatter(y_true, y_pred, alpha=0.3, color='blue')\n",
        "    plt.plot([0, 3], [0, 3], '--', color='red', label=\"Perfect Prediction\")  # Garis ideal\n",
        "    plt.xlabel(\"Actual Labels\")\n",
        "    plt.ylabel(\"Predicted Labels\")\n",
        "    plt.title(f\"Scatter Plot: Actual vs Predicted ({model_name})\")\n",
        "    plt.xticks(range(4))  # Pastikan hanya ada label 0, 1, 2, 3\n",
        "    plt.yticks(range(4))\n",
        "    plt.legend()\n",
        "    plt.show()\n",
        "\n",
        "# 🔥 Plot scatter untuk TensorFlow & PyTorch\n",
        "plot_scatter(y_test, y_pred_tf, \"TensorFlow\")\n",
        "plot_scatter(y_test, y_pred_torch, \"PyTorch\")\n"
      ],
      "metadata": {
        "colab": {
          "base_uri": "https://localhost:8080/",
          "height": 1000
        },
        "id": "cXn0qguYt8mM",
        "outputId": "97969508-a5d0-4a1f-ba5b-1839e8bacd93"
      },
      "execution_count": 20,
      "outputs": [
        {
          "output_type": "display_data",
          "data": {
            "text/plain": [
              "<Figure size 600x600 with 1 Axes>"
            ],
            "image/png": "[encoded data removed]"
          },
          "metadata": {}
        },
        {
          "output_type": "display_data",
          "data": {
            "text/plain": [
              "<Figure size 600x600 with 1 Axes>"
            ],
            "image/png": "[encoded data removed]"
          },
          "metadata": {}
        }
      ]
    },
    {
      "cell_type": "code",
      "source": [
        "# 🔥 Learning Curve: Loss vs Epoch\n",
        "plt.figure(figsize=(8, 5))\n",
        "plt.plot(history_tf.history['loss'], label='Training Loss', color='blue')\n",
        "plt.plot(history_tf.history['val_loss'], label='Validation Loss', color='red')\n",
        "plt.xlabel(\"Epochs\")\n",
        "plt.ylabel(\"Loss\")\n",
        "plt.title(\"Learning Curve: Loss vs Epoch (TensorFlow)\")\n",
        "plt.legend()\n",
        "plt.grid()\n",
        "plt.show()\n"
      ],
      "metadata": {
        "colab": {
          "base_uri": "https://localhost:8080/",
          "height": 487
        },
        "id": "tZTGvX6NuEN_",
        "outputId": "5da12cad-57b1-4399-83c4-1958373ada44"
      },
      "execution_count": 21,
      "outputs": [
        {
          "output_type": "display_data",
          "data": {
            "text/plain": [
              "<Figure size 800x500 with 1 Axes>"
            ],
            "image/png": "[encoded data removed]"
          },
          "metadata": {}
        }
      ]
    },
    {
      "cell_type": "markdown",
      "source": [
        "#**Penjelasan Singkat**\n",
        "\n",
        "1️⃣ Akurasi (Accuracy)\n",
        "\n",
        "Akurasi mengukur seberapa banyak prediksi yang benar dibandingkan dengan total prediksi.\n",
        "\n",
        "\n",
        "Akurasi=\n",
        "\n",
        "*TP+TN/\n",
        "TP+TN+FP+FN*\n",
        "​\n",
        "\n",
        "📌 Keterangan:\n",
        "\n",
        "TP (True Positive) → Prediksi benar sebagai positif.\n",
        "\n",
        "TN (True Negative) → Prediksi benar sebagai negatif.\n",
        "\n",
        "FP (False Positive) → Prediksi salah sebagai positif.\n",
        "\n",
        "FN (False Negative) → Prediksi salah sebagai negatif.\n",
        "\n",
        "\n",
        "2️⃣ Presisi (Precision)\n",
        "\n",
        "Presisi mengukur seberapa akurat model dalam memprediksi kelas positif.\n",
        "\n",
        "Presisi=\n",
        "*TP/\n",
        "TP+FP*\n",
        "\n",
        "\n",
        "\n",
        "📌 Keterangan:\n",
        "\n",
        "Jika model memiliki presisi tinggi, berarti model jarang salah dalam memprediksi kelas positif.\n",
        "\n",
        "Jika presisi rendah, model sering salah memprediksi negatif sebagai positif (False Positive tinggi).\n",
        "\n",
        "3️⃣ Recall (Sensitivitas)\n",
        "\n",
        "Recall mengukur seberapa baik model dalam menangkap semua kasus positif.\n",
        "\n",
        "Recall=\n",
        "*TP/\n",
        "TP+FN*\n",
        "\n",
        "\n",
        "📌 Keterangan:\n",
        "\n",
        "Jika recall tinggi, berarti model berhasil menangkap hampir semua data positif.\n",
        "Jika recall rendah, model sering gagal mengenali positif sebagai negatif (False Negative tinggi).\n",
        "\n",
        "4️⃣ F1-Score (Harmonic Mean)\n",
        "F1-score menggabungkan presisi dan recall dalam satu metrik menggunakan rata-rata harmonik.\n",
        "\n",
        "𝐹\n",
        "1\n",
        "=\n",
        "2\n",
        "×\n",
        "Presisi\n",
        "×\n",
        "Recall/\n",
        "Presisi\n",
        "+\n",
        "Recall\n",
        "\n",
        "📌 Keterangan:\n",
        "\n",
        "F1-score tinggi berarti model seimbang dalam presisi dan recall.\n",
        "\n",
        "Bagus untuk dataset tidak seimbang, karena mempertimbangkan False Positive dan False Negative secara bersamaan.\n",
        "\n",
        "5️⃣ Area Under Curve (AUC - ROC)\n",
        "AUC (Area Under Curve) mengukur seberapa baik model membedakan antara kelas positif dan negatif.\n",
        "\n",
        "AUC berasal dari ROC Curve, yang membandingkan True Positive Rate (TPR) vs False Positive Rate (FPR).\n",
        "\n",
        "TPR\n",
        "=\n",
        "𝑇\n",
        "𝑃/\n",
        "𝑇\n",
        "𝑃\n",
        "+\n",
        "𝐹\n",
        "𝑁\n",
        "\n",
        "(Sama dengan Recall)\n",
        "\n",
        "*FPR=\n",
        "FP/\n",
        "FP+TN*\n",
        "\n",
        "📌 Keterangan:\n",
        "\n",
        "AUC = 1.0 → Model sempurna (memisahkan kelas dengan sempurna).\n",
        "AUC = 0.5 → Model acak (tidak lebih baik dari tebak-tebakan).\n",
        "AUC < 0.5 → Model lebih buruk dari acak (terbalik).\n",
        "\n",
        "6️⃣ Receiver Operating Characteristic (ROC) Curve\n",
        "\n",
        "ROC Curve adalah grafik yang membandingkan TPR vs FPR pada berbagai threshold.\n",
        "\n",
        "\n",
        "Sumbu X → FPR (False Positive Rate)\n",
        "\n",
        "Sumbu Y → TPR (True Positive Rate / Recall)\n",
        "\n",
        "📌 Bagaimana membacanya?\n",
        "\n",
        "\n",
        "Semakin tinggi kurva, semakin baik model.\n",
        "\n",
        "ROC yang mendekati diagonal (AUC ≈ 0.5) berarti model tidak berguna."
      ],
      "metadata": {
        "id": "kgAuVjTdpgyN"
      }
    },
    {
      "cell_type": "markdown",
      "source": [
        "##**Model evaluasi terbaik**\n",
        "\n",
        "\n",
        "✅ 1️⃣ AUC - ROC (0.76)\n",
        "\n",
        "Alasan: Model masih belum sempurna dalam klasifikasi, tetapi AUC menunjukkan bahwa model cukup bisa membedakan kelas.\n",
        "\n",
        "✅ 2️⃣ F1-Score (38%)\n",
        "\n",
        "Alasan: Dataset tidak seimbang, sehingga kita harus mempertimbangkan False Positives & False Negatives.\n"
      ],
      "metadata": {
        "id": "HowPzz2ysSRv"
      }
    }
  ]
}